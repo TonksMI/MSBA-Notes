{
 "cells": [
  {
   "cell_type": "markdown",
   "id": "45f34fb4",
   "metadata": {},
   "source": [
    "\n",
    "# BUS 659 — Class 2 Problem Set: Data Manipulation & Plotting\n",
    "\n",
    "**Dataset:** `../datasets/movies_dataset.csv`  \n",
    "**Goal:** Practice core Python skills discussed in class & slides — loading data, inspecting structure, filtering, grouping, creating new variables, and making plots (scatter, smoothing lines, histograms, bars).  \n",
    "**Instructions:** Work directly in this notebook. For each question, write your code in the cell provided under the prompt. Add additional cells as needed.\n"
   ]
  },
  {
   "cell_type": "code",
   "execution_count": 1,
   "id": "506f6b4f",
   "metadata": {},
   "outputs": [],
   "source": [
    "# Please enter your name in a comment here, or maybe in a creative print statement\n",
    "# Lewis"
   ]
  },
  {
   "cell_type": "code",
   "execution_count": 2,
   "id": "275e0e9d",
   "metadata": {},
   "outputs": [],
   "source": [
    "# %%\n",
    "# Warm-up: imports and display options\n",
    "import pandas as pd\n",
    "import numpy as np\n",
    "\n",
    "pd.set_option('display.max_columns', 100)\n",
    "pd.set_option('display.width', 120)\n"
   ]
  },
  {
   "cell_type": "markdown",
   "id": "76af828e",
   "metadata": {},
   "source": [
    "\n",
    "### 1) Load the dataset\n",
    "Load `../datasets/movies_dataset.csv` into a DataFrame named `movies`. Show the shape.\n"
   ]
  },
  {
   "cell_type": "code",
   "execution_count": 3,
   "id": "9f7b251b",
   "metadata": {},
   "outputs": [],
   "source": [
    "movies = pd.read_csv('../datasets/movies_dataset.csv')"
   ]
  },
  {
   "cell_type": "markdown",
   "id": "dd00faef",
   "metadata": {},
   "source": [
    "\n",
    "### 2) Quick preview and columns\n",
    "Show the first 7 rows and list all column names.\n"
   ]
  },
  {
   "cell_type": "code",
   "execution_count": 4,
   "id": "12ed6c2d",
   "metadata": {},
   "outputs": [
    {
     "name": "stdout",
     "output_type": "stream",
     "text": [
      "             movie_title         original_title    director_name    actor_1_name          actor_2_name  \\\n",
      "0                Animale                Animale    Emma Benestan   Oulaya Amamra       Damien Rebattel   \n",
      "1   Deadpool & Wolverine   Deadpool & Wolverine       Shawn Levy   Ryan Reynolds          Hugh Jackman   \n",
      "2   Sonic the Hedgehog 3   Sonic the Hedgehog 3      Jeff Fowler      Jim Carrey          Ben Schwartz   \n",
      "3         The Wild Robot         The Wild Robot    Chris Sanders  Lupita Nyong'o          Pedro Pascal   \n",
      "4  Mufasa: The Lion King  Mufasa: The Lion King    Barry Jenkins    Aaron Pierre  Kelvin Harrison, Jr.   \n",
      "5           Inside Out 2           Inside Out 2      Kelsey Mann     Amy Poehler            Maya Hawke   \n",
      "6          The Substance          The Substance  Coralie Fargeat      Demi Moore      Margaret Qualley   \n",
      "\n",
      "         actor_3_name     budget       gross  title_year release_date  duration  vote_average  vote_count  popularity  \\\n",
      "0    Vivien Rodriguez    3800000       71924        2024   2024-09-20        98         6.806          18     48.6594   \n",
      "1         Emma Corrin  200000000  1338073645        2024   2024-07-24       128         7.600        7669     42.3129   \n",
      "2        Keanu Reeves  122000000   492162604        2024   2024-12-19       110         7.666        2908     39.7000   \n",
      "3          Kit Connor   78000000   331982078        2024   2024-09-12       102         8.314        5315     32.9376   \n",
      "4       Tiffany Boone  200000000   722631756        2024   2024-12-18       118         7.369        2340     31.6705   \n",
      "5  Kensington Tallman  200000000  1698863816        2024   2024-06-11        97         7.550        6098     30.3605   \n",
      "6        Dennis Quaid   17500000    76506196        2024   2024-09-07       141         7.147        5003     29.7776   \n",
      "\n",
      "                                 genres                         country original_language  \\\n",
      "0                  Fantasy|Drama|Horror                  Belgium|France                fr   \n",
      "1         Action|Comedy|Science Fiction        United States of America                en   \n",
      "2  Action|Science Fiction|Comedy|Family  United States of America|Japan                en   \n",
      "3      Animation|Science Fiction|Family        United States of America                en   \n",
      "4            Adventure|Family|Animation        United States of America                en   \n",
      "5     Animation|Adventure|Comedy|Family        United States of America                en   \n",
      "6          Drama|Horror|Science Fiction           France|United Kingdom                en   \n",
      "\n",
      "                                            overview                                            tagline  tmdb_id  \\\n",
      "0  Camargue, France - Nejma trains hard to win th...                                                NaN  1020822   \n",
      "1  A listless Wade Wilson toils away in civilian ...                                     Come together.   533535   \n",
      "2  Sonic, Knuckles, and Tails reunite against a p...                          New adventure. New rival.   939243   \n",
      "3  After a shipwreck, an intelligent robot called...                         Discover your true nature.  1184918   \n",
      "4  Mufasa, a cub lost and alone, meets a sympathe...          The story of an orphan who would be king.   762509   \n",
      "5  Teenager Riley's mind headquarters is undergoi...                        Make room for new emotions.  1022789   \n",
      "6  A fading celebrity decides to use a black mark...  Have you ever dreamt of a better version of yo...   933260   \n",
      "\n",
      "      imdb_id  \n",
      "0  tt27503400  \n",
      "1   tt6263850  \n",
      "2  tt18259086  \n",
      "3  tt29623480  \n",
      "4  tt13186482  \n",
      "5  tt22022452  \n",
      "6  tt17526714  \n"
     ]
    }
   ],
   "source": [
    "print(movies.head(7))\n"
   ]
  },
  {
   "cell_type": "markdown",
   "id": "9d6fa2a6",
   "metadata": {},
   "source": [
    "\n",
    "### 3) Types & missing values\n",
    "Display `movies.info()` and compute missing-value counts per column (sorted descending).\n"
   ]
  },
  {
   "cell_type": "code",
   "execution_count": 5,
   "id": "1c6684b5",
   "metadata": {},
   "outputs": [
    {
     "name": "stdout",
     "output_type": "stream",
     "text": [
      "<class 'pandas.core.frame.DataFrame'>\n",
      "RangeIndex: 3000 entries, 0 to 2999\n",
      "Data columns (total 21 columns):\n",
      " #   Column             Non-Null Count  Dtype  \n",
      "---  ------             --------------  -----  \n",
      " 0   movie_title        3000 non-null   object \n",
      " 1   original_title     3000 non-null   object \n",
      " 2   director_name      2901 non-null   object \n",
      " 3   actor_1_name       2902 non-null   object \n",
      " 4   actor_2_name       2772 non-null   object \n",
      " 5   actor_3_name       2614 non-null   object \n",
      " 6   budget             3000 non-null   int64  \n",
      " 7   gross              3000 non-null   int64  \n",
      " 8   title_year         3000 non-null   int64  \n",
      " 9   release_date       3000 non-null   object \n",
      " 10  duration           3000 non-null   int64  \n",
      " 11  vote_average       3000 non-null   float64\n",
      " 12  vote_count         3000 non-null   int64  \n",
      " 13  popularity         3000 non-null   float64\n",
      " 14  genres             2885 non-null   object \n",
      " 15  country            2580 non-null   object \n",
      " 16  original_language  3000 non-null   object \n",
      " 17  overview           2798 non-null   object \n",
      " 18  tagline            1980 non-null   object \n",
      " 19  tmdb_id            3000 non-null   int64  \n",
      " 20  imdb_id            2328 non-null   object \n",
      "dtypes: float64(2), int64(6), object(13)\n",
      "memory usage: 492.3+ KB\n"
     ]
    },
    {
     "data": {
      "application/vnd.microsoft.datawrangler.viewer.v0+json": {
       "columns": [
        {
         "name": "index",
         "rawType": "object",
         "type": "string"
        },
        {
         "name": "0",
         "rawType": "int64",
         "type": "integer"
        }
       ],
       "ref": "48f8bd5d-125a-4672-b449-df702a7a7643",
       "rows": [
        [
         "tagline",
         "1020"
        ],
        [
         "imdb_id",
         "672"
        ],
        [
         "country",
         "420"
        ],
        [
         "actor_3_name",
         "386"
        ],
        [
         "actor_2_name",
         "228"
        ],
        [
         "overview",
         "202"
        ],
        [
         "genres",
         "115"
        ],
        [
         "director_name",
         "99"
        ],
        [
         "actor_1_name",
         "98"
        ],
        [
         "popularity",
         "0"
        ],
        [
         "tmdb_id",
         "0"
        ],
        [
         "original_language",
         "0"
        ],
        [
         "movie_title",
         "0"
        ],
        [
         "vote_count",
         "0"
        ],
        [
         "vote_average",
         "0"
        ],
        [
         "original_title",
         "0"
        ],
        [
         "release_date",
         "0"
        ],
        [
         "title_year",
         "0"
        ],
        [
         "gross",
         "0"
        ],
        [
         "budget",
         "0"
        ],
        [
         "duration",
         "0"
        ]
       ],
       "shape": {
        "columns": 1,
        "rows": 21
       }
      },
      "text/plain": [
       "tagline              1020\n",
       "imdb_id               672\n",
       "country               420\n",
       "actor_3_name          386\n",
       "actor_2_name          228\n",
       "overview              202\n",
       "genres                115\n",
       "director_name          99\n",
       "actor_1_name           98\n",
       "popularity              0\n",
       "tmdb_id                 0\n",
       "original_language       0\n",
       "movie_title             0\n",
       "vote_count              0\n",
       "vote_average            0\n",
       "original_title          0\n",
       "release_date            0\n",
       "title_year              0\n",
       "gross                   0\n",
       "budget                  0\n",
       "duration                0\n",
       "dtype: int64"
      ]
     },
     "execution_count": 5,
     "metadata": {},
     "output_type": "execute_result"
    }
   ],
   "source": [
    "# note for missing values use: movies.isna().sum().sort_values(ascending=False)\n",
    "movies.info()\n",
    "movies.isna().sum().sort_values(ascending=False)"
   ]
  },
  {
   "cell_type": "markdown",
   "id": "f756721c",
   "metadata": {},
   "source": [
    "\n",
    "### 4) Filtering\n",
    "Create a filtered DataFrame of films released **after 2005** with **budget ≥ $20M**. Show the first 10 rows with the columns: `movie_title`, `title_year`, `budget`, and `gross`.\n"
   ]
  },
  {
   "cell_type": "code",
   "execution_count": 6,
   "id": "20a2c5c9",
   "metadata": {},
   "outputs": [
    {
     "name": "stdout",
     "output_type": "stream",
     "text": [
      "              movie_title  title_year     budget       gross\n",
      "0                 Animale        2024    3800000       71924\n",
      "1    Deadpool & Wolverine        2024  200000000  1338073645\n",
      "2    Sonic the Hedgehog 3        2024  122000000   492162604\n",
      "3          The Wild Robot        2024   78000000   331982078\n",
      "4   Mufasa: The Lion King        2024  200000000   722631756\n",
      "5            Inside Out 2        2024  200000000  1698863816\n",
      "6           The Substance        2024   17500000    76506196\n",
      "7                   Anora        2024    6000000    56286295\n",
      "8          Dune: Part Two        2024  190000000   714444358\n",
      "9       Kraven the Hunter        2024  130000000    62076533\n",
      "10  Bad Boys: Ride or Die        2024  100000000   404547819\n"
     ]
    }
   ],
   "source": [
    "Movies_post_2005 = movies[['movie_title','title_year','budget','gross']]\n",
    "print(Movies_post_2005.head(11))"
   ]
  },
  {
   "cell_type": "markdown",
   "id": "34ac16b0",
   "metadata": {},
   "source": [
    "\n",
    "### 5) Sorting & selecting\n",
    "Show the **top 15** films by **rating (`vote_average`)**, selecting columns `movie_title`, `vote_average`, `title_year`, `director_name`.\n"
   ]
  },
  {
   "cell_type": "code",
   "execution_count": 7,
   "id": "dc728821",
   "metadata": {},
   "outputs": [
    {
     "name": "stdout",
     "output_type": "stream",
     "text": [
      "      vote_average                  movie_title  title_year          director_name\n",
      "575           10.0                      JACKPOT        2023          Hjalte Larsen\n",
      "936           10.0                        Alive        2022          Stacie Hansen\n",
      "680           10.0  The Debacle of Mr. Eastward        2023             Boden Ford\n",
      "1419          10.0         It Ends With A Knife        2020      Kevin Lucero Less\n",
      "934           10.0           Dinner as a couple        2022      Jonathan Landeros\n",
      "1417          10.0              Milestone No. 2        2020      Nicholas Dapolito\n",
      "208           10.0               DIES MIRABILIS        2024       Louis  Vernocchi\n",
      "207           10.0                  El Redentor        2024        Andrew Bañuelos\n",
      "1409          10.0                 Article 21 A        2020             Mahi Dubey\n",
      "217           10.0                 Rekillection        2024          Cameron Cooke\n",
      "2651          10.0           Oye Kuch Kar Guzar        2016         Harris Rasheed\n",
      "2662          10.0                     Sarigama        2016  Somaratne Dissanayake\n",
      "2663          10.0      Saya e Khuda e Zuljalal        2016         Umair S. Fazli\n",
      "672           10.0  Azahriah: Papp László Arena        2023                    NaN\n",
      "2670          10.0         Auto Shop of Horrors        2016        Glenn Berggoetz\n",
      "2677          10.0                         Hævn        2016         Lucas A. Friis\n"
     ]
    }
   ],
   "source": [
    "Movies_by_vote_Avg = (movies.sort_values('vote_average', ascending=False)\n",
    "[['vote_average','movie_title', 'title_year', 'director_name']])\n",
    "\n",
    "print(Movies_by_vote_Avg.head(16))"
   ]
  },
  {
   "cell_type": "markdown",
   "id": "2b316d7b",
   "metadata": {},
   "source": [
    "\n",
    "### 6) Create new variables\n",
    "Create the following variables:\n",
    "- `profit = gross - budget`  \n",
    "- `roi = gross / budget` (handle division by zero safely)  \n",
    "- `log_budget` and `log_gross` as base-10 logs (handle zeros/nans).  \n",
    "Display the first 8 rows of these new columns.\n"
   ]
  },
  {
   "cell_type": "code",
   "execution_count": 8,
   "id": "e26a9273",
   "metadata": {},
   "outputs": [
    {
     "name": "stdout",
     "output_type": "stream",
     "text": [
      "             movie_title      profit       gross       roi  log_gross  log_budget   roi_log\n",
      "0                Animale    -3728076       71924  0.018927   4.856874    6.579784 -1.722910\n",
      "1   Deadpool & Wolverine  1138073645  1338073645  6.690368   9.126480    8.301030  0.825450\n",
      "2   Sonic the Hedgehog 3   370162604   492162604  4.034120   8.692109    8.086360  0.605749\n",
      "3         The Wild Robot   253982078   331982078  4.256180   8.521115    7.892095  0.629020\n",
      "4  Mufasa: The Lion King   522631756   722631756  3.613159   8.858917    8.301030  0.557887\n",
      "5           Inside Out 2  1498863816  1698863816  8.494319   9.230159    8.301030  0.929129\n",
      "6          The Substance    59006196    76506196  4.371783   7.883697    7.243038  0.640659\n",
      "7                  Anora    50286295    56286295  9.381049   7.750403    6.778151  0.972251\n",
      "8         Dune: Part Two   524444358   714444358  3.760233   8.853968    8.278754  0.575215\n"
     ]
    }
   ],
   "source": [
    "movies['profit'] = movies['gross'] - movies['budget']\n",
    "safe_budget = movies['budget'].replace({0: np.nan})\n",
    "movies['log_gross']  = np.log10(movies['gross'].replace({0: np.nan}))\n",
    "movies['log_budget']  = np.log10(movies['budget'].replace({0: np.nan}))\n",
    "\n",
    "movies['roi'] = movies['gross'] / safe_budget\n",
    "\n",
    "movies['roi_log'] = np.log10(movies['roi'])\n",
    "\n",
    "\n",
    "movie_calculations = movies[['movie_title','profit','gross','roi','log_gross','log_budget','roi_log']]\n",
    "\n",
    "print(movie_calculations.head(9))\n",
    "\n",
    "\n",
    "# Note to handle division by zero safely use: \n",
    "# safe_budget = movies['budget'].replace({0: np.nan})\n",
    "# movies['log_gross']  = np.log10(movies['gross'].replace({0: np.nan}))\n",
    "\n",
    "# Why? .replace({0: np.nan}) tells pandas to replace all 0 values with NaN (np.nan = “Not a Number”, a missing value placeholder).\n"
   ]
  },
  {
   "cell_type": "markdown",
   "id": "647974e4",
   "metadata": {},
   "source": [
    "\n",
    "### 7) Categoricals & flags\n",
    "Create:\n",
    "- `budget_category` with bins: (0, 1e6], (1e6, 50e6], (50e6, 100e6], (100e6, inf] labeled `Low`, `Medium`, `High`, `Blockbuster`  \n",
    "- `is_profitable` as a boolean (`profit` > 0)  \n",
    "Show a cross-tab of `budget_category` by `is_profitable`.\n"
   ]
  },
  {
   "cell_type": "code",
   "execution_count": 9,
   "id": "898751a6",
   "metadata": {},
   "outputs": [
    {
     "name": "stdout",
     "output_type": "stream",
     "text": [
      "is_profitable    False  True \n",
      "budget_category              \n",
      "Low                607    664\n",
      "Medium             667    758\n",
      "High                40    102\n",
      "Blockbuster         24    138\n"
     ]
    }
   ],
   "source": [
    "\n",
    "# budget_category = pd.cut(movies['budget'], bins=[0, 1e6, 50e6, 100e6, np.inf], labels=['Low','Medium','High','Blockbuster'])\n",
    "\n",
    "movies['budget_category'] = pd.cut(\n",
    "    movies['budget'],\n",
    "    bins=[0, 1e6, 50e6, 100e6, np.inf],\n",
    "    labels=['Low','Medium','High','Blockbuster']\n",
    ")\n",
    "\n",
    "movies['is_profitable'] = movies['profit'] > 0\n",
    "\n",
    "cross_tab = pd.crosstab(movies['budget_category'], movies['is_profitable'])\n",
    "print(cross_tab.head())\n"
   ]
  },
  {
   "cell_type": "markdown",
   "id": "367c9a2e",
   "metadata": {},
   "source": [
    "\n",
    "### 8) GroupBy\n",
    "Compute the **mean gross** and **median profit** by `title_year`. Return a tidy DataFrame sorted by `title_year` descending. Show the first 12 rows.\n"
   ]
  },
  {
   "cell_type": "code",
   "execution_count": 10,
   "id": "96fac151",
   "metadata": {},
   "outputs": [
    {
     "data": {
      "application/vnd.microsoft.datawrangler.viewer.v0+json": {
       "columns": [
        {
         "name": "title_year",
         "rawType": "int64",
         "type": "integer"
        },
        {
         "name": "mean",
         "rawType": "float64",
         "type": "float"
        },
        {
         "name": "median",
         "rawType": "float64",
         "type": "float"
        }
       ],
       "ref": "980bae6b-6afd-49be-a3f1-90f9f9494035",
       "rows": [
        [
         "2024",
         "25044212.202941176",
         "90.0"
        ],
        [
         "2023",
         "26495570.454081632",
         "40.0"
        ],
        [
         "2022",
         "29923795.333333332",
         "0.0"
        ],
        [
         "2021",
         "20158352.249070633",
         "0.0"
        ],
        [
         "2020",
         "9000978.015463918",
         "0.0"
        ],
        [
         "2019",
         "54388093.78625954",
         "875.0"
        ],
        [
         "2018",
         "48183579.3785489",
         "90000.0"
        ],
        [
         "2017",
         "47647273.3836478",
         "758483.0"
        ],
        [
         "2016",
         "49034519.46200608",
         "1007699.0"
        ],
        [
         "2015",
         "57550574.41489362",
         "885759.0"
        ]
       ],
       "shape": {
        "columns": 2,
        "rows": 10
       }
      },
      "text/html": [
       "<div>\n",
       "<style scoped>\n",
       "    .dataframe tbody tr th:only-of-type {\n",
       "        vertical-align: middle;\n",
       "    }\n",
       "\n",
       "    .dataframe tbody tr th {\n",
       "        vertical-align: top;\n",
       "    }\n",
       "\n",
       "    .dataframe thead th {\n",
       "        text-align: right;\n",
       "    }\n",
       "</style>\n",
       "<table border=\"1\" class=\"dataframe\">\n",
       "  <thead>\n",
       "    <tr style=\"text-align: right;\">\n",
       "      <th></th>\n",
       "      <th>mean</th>\n",
       "      <th>median</th>\n",
       "    </tr>\n",
       "    <tr>\n",
       "      <th>title_year</th>\n",
       "      <th></th>\n",
       "      <th></th>\n",
       "    </tr>\n",
       "  </thead>\n",
       "  <tbody>\n",
       "    <tr>\n",
       "      <th>2024</th>\n",
       "      <td>2.504421e+07</td>\n",
       "      <td>90.0</td>\n",
       "    </tr>\n",
       "    <tr>\n",
       "      <th>2023</th>\n",
       "      <td>2.649557e+07</td>\n",
       "      <td>40.0</td>\n",
       "    </tr>\n",
       "    <tr>\n",
       "      <th>2022</th>\n",
       "      <td>2.992380e+07</td>\n",
       "      <td>0.0</td>\n",
       "    </tr>\n",
       "    <tr>\n",
       "      <th>2021</th>\n",
       "      <td>2.015835e+07</td>\n",
       "      <td>0.0</td>\n",
       "    </tr>\n",
       "    <tr>\n",
       "      <th>2020</th>\n",
       "      <td>9.000978e+06</td>\n",
       "      <td>0.0</td>\n",
       "    </tr>\n",
       "    <tr>\n",
       "      <th>2019</th>\n",
       "      <td>5.438809e+07</td>\n",
       "      <td>875.0</td>\n",
       "    </tr>\n",
       "    <tr>\n",
       "      <th>2018</th>\n",
       "      <td>4.818358e+07</td>\n",
       "      <td>90000.0</td>\n",
       "    </tr>\n",
       "    <tr>\n",
       "      <th>2017</th>\n",
       "      <td>4.764727e+07</td>\n",
       "      <td>758483.0</td>\n",
       "    </tr>\n",
       "    <tr>\n",
       "      <th>2016</th>\n",
       "      <td>4.903452e+07</td>\n",
       "      <td>1007699.0</td>\n",
       "    </tr>\n",
       "    <tr>\n",
       "      <th>2015</th>\n",
       "      <td>5.755057e+07</td>\n",
       "      <td>885759.0</td>\n",
       "    </tr>\n",
       "  </tbody>\n",
       "</table>\n",
       "</div>"
      ],
      "text/plain": [
       "                    mean     median\n",
       "title_year                         \n",
       "2024        2.504421e+07       90.0\n",
       "2023        2.649557e+07       40.0\n",
       "2022        2.992380e+07        0.0\n",
       "2021        2.015835e+07        0.0\n",
       "2020        9.000978e+06        0.0\n",
       "2019        5.438809e+07      875.0\n",
       "2018        4.818358e+07    90000.0\n",
       "2017        4.764727e+07   758483.0\n",
       "2016        4.903452e+07  1007699.0\n",
       "2015        5.755057e+07   885759.0"
      ]
     },
     "execution_count": 10,
     "metadata": {},
     "output_type": "execute_result"
    }
   ],
   "source": [
    "movies.groupby('title_year')['profit'].agg(['mean','median']).sort_values(by='title_year', ascending=False).head(12)\n",
    "\n",
    "\n"
   ]
  },
  {
   "cell_type": "markdown",
   "id": "3364d067",
   "metadata": {},
   "source": [
    "\n",
    "### 9) Top-N within groups\n",
    "For each `title_year`, return the **top 2 films by gross** (show `title_year`, `movie_title`, `gross`). Combine results for all years into one DataFrame.\n"
   ]
  },
  {
   "cell_type": "code",
   "execution_count": 11,
   "id": "74e75c2a",
   "metadata": {},
   "outputs": [
    {
     "data": {
      "application/vnd.microsoft.datawrangler.viewer.v0+json": {
       "columns": [
        {
         "name": "index",
         "rawType": "int64",
         "type": "integer"
        },
        {
         "name": "title_year",
         "rawType": "int64",
         "type": "integer"
        },
        {
         "name": "movie_title",
         "rawType": "object",
         "type": "string"
        },
        {
         "name": "gross",
         "rawType": "int64",
         "type": "integer"
        }
       ],
       "ref": "7f2ecb1f-01f4-42aa-bc1b-be7697464f3f",
       "rows": [
        [
         "2732",
         "2015",
         "Star Wars: The Force Awakens",
         "2068223624"
        ],
        [
         "2720",
         "2015",
         "Jurassic World",
         "1671537444"
        ],
        [
         "2390",
         "2016",
         "Captain America: Civil War",
         "1155046416"
        ],
        [
         "2404",
         "2016",
         "Rogue One: A Star Wars Story",
         "1056057273"
        ],
        [
         "2082",
         "2017",
         "Star Wars: The Last Jedi",
         "1332698830"
        ],
        [
         "2086",
         "2017",
         "The Fate of the Furious",
         "1236000000"
        ],
        [
         "1754",
         "2018",
         "Avengers: Infinity War",
         "2052415039"
        ],
        [
         "1762",
         "2018",
         "Black Panther",
         "1349926083"
        ],
        [
         "1496",
         "2019",
         "Avengers: Endgame",
         "2799439100"
        ],
        [
         "1499",
         "2019",
         "Frozen II",
         "1453683476"
        ],
        [
         "1298",
         "2020",
         "Demon Slayer -Kimetsu no Yaiba- The Movie: Mugen Train",
         "523542183"
        ],
        [
         "1323",
         "2020",
         "The Eight Hundred",
         "461421559"
        ],
        [
         "1029",
         "2021",
         "Spider-Man: No Way Home",
         "1921847111"
        ],
        [
         "1084",
         "2021",
         "Hi, Mom",
         "822049668"
        ],
        [
         "733",
         "2022",
         "Avatar: The Way of Water",
         "2320250281"
        ],
        [
         "735",
         "2022",
         "Top Gun: Maverick",
         "1488732821"
        ],
        [
         "346",
         "2023",
         "Barbie",
         "1445638421"
        ],
        [
         "342",
         "2023",
         "The Super Mario Bros. Movie",
         "1362000000"
        ],
        [
         "5",
         "2024",
         "Inside Out 2",
         "1698863816"
        ],
        [
         "1",
         "2024",
         "Deadpool & Wolverine",
         "1338073645"
        ]
       ],
       "shape": {
        "columns": 3,
        "rows": 20
       }
      },
      "text/html": [
       "<div>\n",
       "<style scoped>\n",
       "    .dataframe tbody tr th:only-of-type {\n",
       "        vertical-align: middle;\n",
       "    }\n",
       "\n",
       "    .dataframe tbody tr th {\n",
       "        vertical-align: top;\n",
       "    }\n",
       "\n",
       "    .dataframe thead th {\n",
       "        text-align: right;\n",
       "    }\n",
       "</style>\n",
       "<table border=\"1\" class=\"dataframe\">\n",
       "  <thead>\n",
       "    <tr style=\"text-align: right;\">\n",
       "      <th></th>\n",
       "      <th>title_year</th>\n",
       "      <th>movie_title</th>\n",
       "      <th>gross</th>\n",
       "    </tr>\n",
       "  </thead>\n",
       "  <tbody>\n",
       "    <tr>\n",
       "      <th>2732</th>\n",
       "      <td>2015</td>\n",
       "      <td>Star Wars: The Force Awakens</td>\n",
       "      <td>2068223624</td>\n",
       "    </tr>\n",
       "    <tr>\n",
       "      <th>2720</th>\n",
       "      <td>2015</td>\n",
       "      <td>Jurassic World</td>\n",
       "      <td>1671537444</td>\n",
       "    </tr>\n",
       "    <tr>\n",
       "      <th>2390</th>\n",
       "      <td>2016</td>\n",
       "      <td>Captain America: Civil War</td>\n",
       "      <td>1155046416</td>\n",
       "    </tr>\n",
       "    <tr>\n",
       "      <th>2404</th>\n",
       "      <td>2016</td>\n",
       "      <td>Rogue One: A Star Wars Story</td>\n",
       "      <td>1056057273</td>\n",
       "    </tr>\n",
       "    <tr>\n",
       "      <th>2082</th>\n",
       "      <td>2017</td>\n",
       "      <td>Star Wars: The Last Jedi</td>\n",
       "      <td>1332698830</td>\n",
       "    </tr>\n",
       "    <tr>\n",
       "      <th>2086</th>\n",
       "      <td>2017</td>\n",
       "      <td>The Fate of the Furious</td>\n",
       "      <td>1236000000</td>\n",
       "    </tr>\n",
       "    <tr>\n",
       "      <th>1754</th>\n",
       "      <td>2018</td>\n",
       "      <td>Avengers: Infinity War</td>\n",
       "      <td>2052415039</td>\n",
       "    </tr>\n",
       "    <tr>\n",
       "      <th>1762</th>\n",
       "      <td>2018</td>\n",
       "      <td>Black Panther</td>\n",
       "      <td>1349926083</td>\n",
       "    </tr>\n",
       "    <tr>\n",
       "      <th>1496</th>\n",
       "      <td>2019</td>\n",
       "      <td>Avengers: Endgame</td>\n",
       "      <td>2799439100</td>\n",
       "    </tr>\n",
       "    <tr>\n",
       "      <th>1499</th>\n",
       "      <td>2019</td>\n",
       "      <td>Frozen II</td>\n",
       "      <td>1453683476</td>\n",
       "    </tr>\n",
       "    <tr>\n",
       "      <th>1298</th>\n",
       "      <td>2020</td>\n",
       "      <td>Demon Slayer -Kimetsu no Yaiba- The Movie: Mug...</td>\n",
       "      <td>523542183</td>\n",
       "    </tr>\n",
       "    <tr>\n",
       "      <th>1323</th>\n",
       "      <td>2020</td>\n",
       "      <td>The Eight Hundred</td>\n",
       "      <td>461421559</td>\n",
       "    </tr>\n",
       "    <tr>\n",
       "      <th>1029</th>\n",
       "      <td>2021</td>\n",
       "      <td>Spider-Man: No Way Home</td>\n",
       "      <td>1921847111</td>\n",
       "    </tr>\n",
       "    <tr>\n",
       "      <th>1084</th>\n",
       "      <td>2021</td>\n",
       "      <td>Hi, Mom</td>\n",
       "      <td>822049668</td>\n",
       "    </tr>\n",
       "    <tr>\n",
       "      <th>733</th>\n",
       "      <td>2022</td>\n",
       "      <td>Avatar: The Way of Water</td>\n",
       "      <td>2320250281</td>\n",
       "    </tr>\n",
       "    <tr>\n",
       "      <th>735</th>\n",
       "      <td>2022</td>\n",
       "      <td>Top Gun: Maverick</td>\n",
       "      <td>1488732821</td>\n",
       "    </tr>\n",
       "    <tr>\n",
       "      <th>346</th>\n",
       "      <td>2023</td>\n",
       "      <td>Barbie</td>\n",
       "      <td>1445638421</td>\n",
       "    </tr>\n",
       "    <tr>\n",
       "      <th>342</th>\n",
       "      <td>2023</td>\n",
       "      <td>The Super Mario Bros. Movie</td>\n",
       "      <td>1362000000</td>\n",
       "    </tr>\n",
       "    <tr>\n",
       "      <th>5</th>\n",
       "      <td>2024</td>\n",
       "      <td>Inside Out 2</td>\n",
       "      <td>1698863816</td>\n",
       "    </tr>\n",
       "    <tr>\n",
       "      <th>1</th>\n",
       "      <td>2024</td>\n",
       "      <td>Deadpool &amp; Wolverine</td>\n",
       "      <td>1338073645</td>\n",
       "    </tr>\n",
       "  </tbody>\n",
       "</table>\n",
       "</div>"
      ],
      "text/plain": [
       "      title_year                                        movie_title       gross\n",
       "2732        2015                       Star Wars: The Force Awakens  2068223624\n",
       "2720        2015                                     Jurassic World  1671537444\n",
       "2390        2016                         Captain America: Civil War  1155046416\n",
       "2404        2016                       Rogue One: A Star Wars Story  1056057273\n",
       "2082        2017                           Star Wars: The Last Jedi  1332698830\n",
       "2086        2017                            The Fate of the Furious  1236000000\n",
       "1754        2018                             Avengers: Infinity War  2052415039\n",
       "1762        2018                                      Black Panther  1349926083\n",
       "1496        2019                                  Avengers: Endgame  2799439100\n",
       "1499        2019                                          Frozen II  1453683476\n",
       "1298        2020  Demon Slayer -Kimetsu no Yaiba- The Movie: Mug...   523542183\n",
       "1323        2020                                  The Eight Hundred   461421559\n",
       "1029        2021                            Spider-Man: No Way Home  1921847111\n",
       "1084        2021                                            Hi, Mom   822049668\n",
       "733         2022                           Avatar: The Way of Water  2320250281\n",
       "735         2022                                  Top Gun: Maverick  1488732821\n",
       "346         2023                                             Barbie  1445638421\n",
       "342         2023                        The Super Mario Bros. Movie  1362000000\n",
       "5           2024                                       Inside Out 2  1698863816\n",
       "1           2024                               Deadpool & Wolverine  1338073645"
      ]
     },
     "execution_count": 11,
     "metadata": {},
     "output_type": "execute_result"
    }
   ],
   "source": [
    "top2_year = movies[['title_year', 'movie_title','gross']].sort_values(['title_year', 'gross'], ascending=[True, False])\n",
    "top2_year.groupby('title_year').head(2)\n",
    "\n"
   ]
  },
  {
   "cell_type": "markdown",
   "id": "73e5f05a",
   "metadata": {},
   "source": []
  },
  {
   "cell_type": "markdown",
   "id": "82052e64",
   "metadata": {},
   "source": [
    "\n",
    "### 10) Top categories\n",
    "Show the **top 12 countries** by number of films. Then filter `movies` to only those countries for the next questions.\n"
   ]
  },
  {
   "cell_type": "code",
   "execution_count": 12,
   "id": "97f06084",
   "metadata": {},
   "outputs": [
    {
     "name": "stdout",
     "output_type": "stream",
     "text": [
      "                   country_1  count\n",
      "0   United States of America    817\n",
      "1                      India    255\n",
      "2             United Kingdom    155\n",
      "3                     France    136\n",
      "4                     Canada    126\n",
      "5                      China     80\n",
      "6                     Brazil     72\n",
      "7                    Belgium     67\n",
      "8                  Australia     66\n",
      "9                      Italy     58\n",
      "10                    Russia     56\n",
      "11                     Spain     48\n",
      "                   country_2  count\n",
      "0   United States of America   1019\n",
      "1                      India    243\n",
      "2                     France    149\n",
      "3             United Kingdom    138\n",
      "4                     Brazil     62\n",
      "5                     Russia     62\n",
      "6                      Spain     59\n",
      "7                    Germany     53\n",
      "8                     Canada     53\n",
      "9                      Italy     50\n",
      "10                      Iran     47\n",
      "11                     China     44\n"
     ]
    }
   ],
   "source": [
    "#Cleaning Data so I can compare and contrast our results when we us the first country compared to the second\n",
    "movies[['country_1','country_2']] = movies['country'].str.split('|', n = 1, expand = True)\n",
    "\n",
    "#Filling null values caused by splitting string\n",
    "movies['country_2'] = movies['country_2'].fillna(movies['country_1'])\n",
    "\n",
    "\n",
    "top_countries_1 = movies['country_1'].value_counts().head(12).reset_index()\n",
    "print(top_countries_1)\n",
    "\n",
    "top_countries_2 = movies['country_2'].value_counts().head(12).reset_index()\n",
    "print(top_countries_2)\n",
    "\n"
   ]
  },
  {
   "cell_type": "markdown",
   "id": "3fa24391",
   "metadata": {},
   "source": [
    "\n",
    "### 11) Scatter with smoothing (plotnine)\n",
    "Using **plotnine**, make a scatter of `budget` vs `gross` colored by `vote_average`, then add a smoothing line (`geom_smooth`). Add appropriate labels.  \n",
    "*(Tip: If a figure doesn't render, try `print(plot_object)`.)*\n"
   ]
  },
  {
   "cell_type": "code",
   "execution_count": 14,
   "id": "1d4de457",
   "metadata": {},
   "outputs": [
    {
     "data": {
      "image/png": "[encoded data removed]"
     },
     "metadata": {
      "image/png": {
       "height": 480,
       "width": 640
      }
     },
     "output_type": "display_data"
    }
   ],
   "source": [
    "# import plotnine as p9\n",
    "from plotnine import ggplot, aes, geom_point, geom_smooth, labs, theme_minimal\n",
    "\n",
    "# Scatter with smoothing\n",
    "plot_object = (\n",
    "    ggplot(movies, aes(x='budget', y='gross', color='vote_average')) +\n",
    "    geom_point(alpha=0.6) +                           # scatterplot points\n",
    "    geom_smooth(se=False, color='black') +  # smoothing line\n",
    "    theme_minimal() +\n",
    "    labs(\n",
    "        title='Budget vs Gross (Colored by Vote Average)',\n",
    "        x='Budget',\n",
    "        y='Gross',\n",
    "        color='Vote Average'\n",
    "    )\n",
    ")\n",
    "\n",
    "# Print to render\n",
    "plot_object.show()\n"
   ]
  },
  {
   "cell_type": "markdown",
   "id": "6c9be482",
   "metadata": {},
   "source": [
    "\n",
    "### 12) Histogram of a new variable (plotnine)\n",
    "Make a histogram of **`roi`** with 40 bins. Add a vertical line at the median `roi`. *(Hint: `geom_vline`)*\n"
   ]
  },
  {
   "cell_type": "code",
   "execution_count": null,
   "id": "94c4fa2f",
   "metadata": {},
   "outputs": [],
   "source": []
  },
  {
   "cell_type": "markdown",
   "id": "675ccbb4",
   "metadata": {},
   "source": [
    "\n",
    "### 13) Faceted scatter (plotnine)\n",
    "Create a faceted scatter of `log_budget` vs `log_gross` by `budget_category`. Add a smoothing line without a confidence band.\n"
   ]
  },
  {
   "cell_type": "code",
   "execution_count": null,
   "id": "78977eb4",
   "metadata": {},
   "outputs": [],
   "source": []
  },
  {
   "cell_type": "markdown",
   "id": "7d76a8ed",
   "metadata": {},
   "source": [
    "\n",
    "### 14) One interactive plot (plotly)\n",
    "Using **plotly**, create an interactive scatter of `vote_average` vs `gross` with hover data (`movie_title`, `director_name`, `title_year`). Use a browser renderer.\n"
   ]
  },
  {
   "cell_type": "code",
   "execution_count": null,
   "id": "2d2438eb",
   "metadata": {},
   "outputs": [],
   "source": []
  }
 ],
 "metadata": {
  "kernelspec": {
   "display_name": "Python 3",
   "language": "python",
   "name": "python3"
  },
  "language_info": {
   "codemirror_mode": {
    "name": "ipython",
    "version": 3
   },
   "file_extension": ".py",
   "mimetype": "text/x-python",
   "name": "python",
   "nbconvert_exporter": "python",
   "pygments_lexer": "ipython3",
   "version": "3.13.7"
  }
 },
 "nbformat": 4,
 "nbformat_minor": 5
}
