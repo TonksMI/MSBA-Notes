{
 "cells": [
  {
   "cell_type": "markdown",
   "id": "43c139bd",
   "metadata": {},
   "source": [
    "# Lecture 3"
   ]
  },
  {
   "cell_type": "markdown",
   "id": "3831b0ad",
   "metadata": {},
   "source": [
    "# Markdown Basics for Jupyter Notebooks\n",
    "\n",
    "## Text Formatting\n",
    "- **Bold text**: `**bold**` or `__bold__`\n",
    "- *Italic text*: `*italic*` or `_italic_`\n",
    "- ***Bold and italic***: `***text***`\n",
    "- ~~Strikethrough~~: `~~text~~`\n",
    "- `Inline code`: `` `code` ``\n",
    "\n",
    "## Headers\n",
    "# Header 1: `# Header 1`\n",
    "## Header 2: `## Header 2`\n",
    "### Header 3: `### Header 3`\n",
    "#### Header 4: `#### Header 4`\n",
    "\n",
    "## Lists\n",
    "**Unordered:**\n",
    "- Item 1: `- Item 1`\n",
    "- Item 2: `* Item 2`\n",
    "  - Nested: `  - Nested`\n",
    "\n",
    "**Ordered:**\n",
    "1. First: `1. First`\n",
    "2. Second: `2. Second`\n",
    "   1. Nested: `   1. Nested`\n",
    "\n",
    "## Links and Images\n",
    "- [Link text](https://example.com): `[Link text](url)`\n",
    "- ![Alt text](image.png): `![Alt text](image_url)`\n",
    "\n",
    "## Code Blocks\n",
    "```python\n",
    "# Use triple backticks for code blocks\n",
    "import pandas as pd\n",
    "df = pd.read_csv('data.csv')\n",
    "```\n",
    "\n",
    "## Inline Math\n",
    "You can type math using $...$ and it will accept any latex commands e.g. $\\alpha$\n",
    "\n",
    "## Horizontal line\n",
    "\n",
    "Three or more dashes creates a horizontal line\n",
    "--- \n"
   ]
  },
  {
   "cell_type": "markdown",
   "id": "87035910",
   "metadata": {},
   "source": [
    "# Markdown Basics for Jupyter Notebooks\n",
    "\n",
    "## Text Formatting\n",
    "- **Bold text**: `**bold**` or `__bold__`\n",
    "- *Italic text*: `*italic*` or `_italic_`\n",
    "- ***Bold and italic***: `***text***`\n",
    "- ~~Strikethrough~~: `~~text~~`\n",
    "- `Inline code`: `` `code` ``\n",
    "\n",
    "## Headers\n",
    "# Header 1: `# Header 1`\n",
    "## Header 2: `## Header 2`\n",
    "### Header 3: `### Header 3`\n",
    "#### Header 4: `#### Header 4`\n",
    "\n",
    "## Lists\n",
    "**Unordered:**\n",
    "- Item 1: `- Item 1`\n",
    "- Item 2: `* Item 2`\n",
    "  - Nested: `  - Nested`\n",
    "\n",
    "**Ordered:**\n",
    "1. First: `1. First`\n",
    "2. Second: `2. Second`\n",
    "   1. Nested: `   1. Nested`\n",
    "\n",
    "## Links and Images\n",
    "- [Link text](https://example.com): `[Link text](url)`\n",
    "- ![Alt text](image.png): `![Alt text](image_url)`\n",
    "\n",
    "## Code Blocks\n",
    "```python\n",
    "# Use triple backticks for code blocks\n",
    "import pandas as pd\n",
    "df = pd.read_csv('data.csv')"
   ]
  },
  {
   "cell_type": "markdown",
   "id": "ca62151c",
   "metadata": {},
   "source": [
    "## Handling Categorical Data"
   ]
  },
  {
   "cell_type": "code",
   "execution_count": 97,
   "id": "12c2c03c",
   "metadata": {},
   "outputs": [],
   "source": [
    "# read in data frame\n",
    "import pandas as pd \n",
    "import warnings\n",
    "\n",
    "# Suppress all warnings\n",
    "warnings.filterwarnings(\"ignore\")\n",
    "\n",
    "movies = pd.read_csv('../datasets/movies_dataset.csv')"
   ]
  },
  {
   "cell_type": "code",
   "execution_count": 98,
   "id": "a06a2837",
   "metadata": {},
   "outputs": [
    {
     "data": {
      "text/plain": [
       "Index(['movie_title', 'original_title', 'director_name', 'actor_1_name',\n",
       "       'actor_2_name', 'actor_3_name', 'budget', 'gross', 'title_year',\n",
       "       'release_date', 'duration', 'vote_average', 'vote_count', 'popularity',\n",
       "       'genres', 'country', 'original_language', 'overview', 'tagline',\n",
       "       'tmdb_id', 'imdb_id'],\n",
       "      dtype='object')"
      ]
     },
     "execution_count": 98,
     "metadata": {},
     "output_type": "execute_result"
    }
   ],
   "source": [
    "movies.columns"
   ]
  },
  {
   "cell_type": "code",
   "execution_count": 99,
   "id": "ee1bc405",
   "metadata": {},
   "outputs": [
    {
     "data": {
      "application/vnd.microsoft.datawrangler.viewer.v0+json": {
       "columns": [
        {
         "name": "genres",
         "rawType": "object",
         "type": "string"
        },
        {
         "name": "count",
         "rawType": "int64",
         "type": "integer"
        }
       ],
       "ref": "4c905d55-4f34-40b0-aa75-54f74e651da9",
       "rows": [
        [
         "Drama",
         "245"
        ],
        [
         "Comedy",
         "162"
        ],
        [
         "Documentary",
         "111"
        ],
        [
         "Comedy|Drama",
         "84"
        ],
        [
         "Horror",
         "61"
        ],
        [
         "Horror|Thriller",
         "54"
        ],
        [
         "Drama|Romance",
         "49"
        ],
        [
         "Drama|History",
         "42"
        ],
        [
         "Drama|Comedy",
         "40"
        ],
        [
         "Drama|Thriller",
         "28"
        ],
        [
         "Thriller",
         "27"
        ],
        [
         "Comedy|Romance",
         "27"
        ],
        [
         "Romance|Drama",
         "26"
        ],
        [
         "Action|Crime|Thriller",
         "25"
        ],
        [
         "Action|Adventure|Science Fiction",
         "24"
        ],
        [
         "Action|Thriller",
         "20"
        ],
        [
         "Romance|Comedy",
         "20"
        ],
        [
         "Horror|Mystery",
         "18"
        ],
        [
         "Drama|Family",
         "18"
        ],
        [
         "Horror|Comedy",
         "18"
        ],
        [
         "Horror|Mystery|Thriller",
         "17"
        ],
        [
         "Action|Adventure|Thriller",
         "16"
        ],
        [
         "Action|Adventure|Fantasy",
         "16"
        ],
        [
         "Action",
         "16"
        ],
        [
         "Action|Drama",
         "15"
        ],
        [
         "Drama|Crime",
         "14"
        ],
        [
         "Comedy|Crime",
         "14"
        ],
        [
         "Comedy|Action",
         "14"
        ],
        [
         "Action|Comedy",
         "14"
        ],
        [
         "Comedy|Drama|Romance",
         "14"
        ],
        [
         "Crime|Drama",
         "13"
        ],
        [
         "History|Drama",
         "13"
        ],
        [
         "Music",
         "12"
        ],
        [
         "Thriller|Drama",
         "12"
        ],
        [
         "Documentary|Drama",
         "12"
        ],
        [
         "Animation",
         "12"
        ],
        [
         "Thriller|Horror",
         "12"
        ],
        [
         "Comedy|Horror",
         "11"
        ],
        [
         "Crime|Drama|Thriller",
         "11"
        ],
        [
         "Drama|War",
         "10"
        ],
        [
         "Horror|Drama",
         "10"
        ],
        [
         "Drama|Fantasy",
         "10"
        ],
        [
         "Family|Comedy|Adventure|Animation",
         "10"
        ],
        [
         "Drama|Action",
         "9"
        ],
        [
         "Mystery",
         "9"
        ],
        [
         "Drama|Music",
         "9"
        ],
        [
         "Drama|Mystery",
         "9"
        ],
        [
         "Fantasy",
         "9"
        ],
        [
         "Science Fiction",
         "9"
        ],
        [
         "Adventure",
         "9"
        ]
       ],
       "shape": {
        "columns": 1,
        "rows": 907
       }
      },
      "text/plain": [
       "genres\n",
       "Drama                               245\n",
       "Comedy                              162\n",
       "Documentary                         111\n",
       "Comedy|Drama                         84\n",
       "Horror                               61\n",
       "                                   ... \n",
       "Drama|Comedy|Fantasy                  1\n",
       "Crime|Mystery|Thriller|Action         1\n",
       "Drama|Fantasy|Horror                  1\n",
       "Action|Comedy|Mystery                 1\n",
       "Animation|Family|Fantasy|History      1\n",
       "Name: count, Length: 907, dtype: int64"
      ]
     },
     "execution_count": 99,
     "metadata": {},
     "output_type": "execute_result"
    }
   ],
   "source": [
    "movies['genres'].value_counts()"
   ]
  },
  {
   "cell_type": "code",
   "execution_count": 100,
   "id": "30d9599f",
   "metadata": {},
   "outputs": [
    {
     "data": {
      "text/plain": [
       "CategoricalDtype(categories=['Action', 'Action|Adventure',\n",
       "                  'Action|Adventure|Animation|Comedy|Family',\n",
       "                  'Action|Adventure|Animation|Family',\n",
       "                  'Action|Adventure|Comedy', 'Action|Adventure|Comedy|Crime',\n",
       "                  'Action|Adventure|Comedy|Documentary|Horror|Thriller|Science Fiction',\n",
       "                  'Action|Adventure|Comedy|Drama|Crime',\n",
       "                  'Action|Adventure|Comedy|Family|Fantasy|History',\n",
       "                  'Action|Adventure|Comedy|Family|Science Fiction',\n",
       "                  ...\n",
       "                  'Western', 'Western|Action|Drama', 'Western|Crime|Drama',\n",
       "                  'Western|Crime|Thriller', 'Western|Drama',\n",
       "                  'Western|Drama|Action', 'Western|Drama|Adventure',\n",
       "                  'Western|Drama|Comedy', 'Western|Drama|Comedy|Crime|Family',\n",
       "                  'Western|Horror|Drama'],\n",
       ", ordered=False, categories_dtype=object)"
      ]
     },
     "execution_count": 100,
     "metadata": {},
     "output_type": "execute_result"
    }
   ],
   "source": [
    "# Convert to category pandas type \n",
    "\n",
    "movies['genres'] = movies['genres'].astype('category')\n",
    "movies['genres'].dtype"
   ]
  },
  {
   "cell_type": "code",
   "execution_count": 101,
   "id": "35c5b8be",
   "metadata": {},
   "outputs": [
    {
     "data": {
      "application/vnd.microsoft.datawrangler.viewer.v0+json": {
       "columns": [
        {
         "name": "genre_first",
         "rawType": "category",
         "type": "unknown"
        },
        {
         "name": "count",
         "rawType": "int64",
         "type": "integer"
        }
       ],
       "ref": "6e908812-1af7-40ce-bef4-7e4f8eeea941",
       "rows": [
        [
         "Drama",
         "677"
        ],
        [
         "Comedy",
         "493"
        ],
        [
         "Action",
         "386"
        ],
        [
         "Horror",
         "262"
        ],
        [
         "Documentary",
         "173"
        ],
        [
         "Thriller",
         "133"
        ],
        [
         "Animation",
         "112"
        ],
        [
         "Adventure",
         "108"
        ],
        [
         "Romance",
         "98"
        ],
        [
         "Crime",
         "92"
        ],
        [
         "Science Fiction",
         "74"
        ],
        [
         "Family",
         "72"
        ],
        [
         "Mystery",
         "50"
        ],
        [
         "Fantasy",
         "44"
        ],
        [
         "War",
         "33"
        ],
        [
         "History",
         "30"
        ],
        [
         "Music",
         "29"
        ],
        [
         "Western",
         "15"
        ],
        [
         "TV Movie",
         "4"
        ]
       ],
       "shape": {
        "columns": 1,
        "rows": 19
       }
      },
      "text/plain": [
       "genre_first\n",
       "Drama              677\n",
       "Comedy             493\n",
       "Action             386\n",
       "Horror             262\n",
       "Documentary        173\n",
       "Thriller           133\n",
       "Animation          112\n",
       "Adventure          108\n",
       "Romance             98\n",
       "Crime               92\n",
       "Science Fiction     74\n",
       "Family              72\n",
       "Mystery             50\n",
       "Fantasy             44\n",
       "War                 33\n",
       "History             30\n",
       "Music               29\n",
       "Western             15\n",
       "TV Movie             4\n",
       "Name: count, dtype: int64"
      ]
     },
     "execution_count": 101,
     "metadata": {},
     "output_type": "execute_result"
    }
   ],
   "source": [
    "# Clean Genre Category\n",
    "# Extract the first genre before the first pipe character\n",
    "movies['genre_first'] = movies['genres'].str.split('|', expand=True)[0]\n",
    "\n",
    "# If you want it as a categorical type\n",
    "movies['genre_first'] = movies['genre_first'].astype('category')\n",
    "\n",
    "# Check the result\n",
    "movies['genre_first'].value_counts()"
   ]
  },
  {
   "cell_type": "code",
   "execution_count": 102,
   "id": "1aa254d1",
   "metadata": {},
   "outputs": [
    {
     "data": {
      "image/png": "[encoded data removed]"
     },
     "metadata": {
      "image/png": {
       "height": 480,
       "width": 640
      }
     },
     "output_type": "display_data"
    }
   ],
   "source": [
    "from plotnine import *\n",
    "import pandas as pd\n",
    "\n",
    "# Order genres by frequency for better visualization\n",
    "genre_counts = movies['genre_first'].value_counts()\n",
    "movies['genre_first_ordered'] = pd.Categorical(\n",
    "    movies['genre_first'], \n",
    "    categories=genre_counts.index,\n",
    "    ordered=True\n",
    ")\n",
    "\n",
    "# Create the plot using plotnine - FIXED VERSION\n",
    "(\n",
    "    ggplot(movies, aes(x='genre_first_ordered')) +\n",
    "    geom_bar() +\n",
    "    theme(axis_text_x=element_text(rotation=45, ha='right')) +\n",
    "    labs(title='Distribution of Primary Movie Genres',\n",
    "         x='Genre',\n",
    "         y='Count')\n",
    ")"
   ]
  },
  {
   "cell_type": "code",
   "execution_count": 103,
   "id": "1bffb0ef",
   "metadata": {},
   "outputs": [
    {
     "data": {
      "image/png": "[encoded data removed]",
      "text/plain": [
       "<Figure size 1200x600 with 1 Axes>"
      ]
     },
     "metadata": {},
     "output_type": "display_data"
    }
   ],
   "source": [
    "# using another common plotting package seaborn\n",
    "import matplotlib.pyplot as plot\n",
    "import seaborn as sns\n",
    "\n",
    "# Set style for better-looking plots\n",
    "sns.set_style(\"whitegrid\")\n",
    "\n",
    "# Create histogram with Seaborn\n",
    "plot.figure(figsize=(12, 6))\n",
    "sns.countplot(data=movies, x='genre_first', order=movies['genre_first'].value_counts().index)\n",
    "plot.xticks(rotation=45, ha='right')\n",
    "plot.title('Distribution of Primary Movie Genres')\n",
    "plot.xlabel('Genre')\n",
    "plot.ylabel('Count')\n",
    "plot.tight_layout()\n",
    "plot.show()"
   ]
  },
  {
   "cell_type": "markdown",
   "id": "7f624797",
   "metadata": {},
   "source": [
    "## Handling Categorical Levels"
   ]
  },
  {
   "cell_type": "code",
   "execution_count": 104,
   "id": "b77f4494",
   "metadata": {},
   "outputs": [
    {
     "data": {
      "application/vnd.microsoft.datawrangler.viewer.v0+json": {
       "columns": [
        {
         "name": "genre_first_simple",
         "rawType": "category",
         "type": "unknown"
        },
        {
         "name": "count",
         "rawType": "int64",
         "type": "integer"
        }
       ],
       "ref": "1da69e3e-6252-4866-a98a-627db871120d",
       "rows": [
        [
         "Drama",
         "677"
        ],
        [
         "Comedy",
         "493"
        ],
        [
         "Action",
         "386"
        ],
        [
         "Horror",
         "262"
        ],
        [
         "Documentary",
         "173"
        ],
        [
         "Other",
         "155"
        ],
        [
         "Thriller",
         "133"
        ],
        [
         "Animation",
         "112"
        ],
        [
         "Adventure",
         "108"
        ],
        [
         "Romance",
         "98"
        ],
        [
         "Crime",
         "92"
        ],
        [
         "Science Fiction",
         "74"
        ],
        [
         "Family",
         "72"
        ],
        [
         "Mystery",
         "50"
        ]
       ],
       "shape": {
        "columns": 1,
        "rows": 14
       }
      },
      "text/plain": [
       "genre_first_simple\n",
       "Drama              677\n",
       "Comedy             493\n",
       "Action             386\n",
       "Horror             262\n",
       "Documentary        173\n",
       "Other              155\n",
       "Thriller           133\n",
       "Animation          112\n",
       "Adventure          108\n",
       "Romance             98\n",
       "Crime               92\n",
       "Science Fiction     74\n",
       "Family              72\n",
       "Mystery             50\n",
       "Name: count, dtype: int64"
      ]
     },
     "execution_count": 104,
     "metadata": {},
     "output_type": "execute_result"
    }
   ],
   "source": [
    "# Recording factor levels\n",
    "movies['genre_first_simple'] = movies['genre_first'].replace({\n",
    "    'TV Movie': 'Other',\n",
    "    'Western': 'Other', \n",
    "    'Music': 'Other',\n",
    "    'History': 'Other',\n",
    "    'War': 'Other',\n",
    "    'Fantasy': 'Other'\n",
    "})\n",
    "\n",
    "movies['genre_first_simple'].value_counts()"
   ]
  },
  {
   "cell_type": "code",
   "execution_count": 105,
   "id": "4d3acefe",
   "metadata": {},
   "outputs": [
    {
     "data": {
      "application/vnd.microsoft.datawrangler.viewer.v0+json": {
       "columns": [
        {
         "name": "genre_first_simple",
         "rawType": "object",
         "type": "string"
        },
        {
         "name": "count",
         "rawType": "int64",
         "type": "integer"
        }
       ],
       "ref": "2d78fa50-17a5-4730-a570-c13611ccd1d2",
       "rows": [
        [
         "Drama",
         "677"
        ],
        [
         "Comedy",
         "493"
        ],
        [
         "Action",
         "386"
        ],
        [
         "Horror",
         "262"
        ],
        [
         "Documentary",
         "173"
        ],
        [
         "Other",
         "155"
        ],
        [
         "Thriller",
         "133"
        ],
        [
         "Animation",
         "112"
        ],
        [
         "Adventure",
         "108"
        ],
        [
         "Romance",
         "98"
        ],
        [
         "Crime",
         "92"
        ],
        [
         "Science Fiction",
         "74"
        ],
        [
         "Family",
         "72"
        ],
        [
         "Mystery",
         "50"
        ]
       ],
       "shape": {
        "columns": 1,
        "rows": 14
       }
      },
      "text/plain": [
       "genre_first_simple\n",
       "Drama              677\n",
       "Comedy             493\n",
       "Action             386\n",
       "Horror             262\n",
       "Documentary        173\n",
       "Other              155\n",
       "Thriller           133\n",
       "Animation          112\n",
       "Adventure          108\n",
       "Romance             98\n",
       "Crime               92\n",
       "Science Fiction     74\n",
       "Family              72\n",
       "Mystery             50\n",
       "Name: count, dtype: int64"
      ]
     },
     "execution_count": 105,
     "metadata": {},
     "output_type": "execute_result"
    }
   ],
   "source": [
    "import numpy as np\n",
    "\n",
    "rare_genres = ['TV Movie', 'Western', 'Music', 'History', 'War', 'Fantasy']\n",
    "movies['genre_first_simple'] = np.where(\n",
    "    movies['genre_first'].isin(rare_genres),\n",
    "    'Other',\n",
    "    movies['genre_first']\n",
    ")\n",
    "movies['genre_first_simple'].value_counts()"
   ]
  },
  {
   "cell_type": "code",
   "execution_count": 106,
   "id": "c31cdf6c",
   "metadata": {},
   "outputs": [
    {
     "data": {
      "application/vnd.microsoft.datawrangler.viewer.v0+json": {
       "columns": [
        {
         "name": "genre_first_simple",
         "rawType": "category",
         "type": "unknown"
        },
        {
         "name": "count",
         "rawType": "int64",
         "type": "integer"
        }
       ],
       "ref": "c28ebf7d-e86c-46af-8b06-850bd3b149ff",
       "rows": [
        [
         "Drama",
         "677"
        ],
        [
         "Other",
         "541"
        ],
        [
         "Comedy",
         "493"
        ],
        [
         "Action",
         "386"
        ],
        [
         "Horror",
         "262"
        ],
        [
         "Documentary",
         "173"
        ],
        [
         "Thriller",
         "133"
        ],
        [
         "Animation",
         "112"
        ],
        [
         "Adventure",
         "108"
        ]
       ],
       "shape": {
        "columns": 1,
        "rows": 9
       }
      },
      "text/plain": [
       "genre_first_simple\n",
       "Drama          677\n",
       "Other          541\n",
       "Comedy         493\n",
       "Action         386\n",
       "Horror         262\n",
       "Documentary    173\n",
       "Thriller       133\n",
       "Animation      112\n",
       "Adventure      108\n",
       "Name: count, dtype: int64"
      ]
     },
     "execution_count": 106,
     "metadata": {},
     "output_type": "execute_result"
    }
   ],
   "source": [
    "# Get counts for each genre\n",
    "genre_counts = movies['genre_first'].value_counts()\n",
    "\n",
    "# Identify genres with less than 50 movies\n",
    "rare_genres = genre_counts[genre_counts < 100].index.tolist()\n",
    "\n",
    "# Replace rare genres with 'Other'\n",
    "movies['genre_first_simple'] = movies['genre_first'].replace(\n",
    "    {genre: 'Other' for genre in rare_genres}\n",
    ")\n",
    "movies['genre_first_simple'].value_counts()"
   ]
  },
  {
   "cell_type": "code",
   "execution_count": 107,
   "id": "73ae4e85",
   "metadata": {},
   "outputs": [
    {
     "data": {
      "text/plain": [
       "Index(['movie_title', 'original_title', 'director_name', 'actor_1_name',\n",
       "       'actor_2_name', 'actor_3_name', 'budget', 'gross', 'title_year',\n",
       "       'release_date', 'duration', 'vote_average', 'vote_count', 'popularity',\n",
       "       'genres', 'country', 'original_language', 'overview', 'tagline',\n",
       "       'tmdb_id', 'imdb_id', 'genre_first', 'genre_first_ordered',\n",
       "       'genre_first_simple'],\n",
       "      dtype='object')"
      ]
     },
     "execution_count": 107,
     "metadata": {},
     "output_type": "execute_result"
    }
   ],
   "source": [
    "movies.columns"
   ]
  },
  {
   "cell_type": "markdown",
   "id": "8a4d22bc",
   "metadata": {},
   "source": [
    "___\n",
    "## Lab 1 Working with Categorical Variables\n"
   ]
  },
  {
   "cell_type": "markdown",
   "id": "08fff7cf",
   "metadata": {},
   "source": [
    "1. Identify which columns in the movies dataset would benefit from \n",
    "    being converted to categorical type. Check their current dtypes \n",
    "    and memory usage with .info()"
   ]
  },
  {
   "cell_type": "code",
   "execution_count": 108,
   "id": "c5bafa71",
   "metadata": {},
   "outputs": [
    {
     "name": "stdout",
     "output_type": "stream",
     "text": [
      "<class 'pandas.core.frame.DataFrame'>\n",
      "RangeIndex: 3000 entries, 0 to 2999\n",
      "Data columns (total 24 columns):\n",
      " #   Column               Non-Null Count  Dtype   \n",
      "---  ------               --------------  -----   \n",
      " 0   movie_title          3000 non-null   object  \n",
      " 1   original_title       3000 non-null   object  \n",
      " 2   director_name        2901 non-null   object  \n",
      " 3   actor_1_name         2902 non-null   object  \n",
      " 4   actor_2_name         2772 non-null   object  \n",
      " 5   actor_3_name         2614 non-null   object  \n",
      " 6   budget               3000 non-null   int64   \n",
      " 7   gross                3000 non-null   int64   \n",
      " 8   title_year           3000 non-null   int64   \n",
      " 9   release_date         3000 non-null   object  \n",
      " 10  duration             3000 non-null   int64   \n",
      " 11  vote_average         3000 non-null   float64 \n",
      " 12  vote_count           3000 non-null   int64   \n",
      " 13  popularity           3000 non-null   float64 \n",
      " 14  genres               2885 non-null   category\n",
      " 15  country              2580 non-null   object  \n",
      " 16  original_language    3000 non-null   object  \n",
      " 17  overview             2798 non-null   object  \n",
      " 18  tagline              1980 non-null   object  \n",
      " 19  tmdb_id              3000 non-null   int64   \n",
      " 20  imdb_id              2328 non-null   object  \n",
      " 21  genre_first          2885 non-null   category\n",
      " 22  genre_first_ordered  2885 non-null   category\n",
      " 23  genre_first_simple   2885 non-null   category\n",
      "dtypes: category(4), float64(2), int64(6), object(12)\n",
      "memory usage: 524.6+ KB\n"
     ]
    }
   ],
   "source": [
    "movies.info()"
   ]
  },
  {
   "cell_type": "code",
   "execution_count": 109,
   "id": "3de5f1cb",
   "metadata": {},
   "outputs": [
    {
     "name": "stdout",
     "output_type": "stream",
     "text": [
      "Columns suitable for categorical conversion (with unique counts):\n",
      "original_language: 66\n"
     ]
    }
   ],
   "source": [
    "# Identify columns with object dtype and relatively few unique values\n",
    "potential_categorical = []\n",
    "for col in movies.columns:\n",
    "    if movies[col].dtype == 'object':\n",
    "        unique_count = movies[col].nunique(dropna=True)\n",
    "        if unique_count < 75:  \n",
    "            potential_categorical.append((col, unique_count))\n",
    "\n",
    "print(\"Columns suitable for categorical conversion (with unique counts):\")\n",
    "for col, count in potential_categorical:\n",
    "    print(f\"{col}: {count}\")"
   ]
  },
  {
   "cell_type": "markdown",
   "id": "e4c0d18d",
   "metadata": {},
   "source": [
    "2. Create a frequency table for the 'original_language' column \n",
    "    using .value_counts(). What are the top 5 languages?"
   ]
  },
  {
   "cell_type": "code",
   "execution_count": 110,
   "id": "7729567f",
   "metadata": {},
   "outputs": [
    {
     "data": {
      "application/vnd.microsoft.datawrangler.viewer.v0+json": {
       "columns": [
        {
         "name": "original_language",
         "rawType": "object",
         "type": "string"
        },
        {
         "name": "count",
         "rawType": "int64",
         "type": "integer"
        }
       ],
       "ref": "fcbf42ff-2142-49fb-a75a-812de47bd427",
       "rows": [
        [
         "en",
         "1738"
        ],
        [
         "es",
         "160"
        ],
        [
         "fr",
         "150"
        ],
        [
         "hi",
         "107"
        ],
        [
         "pt",
         "104"
        ],
        [
         "ru",
         "70"
        ],
        [
         "it",
         "48"
        ],
        [
         "zh",
         "46"
        ],
        [
         "ml",
         "45"
        ],
        [
         "fa",
         "44"
        ],
        [
         "de",
         "42"
        ],
        [
         "te",
         "38"
        ],
        [
         "ko",
         "35"
        ],
        [
         "tr",
         "30"
        ],
        [
         "id",
         "29"
        ],
        [
         "ta",
         "26"
        ],
        [
         "ar",
         "25"
        ],
        [
         "ja",
         "19"
        ],
        [
         "no",
         "18"
        ],
        [
         "uk",
         "15"
        ],
        [
         "da",
         "15"
        ],
        [
         "nl",
         "13"
        ],
        [
         "ur",
         "12"
        ],
        [
         "bn",
         "11"
        ],
        [
         "cn",
         "11"
        ],
        [
         "vi",
         "10"
        ],
        [
         "tl",
         "9"
        ],
        [
         "kn",
         "9"
        ],
        [
         "ro",
         "8"
        ],
        [
         "sv",
         "8"
        ],
        [
         "pl",
         "8"
        ],
        [
         "fi",
         "7"
        ],
        [
         "hu",
         "7"
        ],
        [
         "ms",
         "6"
        ],
        [
         "sk",
         "5"
        ],
        [
         "he",
         "5"
        ],
        [
         "mr",
         "4"
        ],
        [
         "sr",
         "4"
        ],
        [
         "ne",
         "4"
        ],
        [
         "lv",
         "4"
        ],
        [
         "et",
         "4"
        ],
        [
         "ka",
         "4"
        ],
        [
         "ca",
         "4"
        ],
        [
         "pa",
         "4"
        ],
        [
         "hr",
         "4"
        ],
        [
         "cs",
         "4"
        ],
        [
         "xx",
         "3"
        ],
        [
         "bg",
         "3"
        ],
        [
         "lt",
         "3"
        ],
        [
         "nb",
         "2"
        ]
       ],
       "shape": {
        "columns": 1,
        "rows": 66
       }
      },
      "text/plain": [
       "original_language\n",
       "en    1738\n",
       "es     160\n",
       "fr     150\n",
       "hi     107\n",
       "pt     104\n",
       "      ... \n",
       "ku       1\n",
       "sq       1\n",
       "gu       1\n",
       "ff       1\n",
       "dv       1\n",
       "Name: count, Length: 66, dtype: int64"
      ]
     },
     "execution_count": 110,
     "metadata": {},
     "output_type": "execute_result"
    }
   ],
   "source": [
    "movies['original_language'].value_counts()"
   ]
  },
  {
   "cell_type": "markdown",
   "id": "c8fb37af",
   "metadata": {},
   "source": [
    "3. Convert 'country' to categorical type using .astype('category'). \n",
    "   Compare memory usage before and after conversion using .memory_usage()"
   ]
  },
  {
   "cell_type": "code",
   "execution_count": 111,
   "id": "e0b47489",
   "metadata": {},
   "outputs": [
    {
     "data": {
      "text/plain": [
       "CategoricalDtype(categories=['Albania|Spain', 'Andorra|Spain', 'Argentina',\n",
       "                  'Argentina|Colombia', 'Argentina|France', 'Argentina|Spain',\n",
       "                  'Argentina|United States of America', 'Argentina|Venezuela',\n",
       "                  'Australia', 'Australia|Canada',\n",
       "                  ...\n",
       "                  'United States of America|Netherlands',\n",
       "                  'United States of America|South Africa',\n",
       "                  'United States of America|Spain',\n",
       "                  'United States of America|Sweden',\n",
       "                  'United States of America|Switzerland',\n",
       "                  'United States of America|Tunisia',\n",
       "                  'United States of America|United Kingdom', 'Uruguay',\n",
       "                  'Venezuela', 'Vietnam'],\n",
       ", ordered=False, categories_dtype=object)"
      ]
     },
     "execution_count": 111,
     "metadata": {},
     "output_type": "execute_result"
    }
   ],
   "source": [
    "movies['country'] = pd.Categorical(movies['country'])\n",
    "movies['country'].dtype"
   ]
  },
  {
   "cell_type": "markdown",
   "id": "fc750d68",
   "metadata": {},
   "source": [
    "4. For the 'director_name' column, create a new column 'director_simple' that keeps only directors with 5+ movies, labeling all others as 'Other'. Hint: Use value_counts() and replace() or np.where()"
   ]
  },
  {
   "cell_type": "code",
   "execution_count": 112,
   "id": "947c5ca4",
   "metadata": {},
   "outputs": [
    {
     "data": {
      "application/vnd.microsoft.datawrangler.viewer.v0+json": {
       "columns": [
        {
         "name": "director_simple",
         "rawType": "object",
         "type": "string"
        },
        {
         "name": "count",
         "rawType": "int64",
         "type": "integer"
        }
       ],
       "ref": "d7cd0e5d-eaf5-4eb1-b164-10789315b108",
       "rows": [
        [
         "Other",
         "2915"
        ],
        [
         "Yen Ah Moi",
         "10"
        ],
        [
         "Bruno Ferreira",
         "10"
        ],
        [
         "Matthew Cavanaugh",
         "8"
        ],
        [
         "Seamus Gibney",
         "6"
        ],
        [
         "Steven Spielberg",
         "6"
        ],
        [
         "Denis Villeneuve",
         "5"
        ],
        [
         "Guy Ritchie",
         "5"
        ],
        [
         "Luca Guadagnino",
         "5"
        ],
        [
         "M. Night Shyamalan",
         "5"
        ],
        [
         "Phạm Trung Kiên",
         "5"
        ],
        [
         "Gianluca Leuzzi",
         "5"
        ],
        [
         "Woody Allen",
         "5"
        ],
        [
         "Johannes Roberts",
         "5"
        ],
        [
         "Cleber Fernando Gomes",
         "5"
        ]
       ],
       "shape": {
        "columns": 1,
        "rows": 15
       }
      },
      "text/plain": [
       "director_simple\n",
       "Other                    2915\n",
       "Yen Ah Moi                 10\n",
       "Bruno Ferreira             10\n",
       "Matthew Cavanaugh           8\n",
       "Seamus Gibney               6\n",
       "Steven Spielberg            6\n",
       "Denis Villeneuve            5\n",
       "Guy Ritchie                 5\n",
       "Luca Guadagnino             5\n",
       "M. Night Shyamalan          5\n",
       "Phạm Trung Kiên             5\n",
       "Gianluca Leuzzi             5\n",
       "Woody Allen                 5\n",
       "Johannes Roberts            5\n",
       "Cleber Fernando Gomes       5\n",
       "Name: count, dtype: int64"
      ]
     },
     "execution_count": 112,
     "metadata": {},
     "output_type": "execute_result"
    }
   ],
   "source": [
    "# Find directors with 5 or more movies\n",
    "director_counts = movies['director_name'].value_counts()\n",
    "major_directors = director_counts[director_counts >= 5].index\n",
    "\n",
    "# Create 'director_simple' column\n",
    "movies['director_simple'] = np.where(\n",
    "    movies['director_name'].isin(major_directors),\n",
    "    movies['director_name'],\n",
    "    'Other'\n",
    ")\n",
    "\n",
    "# Show counts for the new column\n",
    "movies['director_simple'].value_counts()"
   ]
  },
  {
   "cell_type": "markdown",
   "id": "53716ee0",
   "metadata": {},
   "source": [
    "5. Create a horizontal bar plot showing the top 10 countries by movie count using matplotlib or seaborn. "
   ]
  },
  {
   "cell_type": "code",
   "execution_count": 113,
   "id": "97ccd09f",
   "metadata": {},
   "outputs": [
    {
     "name": "stdout",
     "output_type": "stream",
     "text": [
      "['United States of America', 'India', 'United Kingdom|United States of America', 'United Kingdom', 'Brazil', 'France', 'Russia', 'Iran', 'Belgium|France', 'Canada|United States of America']\n"
     ]
    }
   ],
   "source": [
    "top_10_countries = movies['country'].value_counts().head(10).index.tolist()\n",
    "print(top_10_countries)"
   ]
  },
  {
   "cell_type": "code",
   "execution_count": 114,
   "id": "04e13f9a",
   "metadata": {},
   "outputs": [
    {
     "data": {
      "image/png": "[encoded data removed]"
     },
     "metadata": {
      "image/png": {
       "height": 480,
       "width": 640
      }
     },
     "output_type": "display_data"
    }
   ],
   "source": [
    "from plotnine import *\n",
    "\n",
    "plt = ggplot(movies[movies['country'].isin(top_10_countries)], aes(x='country')) + geom_bar()+ coord_flip()\n",
    "plt.show()"
   ]
  },
  {
   "cell_type": "markdown",
   "id": "fb4dd017",
   "metadata": {},
   "source": [
    "\n",
    "# Group By to Create Summary Tables"
   ]
  },
  {
   "cell_type": "code",
   "execution_count": 115,
   "id": "4bfc69ce",
   "metadata": {},
   "outputs": [
    {
     "name": "stdout",
     "output_type": "stream",
     "text": [
      "     country  median_income  population\n",
      "0  Australia        18000.0           1\n",
      "1     Norway        19308.0           2\n",
      "2        USA        45480.0           2\n"
     ]
    }
   ],
   "source": [
    "# Example with hypothetical income data\n",
    "import pandas as pd\n",
    "\n",
    "# Assuming we have individual-level data\n",
    "individuals = pd.DataFrame({\n",
    "    'country': ['USA', 'USA', 'Norway', 'Norway', 'Australia'],\n",
    "    'income': [55000, 35960, 22000, 16616, 18000],\n",
    "    'person_id': [1, 2, 3, 4, 5]\n",
    "})\n",
    "\n",
    "# Group by country and calculate statistics\n",
    "country_stats = individuals.groupby('country').agg(\n",
    "    median_income=('income', 'median'),\n",
    "    population=('person_id', 'count')\n",
    ").reset_index()\n",
    "\n",
    "print(country_stats)"
   ]
  },
  {
   "cell_type": "code",
   "execution_count": 116,
   "id": "5830f208",
   "metadata": {},
   "outputs": [
    {
     "data": {
      "application/vnd.microsoft.datawrangler.viewer.v0+json": {
       "columns": [
        {
         "name": "index",
         "rawType": "int64",
         "type": "integer"
        },
        {
         "name": "original_language",
         "rawType": "object",
         "type": "string"
        },
        {
         "name": "movie_count",
         "rawType": "int64",
         "type": "integer"
        },
        {
         "name": "median_gross",
         "rawType": "float64",
         "type": "float"
        },
        {
         "name": "avg_budget",
         "rawType": "float64",
         "type": "float"
        },
        {
         "name": "avg_rating",
         "rawType": "float64",
         "type": "float"
        },
        {
         "name": "total_votes",
         "rawType": "int64",
         "type": "integer"
        }
       ],
       "ref": "845c8e5a-0233-48ac-826e-dc4397837984",
       "rows": [
        [
         "12",
         "en",
         "1738",
         "3671601.0",
         "29688811.487917148",
         "5.410697928653625",
         "3530980"
        ],
        [
         "13",
         "es",
         "160",
         "1000.0",
         "1965244.29375",
         "4.542949999999999",
         "27048"
        ],
        [
         "19",
         "fr",
         "150",
         "2112158.0",
         "8933468.38",
         "6.14492",
         "67010"
        ],
        [
         "22",
         "hi",
         "107",
         "12500000.0",
         "11372073.981308412",
         "6.217308411214953",
         "12562"
        ],
        [
         "48",
         "pt",
         "104",
         "200.0",
         "520903.75",
         "4.742144230769231",
         "3399"
        ],
        [
         "50",
         "ru",
         "70",
         "952274.5",
         "4005678.5",
         "5.667242857142857",
         "8347"
        ],
        [
         "27",
         "it",
         "48",
         "1025029.5",
         "5377203.229166667",
         "5.741458333333333",
         "21314"
        ],
        [
         "65",
         "zh",
         "46",
         "82276125.0",
         "34553965.54347826",
         "5.7215869565217385",
         "6746"
        ],
        [
         "38",
         "ml",
         "45",
         "3803406.0",
         "2129955.355555556",
         "6.0793333333333335",
         "1269"
        ],
        [
         "16",
         "fa",
         "44",
         "20000.0",
         "169930.45454545456",
         "3.4128863636363636",
         "149"
        ],
        [
         "8",
         "de",
         "42",
         "2250.0",
         "1987072.0",
         "4.995809523809524",
         "1143"
        ],
        [
         "57",
         "te",
         "38",
         "11912646.5",
         "12910293.421052631",
         "6.424763157894737",
         "1503"
        ],
        [
         "33",
         "ko",
         "35",
         "24340302.0",
         "10777227.17142857",
         "6.422714285714285",
         "38286"
        ],
        [
         "60",
         "tr",
         "30",
         "750.0",
         "485721.6",
         "3.5212333333333334",
         "2527"
        ],
        [
         "25",
         "id",
         "29",
         "689365.0",
         "905516.7586206896",
         "6.76296551724138",
         "824"
        ],
        [
         "56",
         "ta",
         "26",
         "15500000.0",
         "15113516.346153846",
         "5.682423076923077",
         "1463"
        ],
        [
         "0",
         "ar",
         "25",
         "166000.0",
         "5317805.44",
         "4.446000000000001",
         "82"
        ],
        [
         "28",
         "ja",
         "19",
         "34441594.0",
         "9268611.421052631",
         "7.280736842105263",
         "18110"
        ],
        [
         "45",
         "no",
         "18",
         "2916572.5",
         "4555036.055555556",
         "6.491277777777778",
         "6199"
        ],
        [
         "61",
         "uk",
         "15",
         "316210.0",
         "1102261.1333333333",
         "4.995866666666667",
         "2042"
        ],
        [
         "7",
         "da",
         "15",
         "470000.0",
         "4872326.0",
         "5.627266666666667",
         "3741"
        ],
        [
         "44",
         "nl",
         "13",
         "100000.0",
         "1424937.8461538462",
         "5.452538461538461",
         "337"
        ],
        [
         "62",
         "ur",
         "12",
         "413067.5",
         "2002365.3333333333",
         "7.7749999999999995",
         "100"
        ],
        [
         "3",
         "bn",
         "11",
         "225000.0",
         "1064319.5454545454",
         "4.861727272727273",
         "192"
        ],
        [
         "5",
         "cn",
         "11",
         "10000000.0",
         "22613653.181818184",
         "6.469181818181818",
         "2853"
        ],
        [
         "63",
         "vi",
         "10",
         "2378384.0",
         "605963.5",
         "4.7196",
         "246"
        ],
        [
         "32",
         "kn",
         "9",
         "4936739.0",
         "3914192.777777778",
         "6.507888888888889",
         "189"
        ],
        [
         "59",
         "tl",
         "9",
         "1000.0",
         "964698.6666666666",
         "4.184111111111111",
         "82"
        ],
        [
         "49",
         "ro",
         "8",
         "794786.5",
         "1007193.625",
         "6.737875",
         "539"
        ],
        [
         "47",
         "pl",
         "8",
         "7511243.0",
         "2528018.0",
         "5.670625",
         "2642"
        ],
        [
         "55",
         "sv",
         "8",
         "534181.0",
         "4599626.25",
         "6.7025",
         "2625"
        ],
        [
         "24",
         "hu",
         "7",
         "757123.0",
         "2000486.0",
         "7.176285714285714",
         "1314"
        ],
        [
         "18",
         "fi",
         "7",
         "1891907.0",
         "3638122.5714285714",
         "6.112857142857143",
         "3672"
        ],
        [
         "41",
         "ms",
         "6",
         "2841247.0",
         "2829750.5",
         "4.0415",
         "109"
        ],
        [
         "52",
         "sk",
         "5",
         "391393.0",
         "1936695.0",
         "4.677",
         "48"
        ],
        [
         "21",
         "he",
         "5",
         "178000.0",
         "832511.8",
         "5.1352",
         "145"
        ],
        [
         "6",
         "cs",
         "4",
         "2843535.5",
         "4325000.0",
         "5.40225",
         "220"
        ],
        [
         "4",
         "ca",
         "4",
         "51517.5",
         "2889004.5",
         "3.5865",
         "223"
        ],
        [
         "46",
         "pa",
         "4",
         "3132764.0",
         "1149750.0",
         "6.25",
         "6"
        ],
        [
         "43",
         "ne",
         "4",
         "3970000.0",
         "523750.0",
         "2.175",
         "3"
        ],
        [
         "14",
         "et",
         "4",
         "14369.0",
         "1510450.0",
         "4.775",
         "176"
        ],
        [
         "40",
         "mr",
         "4",
         "787541.0",
         "741269.75",
         "8.29725",
         "17"
        ],
        [
         "23",
         "hr",
         "4",
         "700.0",
         "428780.0",
         "1.6625",
         "10"
        ],
        [
         "37",
         "lv",
         "4",
         "9799.0",
         "1525275.0",
         "4.9035",
         "2341"
        ],
        [
         "54",
         "sr",
         "4",
         "407126.5",
         "26200050.0",
         "1.925",
         "436"
        ],
        [
         "30",
         "ka",
         "4",
         "1750.0",
         "43135.5",
         "2.5",
         "1"
        ],
        [
         "36",
         "lt",
         "3",
         "947455.0",
         "272628.3333333333",
         "6.8999999999999995",
         "11"
        ],
        [
         "2",
         "bg",
         "3",
         "60000.0",
         "320000.0",
         "5.5",
         "3"
        ],
        [
         "64",
         "xx",
         "3",
         "7500.0",
         "1600838.3333333333",
         "0.0",
         "0"
        ],
        [
         "42",
         "nb",
         "2",
         "200.0",
         "1450.0",
         "6.5",
         "2"
        ]
       ],
       "shape": {
        "columns": 6,
        "rows": 66
       }
      },
      "text/html": [
       "<div>\n",
       "<style scoped>\n",
       "    .dataframe tbody tr th:only-of-type {\n",
       "        vertical-align: middle;\n",
       "    }\n",
       "\n",
       "    .dataframe tbody tr th {\n",
       "        vertical-align: top;\n",
       "    }\n",
       "\n",
       "    .dataframe thead th {\n",
       "        text-align: right;\n",
       "    }\n",
       "</style>\n",
       "<table border=\"1\" class=\"dataframe\">\n",
       "  <thead>\n",
       "    <tr style=\"text-align: right;\">\n",
       "      <th></th>\n",
       "      <th>original_language</th>\n",
       "      <th>movie_count</th>\n",
       "      <th>median_gross</th>\n",
       "      <th>avg_budget</th>\n",
       "      <th>avg_rating</th>\n",
       "      <th>total_votes</th>\n",
       "    </tr>\n",
       "  </thead>\n",
       "  <tbody>\n",
       "    <tr>\n",
       "      <th>12</th>\n",
       "      <td>en</td>\n",
       "      <td>1738</td>\n",
       "      <td>3671601.0</td>\n",
       "      <td>2.968881e+07</td>\n",
       "      <td>5.410698</td>\n",
       "      <td>3530980</td>\n",
       "    </tr>\n",
       "    <tr>\n",
       "      <th>13</th>\n",
       "      <td>es</td>\n",
       "      <td>160</td>\n",
       "      <td>1000.0</td>\n",
       "      <td>1.965244e+06</td>\n",
       "      <td>4.542950</td>\n",
       "      <td>27048</td>\n",
       "    </tr>\n",
       "    <tr>\n",
       "      <th>19</th>\n",
       "      <td>fr</td>\n",
       "      <td>150</td>\n",
       "      <td>2112158.0</td>\n",
       "      <td>8.933468e+06</td>\n",
       "      <td>6.144920</td>\n",
       "      <td>67010</td>\n",
       "    </tr>\n",
       "    <tr>\n",
       "      <th>22</th>\n",
       "      <td>hi</td>\n",
       "      <td>107</td>\n",
       "      <td>12500000.0</td>\n",
       "      <td>1.137207e+07</td>\n",
       "      <td>6.217308</td>\n",
       "      <td>12562</td>\n",
       "    </tr>\n",
       "    <tr>\n",
       "      <th>48</th>\n",
       "      <td>pt</td>\n",
       "      <td>104</td>\n",
       "      <td>200.0</td>\n",
       "      <td>5.209038e+05</td>\n",
       "      <td>4.742144</td>\n",
       "      <td>3399</td>\n",
       "    </tr>\n",
       "    <tr>\n",
       "      <th>...</th>\n",
       "      <td>...</td>\n",
       "      <td>...</td>\n",
       "      <td>...</td>\n",
       "      <td>...</td>\n",
       "      <td>...</td>\n",
       "      <td>...</td>\n",
       "    </tr>\n",
       "    <tr>\n",
       "      <th>9</th>\n",
       "      <td>dv</td>\n",
       "      <td>1</td>\n",
       "      <td>35000.0</td>\n",
       "      <td>3.250000e+04</td>\n",
       "      <td>6.000000</td>\n",
       "      <td>1</td>\n",
       "    </tr>\n",
       "    <tr>\n",
       "      <th>17</th>\n",
       "      <td>ff</td>\n",
       "      <td>1</td>\n",
       "      <td>164602.0</td>\n",
       "      <td>1.750000e+06</td>\n",
       "      <td>6.600000</td>\n",
       "      <td>23</td>\n",
       "    </tr>\n",
       "    <tr>\n",
       "      <th>10</th>\n",
       "      <td>dz</td>\n",
       "      <td>1</td>\n",
       "      <td>120000.0</td>\n",
       "      <td>1.460000e+05</td>\n",
       "      <td>7.667000</td>\n",
       "      <td>6</td>\n",
       "    </tr>\n",
       "    <tr>\n",
       "      <th>15</th>\n",
       "      <td>eu</td>\n",
       "      <td>1</td>\n",
       "      <td>1036926.0</td>\n",
       "      <td>4.300000e+06</td>\n",
       "      <td>6.599000</td>\n",
       "      <td>96</td>\n",
       "    </tr>\n",
       "    <tr>\n",
       "      <th>39</th>\n",
       "      <td>mn</td>\n",
       "      <td>1</td>\n",
       "      <td>806000.0</td>\n",
       "      <td>1.200000e+06</td>\n",
       "      <td>5.000000</td>\n",
       "      <td>1</td>\n",
       "    </tr>\n",
       "  </tbody>\n",
       "</table>\n",
       "<p>66 rows × 6 columns</p>\n",
       "</div>"
      ],
      "text/plain": [
       "   original_language  movie_count  median_gross    avg_budget  avg_rating  \\\n",
       "12                en         1738     3671601.0  2.968881e+07    5.410698   \n",
       "13                es          160        1000.0  1.965244e+06    4.542950   \n",
       "19                fr          150     2112158.0  8.933468e+06    6.144920   \n",
       "22                hi          107    12500000.0  1.137207e+07    6.217308   \n",
       "48                pt          104         200.0  5.209038e+05    4.742144   \n",
       "..               ...          ...           ...           ...         ...   \n",
       "9                 dv            1       35000.0  3.250000e+04    6.000000   \n",
       "17                ff            1      164602.0  1.750000e+06    6.600000   \n",
       "10                dz            1      120000.0  1.460000e+05    7.667000   \n",
       "15                eu            1     1036926.0  4.300000e+06    6.599000   \n",
       "39                mn            1      806000.0  1.200000e+06    5.000000   \n",
       "\n",
       "    total_votes  \n",
       "12      3530980  \n",
       "13        27048  \n",
       "19        67010  \n",
       "22        12562  \n",
       "48         3399  \n",
       "..          ...  \n",
       "9             1  \n",
       "17           23  \n",
       "10            6  \n",
       "15           96  \n",
       "39            1  \n",
       "\n",
       "[66 rows x 6 columns]"
      ]
     },
     "execution_count": 116,
     "metadata": {},
     "output_type": "execute_result"
    }
   ],
   "source": [
    "# Group by language and calculate multiple statistics\n",
    "language_stats = movies.groupby('original_language').agg(\n",
    "    movie_count=('movie_title', 'count'),\n",
    "    median_gross=('gross', 'median'),\n",
    "    avg_budget=('budget', 'mean'),\n",
    "    avg_rating=('vote_average', 'mean'),\n",
    "    total_votes=('vote_count', 'sum')\n",
    ").reset_index()\n",
    "language_stats.sort_values('movie_count', ascending=False)"
   ]
  },
  {
   "cell_type": "code",
   "execution_count": 117,
   "id": "945d6fb0",
   "metadata": {},
   "outputs": [
    {
     "data": {
      "application/vnd.plotly.v1+json": {
       "config": {
        "plotlyServerURL": "https://plot.ly"
       },
       "data": [
        {
         "hovertemplate": "Language=%{x}<br>Number of Movies=%{marker.color}<extra></extra>",
         "legendgroup": "",
         "marker": {
          "color": {
           "bdata": "ygagAJYAawBoAEYAMAAuAC0ALAAqACYAIwAeAB0A",
           "dtype": "i2"
          },
          "coloraxis": "coloraxis",
          "pattern": {
           "shape": ""
          }
         },
         "name": "",
         "orientation": "v",
         "showlegend": false,
         "textposition": "auto",
         "type": "bar",
         "x": [
          "en",
          "es",
          "fr",
          "hi",
          "pt",
          "ru",
          "it",
          "zh",
          "ml",
          "fa",
          "de",
          "te",
          "ko",
          "tr",
          "id"
         ],
         "xaxis": "x",
         "y": {
          "bdata": "ygagAJYAawBoAEYAMAAuAC0ALAAqACYAIwAeAB0A",
          "dtype": "i2"
         },
         "yaxis": "y"
        }
       ],
       "layout": {
        "barmode": "relative",
        "coloraxis": {
         "colorbar": {
          "title": {
           "text": "Number of Movies"
          }
         },
         "colorscale": [
          [
           0,
           "rgb(247,251,255)"
          ],
          [
           0.125,
           "rgb(222,235,247)"
          ],
          [
           0.25,
           "rgb(198,219,239)"
          ],
          [
           0.375,
           "rgb(158,202,225)"
          ],
          [
           0.5,
           "rgb(107,174,214)"
          ],
          [
           0.625,
           "rgb(66,146,198)"
          ],
          [
           0.75,
           "rgb(33,113,181)"
          ],
          [
           0.875,
           "rgb(8,81,156)"
          ],
          [
           1,
           "rgb(8,48,107)"
          ]
         ]
        },
        "height": 500,
        "legend": {
         "tracegroupgap": 0
        },
        "showlegend": false,
        "template": {
         "data": {
          "bar": [
           {
            "error_x": {
             "color": "#2a3f5f"
            },
            "error_y": {
             "color": "#2a3f5f"
            },
            "marker": {
             "line": {
              "color": "#E5ECF6",
              "width": 0.5
             },
             "pattern": {
              "fillmode": "overlay",
              "size": 10,
              "solidity": 0.2
             }
            },
            "type": "bar"
           }
          ],
          "barpolar": [
           {
            "marker": {
             "line": {
              "color": "#E5ECF6",
              "width": 0.5
             },
             "pattern": {
              "fillmode": "overlay",
              "size": 10,
              "solidity": 0.2
             }
            },
            "type": "barpolar"
           }
          ],
          "carpet": [
           {
            "aaxis": {
             "endlinecolor": "#2a3f5f",
             "gridcolor": "white",
             "linecolor": "white",
             "minorgridcolor": "white",
             "startlinecolor": "#2a3f5f"
            },
            "baxis": {
             "endlinecolor": "#2a3f5f",
             "gridcolor": "white",
             "linecolor": "white",
             "minorgridcolor": "white",
             "startlinecolor": "#2a3f5f"
            },
            "type": "carpet"
           }
          ],
          "choropleth": [
           {
            "colorbar": {
             "outlinewidth": 0,
             "ticks": ""
            },
            "type": "choropleth"
           }
          ],
          "contour": [
           {
            "colorbar": {
             "outlinewidth": 0,
             "ticks": ""
            },
            "colorscale": [
             [
              0,
              "#0d0887"
             ],
             [
              0.1111111111111111,
              "#46039f"
             ],
             [
              0.2222222222222222,
              "#7201a8"
             ],
             [
              0.3333333333333333,
              "#9c179e"
             ],
             [
              0.4444444444444444,
              "#bd3786"
             ],
             [
              0.5555555555555556,
              "#d8576b"
             ],
             [
              0.6666666666666666,
              "#ed7953"
             ],
             [
              0.7777777777777778,
              "#fb9f3a"
             ],
             [
              0.8888888888888888,
              "#fdca26"
             ],
             [
              1,
              "#f0f921"
             ]
            ],
            "type": "contour"
           }
          ],
          "contourcarpet": [
           {
            "colorbar": {
             "outlinewidth": 0,
             "ticks": ""
            },
            "type": "contourcarpet"
           }
          ],
          "heatmap": [
           {
            "colorbar": {
             "outlinewidth": 0,
             "ticks": ""
            },
            "colorscale": [
             [
              0,
              "#0d0887"
             ],
             [
              0.1111111111111111,
              "#46039f"
             ],
             [
              0.2222222222222222,
              "#7201a8"
             ],
             [
              0.3333333333333333,
              "#9c179e"
             ],
             [
              0.4444444444444444,
              "#bd3786"
             ],
             [
              0.5555555555555556,
              "#d8576b"
             ],
             [
              0.6666666666666666,
              "#ed7953"
             ],
             [
              0.7777777777777778,
              "#fb9f3a"
             ],
             [
              0.8888888888888888,
              "#fdca26"
             ],
             [
              1,
              "#f0f921"
             ]
            ],
            "type": "heatmap"
           }
          ],
          "histogram": [
           {
            "marker": {
             "pattern": {
              "fillmode": "overlay",
              "size": 10,
              "solidity": 0.2
             }
            },
            "type": "histogram"
           }
          ],
          "histogram2d": [
           {
            "colorbar": {
             "outlinewidth": 0,
             "ticks": ""
            },
            "colorscale": [
             [
              0,
              "#0d0887"
             ],
             [
              0.1111111111111111,
              "#46039f"
             ],
             [
              0.2222222222222222,
              "#7201a8"
             ],
             [
              0.3333333333333333,
              "#9c179e"
             ],
             [
              0.4444444444444444,
              "#bd3786"
             ],
             [
              0.5555555555555556,
              "#d8576b"
             ],
             [
              0.6666666666666666,
              "#ed7953"
             ],
             [
              0.7777777777777778,
              "#fb9f3a"
             ],
             [
              0.8888888888888888,
              "#fdca26"
             ],
             [
              1,
              "#f0f921"
             ]
            ],
            "type": "histogram2d"
           }
          ],
          "histogram2dcontour": [
           {
            "colorbar": {
             "outlinewidth": 0,
             "ticks": ""
            },
            "colorscale": [
             [
              0,
              "#0d0887"
             ],
             [
              0.1111111111111111,
              "#46039f"
             ],
             [
              0.2222222222222222,
              "#7201a8"
             ],
             [
              0.3333333333333333,
              "#9c179e"
             ],
             [
              0.4444444444444444,
              "#bd3786"
             ],
             [
              0.5555555555555556,
              "#d8576b"
             ],
             [
              0.6666666666666666,
              "#ed7953"
             ],
             [
              0.7777777777777778,
              "#fb9f3a"
             ],
             [
              0.8888888888888888,
              "#fdca26"
             ],
             [
              1,
              "#f0f921"
             ]
            ],
            "type": "histogram2dcontour"
           }
          ],
          "mesh3d": [
           {
            "colorbar": {
             "outlinewidth": 0,
             "ticks": ""
            },
            "type": "mesh3d"
           }
          ],
          "parcoords": [
           {
            "line": {
             "colorbar": {
              "outlinewidth": 0,
              "ticks": ""
             }
            },
            "type": "parcoords"
           }
          ],
          "pie": [
           {
            "automargin": true,
            "type": "pie"
           }
          ],
          "scatter": [
           {
            "fillpattern": {
             "fillmode": "overlay",
             "size": 10,
             "solidity": 0.2
            },
            "type": "scatter"
           }
          ],
          "scatter3d": [
           {
            "line": {
             "colorbar": {
              "outlinewidth": 0,
              "ticks": ""
             }
            },
            "marker": {
             "colorbar": {
              "outlinewidth": 0,
              "ticks": ""
             }
            },
            "type": "scatter3d"
           }
          ],
          "scattercarpet": [
           {
            "marker": {
             "colorbar": {
              "outlinewidth": 0,
              "ticks": ""
             }
            },
            "type": "scattercarpet"
           }
          ],
          "scattergeo": [
           {
            "marker": {
             "colorbar": {
              "outlinewidth": 0,
              "ticks": ""
             }
            },
            "type": "scattergeo"
           }
          ],
          "scattergl": [
           {
            "marker": {
             "colorbar": {
              "outlinewidth": 0,
              "ticks": ""
             }
            },
            "type": "scattergl"
           }
          ],
          "scattermap": [
           {
            "marker": {
             "colorbar": {
              "outlinewidth": 0,
              "ticks": ""
             }
            },
            "type": "scattermap"
           }
          ],
          "scattermapbox": [
           {
            "marker": {
             "colorbar": {
              "outlinewidth": 0,
              "ticks": ""
             }
            },
            "type": "scattermapbox"
           }
          ],
          "scatterpolar": [
           {
            "marker": {
             "colorbar": {
              "outlinewidth": 0,
              "ticks": ""
             }
            },
            "type": "scatterpolar"
           }
          ],
          "scatterpolargl": [
           {
            "marker": {
             "colorbar": {
              "outlinewidth": 0,
              "ticks": ""
             }
            },
            "type": "scatterpolargl"
           }
          ],
          "scatterternary": [
           {
            "marker": {
             "colorbar": {
              "outlinewidth": 0,
              "ticks": ""
             }
            },
            "type": "scatterternary"
           }
          ],
          "surface": [
           {
            "colorbar": {
             "outlinewidth": 0,
             "ticks": ""
            },
            "colorscale": [
             [
              0,
              "#0d0887"
             ],
             [
              0.1111111111111111,
              "#46039f"
             ],
             [
              0.2222222222222222,
              "#7201a8"
             ],
             [
              0.3333333333333333,
              "#9c179e"
             ],
             [
              0.4444444444444444,
              "#bd3786"
             ],
             [
              0.5555555555555556,
              "#d8576b"
             ],
             [
              0.6666666666666666,
              "#ed7953"
             ],
             [
              0.7777777777777778,
              "#fb9f3a"
             ],
             [
              0.8888888888888888,
              "#fdca26"
             ],
             [
              1,
              "#f0f921"
             ]
            ],
            "type": "surface"
           }
          ],
          "table": [
           {
            "cells": {
             "fill": {
              "color": "#EBF0F8"
             },
             "line": {
              "color": "white"
             }
            },
            "header": {
             "fill": {
              "color": "#C8D4E3"
             },
             "line": {
              "color": "white"
             }
            },
            "type": "table"
           }
          ]
         },
         "layout": {
          "annotationdefaults": {
           "arrowcolor": "#2a3f5f",
           "arrowhead": 0,
           "arrowwidth": 1
          },
          "autotypenumbers": "strict",
          "coloraxis": {
           "colorbar": {
            "outlinewidth": 0,
            "ticks": ""
           }
          },
          "colorscale": {
           "diverging": [
            [
             0,
             "#8e0152"
            ],
            [
             0.1,
             "#c51b7d"
            ],
            [
             0.2,
             "#de77ae"
            ],
            [
             0.3,
             "#f1b6da"
            ],
            [
             0.4,
             "#fde0ef"
            ],
            [
             0.5,
             "#f7f7f7"
            ],
            [
             0.6,
             "#e6f5d0"
            ],
            [
             0.7,
             "#b8e186"
            ],
            [
             0.8,
             "#7fbc41"
            ],
            [
             0.9,
             "#4d9221"
            ],
            [
             1,
             "#276419"
            ]
           ],
           "sequential": [
            [
             0,
             "#0d0887"
            ],
            [
             0.1111111111111111,
             "#46039f"
            ],
            [
             0.2222222222222222,
             "#7201a8"
            ],
            [
             0.3333333333333333,
             "#9c179e"
            ],
            [
             0.4444444444444444,
             "#bd3786"
            ],
            [
             0.5555555555555556,
             "#d8576b"
            ],
            [
             0.6666666666666666,
             "#ed7953"
            ],
            [
             0.7777777777777778,
             "#fb9f3a"
            ],
            [
             0.8888888888888888,
             "#fdca26"
            ],
            [
             1,
             "#f0f921"
            ]
           ],
           "sequentialminus": [
            [
             0,
             "#0d0887"
            ],
            [
             0.1111111111111111,
             "#46039f"
            ],
            [
             0.2222222222222222,
             "#7201a8"
            ],
            [
             0.3333333333333333,
             "#9c179e"
            ],
            [
             0.4444444444444444,
             "#bd3786"
            ],
            [
             0.5555555555555556,
             "#d8576b"
            ],
            [
             0.6666666666666666,
             "#ed7953"
            ],
            [
             0.7777777777777778,
             "#fb9f3a"
            ],
            [
             0.8888888888888888,
             "#fdca26"
            ],
            [
             1,
             "#f0f921"
            ]
           ]
          },
          "colorway": [
           "#636efa",
           "#EF553B",
           "#00cc96",
           "#ab63fa",
           "#FFA15A",
           "#19d3f3",
           "#FF6692",
           "#B6E880",
           "#FF97FF",
           "#FECB52"
          ],
          "font": {
           "color": "#2a3f5f"
          },
          "geo": {
           "bgcolor": "white",
           "lakecolor": "white",
           "landcolor": "#E5ECF6",
           "showlakes": true,
           "showland": true,
           "subunitcolor": "white"
          },
          "hoverlabel": {
           "align": "left"
          },
          "hovermode": "closest",
          "mapbox": {
           "style": "light"
          },
          "paper_bgcolor": "white",
          "plot_bgcolor": "#E5ECF6",
          "polar": {
           "angularaxis": {
            "gridcolor": "white",
            "linecolor": "white",
            "ticks": ""
           },
           "bgcolor": "#E5ECF6",
           "radialaxis": {
            "gridcolor": "white",
            "linecolor": "white",
            "ticks": ""
           }
          },
          "scene": {
           "xaxis": {
            "backgroundcolor": "#E5ECF6",
            "gridcolor": "white",
            "gridwidth": 2,
            "linecolor": "white",
            "showbackground": true,
            "ticks": "",
            "zerolinecolor": "white"
           },
           "yaxis": {
            "backgroundcolor": "#E5ECF6",
            "gridcolor": "white",
            "gridwidth": 2,
            "linecolor": "white",
            "showbackground": true,
            "ticks": "",
            "zerolinecolor": "white"
           },
           "zaxis": {
            "backgroundcolor": "#E5ECF6",
            "gridcolor": "white",
            "gridwidth": 2,
            "linecolor": "white",
            "showbackground": true,
            "ticks": "",
            "zerolinecolor": "white"
           }
          },
          "shapedefaults": {
           "line": {
            "color": "#2a3f5f"
           }
          },
          "ternary": {
           "aaxis": {
            "gridcolor": "white",
            "linecolor": "white",
            "ticks": ""
           },
           "baxis": {
            "gridcolor": "white",
            "linecolor": "white",
            "ticks": ""
           },
           "bgcolor": "#E5ECF6",
           "caxis": {
            "gridcolor": "white",
            "linecolor": "white",
            "ticks": ""
           }
          },
          "title": {
           "x": 0.05
          },
          "xaxis": {
           "automargin": true,
           "gridcolor": "white",
           "linecolor": "white",
           "ticks": "",
           "title": {
            "standoff": 15
           },
           "zerolinecolor": "white",
           "zerolinewidth": 2
          },
          "yaxis": {
           "automargin": true,
           "gridcolor": "white",
           "linecolor": "white",
           "ticks": "",
           "title": {
            "standoff": 15
           },
           "zerolinecolor": "white",
           "zerolinewidth": 2
          }
         }
        },
        "title": {
         "text": "Movies by Original Language"
        },
        "xaxis": {
         "anchor": "y",
         "domain": [
          0,
          1
         ],
         "tickangle": -45,
         "title": {
          "text": "Language"
         }
        },
        "yaxis": {
         "anchor": "x",
         "domain": [
          0,
          1
         ],
         "title": {
          "text": "Number of Movies"
         }
        }
       }
      }
     },
     "metadata": {},
     "output_type": "display_data"
    }
   ],
   "source": [
    "import plotly.express as px\n",
    "import plotly.graph_objects as go\n",
    "\n",
    "# Group by language and get counts\n",
    "language_counts = movies.groupby('original_language').size().reset_index(name='count')\n",
    "\n",
    "# Sort by count and get top 15 languages\n",
    "language_counts = language_counts.sort_values('count', ascending=False).head(15)\n",
    "\n",
    "# Create interactive bar chart with Plotly\n",
    "fig = px.bar(language_counts, \n",
    "             x='original_language', \n",
    "             y='count',\n",
    "             title='Movies by Original Language',\n",
    "             labels={'original_language': 'Language', 'count': 'Number of Movies'},\n",
    "             color='count',\n",
    "             color_continuous_scale='Blues')\n",
    "\n",
    "# Customize layout\n",
    "fig.update_layout(\n",
    "    xaxis_tickangle=-45,\n",
    "    height=500,\n",
    "    showlegend=False\n",
    ")\n",
    "\n",
    "fig.show()"
   ]
  },
  {
   "cell_type": "code",
   "execution_count": 118,
   "id": "6ed0546c",
   "metadata": {},
   "outputs": [
    {
     "data": {
      "application/vnd.plotly.v1+json": {
       "config": {
        "plotlyServerURL": "https://plot.ly"
       },
       "data": [
        {
         "customdata": {
          "bdata": "t2hw/42kFUAAAAAA8LNaQepztRX7KxJAAAAAAADnoEAxJZLoZZQYQAAAAAAq5VNBekGdGIbeGEAAAAAAwFxVQZRGQKj09xJAAAAAAAAAWUA1rCe2QasWQAAAAACs4z9Bpw102kD3FkAAAAAAGr9HQZbs7bDn4hZAAAAAACp1dUHrmODBPFEYQAAAAADgjCpBp0KmXZdNC0AAAAAAAIjDQJ065321+xNAAAAAAABcokB30P4c9bIZQAAAAOC0wVlBiMeCA9ywGUAAAAAARFliQY0DwmF8KwxAAAAAAACIg0AcHCLVRg0bQAAAAADamSFB",
          "dtype": "f8",
          "shape": "15, 2"
         },
         "hovertemplate": "<b>%{x}</b><br>Movies: %{y}<br>Avg Rating: %{customdata[0]:.1f}<br>Median Budget: $%{customdata[1]:,.0f}",
         "marker": {
          "color": "lightblue",
          "line": {
           "color": "darkblue",
           "width": 1.5
          }
         },
         "text": {
          "bdata": "AAAAAAAom0AAAAAAAABkQAAAAAAAwGJAAAAAAADAWkAAAAAAAABaQAAAAAAAgFFAAAAAAAAASEAAAAAAAABHQAAAAAAAgEZAAAAAAAAARkAAAAAAAABFQAAAAAAAAENAAAAAAACAQUAAAAAAAAA+QAAAAAAAAD1A",
          "dtype": "f8"
         },
         "textposition": "auto",
         "type": "bar",
         "x": [
          "en",
          "es",
          "fr",
          "hi",
          "pt",
          "ru",
          "it",
          "zh",
          "ml",
          "fa",
          "de",
          "te",
          "ko",
          "tr",
          "id"
         ],
         "y": {
          "bdata": "ygagAJYAawBoAEYAMAAuAC0ALAAqACYAIwAeAB0A",
          "dtype": "i2"
         }
        }
       ],
       "layout": {
        "height": 500,
        "template": {
         "data": {
          "bar": [
           {
            "error_x": {
             "color": "#2a3f5f"
            },
            "error_y": {
             "color": "#2a3f5f"
            },
            "marker": {
             "line": {
              "color": "#E5ECF6",
              "width": 0.5
             },
             "pattern": {
              "fillmode": "overlay",
              "size": 10,
              "solidity": 0.2
             }
            },
            "type": "bar"
           }
          ],
          "barpolar": [
           {
            "marker": {
             "line": {
              "color": "#E5ECF6",
              "width": 0.5
             },
             "pattern": {
              "fillmode": "overlay",
              "size": 10,
              "solidity": 0.2
             }
            },
            "type": "barpolar"
           }
          ],
          "carpet": [
           {
            "aaxis": {
             "endlinecolor": "#2a3f5f",
             "gridcolor": "white",
             "linecolor": "white",
             "minorgridcolor": "white",
             "startlinecolor": "#2a3f5f"
            },
            "baxis": {
             "endlinecolor": "#2a3f5f",
             "gridcolor": "white",
             "linecolor": "white",
             "minorgridcolor": "white",
             "startlinecolor": "#2a3f5f"
            },
            "type": "carpet"
           }
          ],
          "choropleth": [
           {
            "colorbar": {
             "outlinewidth": 0,
             "ticks": ""
            },
            "type": "choropleth"
           }
          ],
          "contour": [
           {
            "colorbar": {
             "outlinewidth": 0,
             "ticks": ""
            },
            "colorscale": [
             [
              0,
              "#0d0887"
             ],
             [
              0.1111111111111111,
              "#46039f"
             ],
             [
              0.2222222222222222,
              "#7201a8"
             ],
             [
              0.3333333333333333,
              "#9c179e"
             ],
             [
              0.4444444444444444,
              "#bd3786"
             ],
             [
              0.5555555555555556,
              "#d8576b"
             ],
             [
              0.6666666666666666,
              "#ed7953"
             ],
             [
              0.7777777777777778,
              "#fb9f3a"
             ],
             [
              0.8888888888888888,
              "#fdca26"
             ],
             [
              1,
              "#f0f921"
             ]
            ],
            "type": "contour"
           }
          ],
          "contourcarpet": [
           {
            "colorbar": {
             "outlinewidth": 0,
             "ticks": ""
            },
            "type": "contourcarpet"
           }
          ],
          "heatmap": [
           {
            "colorbar": {
             "outlinewidth": 0,
             "ticks": ""
            },
            "colorscale": [
             [
              0,
              "#0d0887"
             ],
             [
              0.1111111111111111,
              "#46039f"
             ],
             [
              0.2222222222222222,
              "#7201a8"
             ],
             [
              0.3333333333333333,
              "#9c179e"
             ],
             [
              0.4444444444444444,
              "#bd3786"
             ],
             [
              0.5555555555555556,
              "#d8576b"
             ],
             [
              0.6666666666666666,
              "#ed7953"
             ],
             [
              0.7777777777777778,
              "#fb9f3a"
             ],
             [
              0.8888888888888888,
              "#fdca26"
             ],
             [
              1,
              "#f0f921"
             ]
            ],
            "type": "heatmap"
           }
          ],
          "histogram": [
           {
            "marker": {
             "pattern": {
              "fillmode": "overlay",
              "size": 10,
              "solidity": 0.2
             }
            },
            "type": "histogram"
           }
          ],
          "histogram2d": [
           {
            "colorbar": {
             "outlinewidth": 0,
             "ticks": ""
            },
            "colorscale": [
             [
              0,
              "#0d0887"
             ],
             [
              0.1111111111111111,
              "#46039f"
             ],
             [
              0.2222222222222222,
              "#7201a8"
             ],
             [
              0.3333333333333333,
              "#9c179e"
             ],
             [
              0.4444444444444444,
              "#bd3786"
             ],
             [
              0.5555555555555556,
              "#d8576b"
             ],
             [
              0.6666666666666666,
              "#ed7953"
             ],
             [
              0.7777777777777778,
              "#fb9f3a"
             ],
             [
              0.8888888888888888,
              "#fdca26"
             ],
             [
              1,
              "#f0f921"
             ]
            ],
            "type": "histogram2d"
           }
          ],
          "histogram2dcontour": [
           {
            "colorbar": {
             "outlinewidth": 0,
             "ticks": ""
            },
            "colorscale": [
             [
              0,
              "#0d0887"
             ],
             [
              0.1111111111111111,
              "#46039f"
             ],
             [
              0.2222222222222222,
              "#7201a8"
             ],
             [
              0.3333333333333333,
              "#9c179e"
             ],
             [
              0.4444444444444444,
              "#bd3786"
             ],
             [
              0.5555555555555556,
              "#d8576b"
             ],
             [
              0.6666666666666666,
              "#ed7953"
             ],
             [
              0.7777777777777778,
              "#fb9f3a"
             ],
             [
              0.8888888888888888,
              "#fdca26"
             ],
             [
              1,
              "#f0f921"
             ]
            ],
            "type": "histogram2dcontour"
           }
          ],
          "mesh3d": [
           {
            "colorbar": {
             "outlinewidth": 0,
             "ticks": ""
            },
            "type": "mesh3d"
           }
          ],
          "parcoords": [
           {
            "line": {
             "colorbar": {
              "outlinewidth": 0,
              "ticks": ""
             }
            },
            "type": "parcoords"
           }
          ],
          "pie": [
           {
            "automargin": true,
            "type": "pie"
           }
          ],
          "scatter": [
           {
            "fillpattern": {
             "fillmode": "overlay",
             "size": 10,
             "solidity": 0.2
            },
            "type": "scatter"
           }
          ],
          "scatter3d": [
           {
            "line": {
             "colorbar": {
              "outlinewidth": 0,
              "ticks": ""
             }
            },
            "marker": {
             "colorbar": {
              "outlinewidth": 0,
              "ticks": ""
             }
            },
            "type": "scatter3d"
           }
          ],
          "scattercarpet": [
           {
            "marker": {
             "colorbar": {
              "outlinewidth": 0,
              "ticks": ""
             }
            },
            "type": "scattercarpet"
           }
          ],
          "scattergeo": [
           {
            "marker": {
             "colorbar": {
              "outlinewidth": 0,
              "ticks": ""
             }
            },
            "type": "scattergeo"
           }
          ],
          "scattergl": [
           {
            "marker": {
             "colorbar": {
              "outlinewidth": 0,
              "ticks": ""
             }
            },
            "type": "scattergl"
           }
          ],
          "scattermap": [
           {
            "marker": {
             "colorbar": {
              "outlinewidth": 0,
              "ticks": ""
             }
            },
            "type": "scattermap"
           }
          ],
          "scattermapbox": [
           {
            "marker": {
             "colorbar": {
              "outlinewidth": 0,
              "ticks": ""
             }
            },
            "type": "scattermapbox"
           }
          ],
          "scatterpolar": [
           {
            "marker": {
             "colorbar": {
              "outlinewidth": 0,
              "ticks": ""
             }
            },
            "type": "scatterpolar"
           }
          ],
          "scatterpolargl": [
           {
            "marker": {
             "colorbar": {
              "outlinewidth": 0,
              "ticks": ""
             }
            },
            "type": "scatterpolargl"
           }
          ],
          "scatterternary": [
           {
            "marker": {
             "colorbar": {
              "outlinewidth": 0,
              "ticks": ""
             }
            },
            "type": "scatterternary"
           }
          ],
          "surface": [
           {
            "colorbar": {
             "outlinewidth": 0,
             "ticks": ""
            },
            "colorscale": [
             [
              0,
              "#0d0887"
             ],
             [
              0.1111111111111111,
              "#46039f"
             ],
             [
              0.2222222222222222,
              "#7201a8"
             ],
             [
              0.3333333333333333,
              "#9c179e"
             ],
             [
              0.4444444444444444,
              "#bd3786"
             ],
             [
              0.5555555555555556,
              "#d8576b"
             ],
             [
              0.6666666666666666,
              "#ed7953"
             ],
             [
              0.7777777777777778,
              "#fb9f3a"
             ],
             [
              0.8888888888888888,
              "#fdca26"
             ],
             [
              1,
              "#f0f921"
             ]
            ],
            "type": "surface"
           }
          ],
          "table": [
           {
            "cells": {
             "fill": {
              "color": "#EBF0F8"
             },
             "line": {
              "color": "white"
             }
            },
            "header": {
             "fill": {
              "color": "#C8D4E3"
             },
             "line": {
              "color": "white"
             }
            },
            "type": "table"
           }
          ]
         },
         "layout": {
          "annotationdefaults": {
           "arrowcolor": "#2a3f5f",
           "arrowhead": 0,
           "arrowwidth": 1
          },
          "autotypenumbers": "strict",
          "coloraxis": {
           "colorbar": {
            "outlinewidth": 0,
            "ticks": ""
           }
          },
          "colorscale": {
           "diverging": [
            [
             0,
             "#8e0152"
            ],
            [
             0.1,
             "#c51b7d"
            ],
            [
             0.2,
             "#de77ae"
            ],
            [
             0.3,
             "#f1b6da"
            ],
            [
             0.4,
             "#fde0ef"
            ],
            [
             0.5,
             "#f7f7f7"
            ],
            [
             0.6,
             "#e6f5d0"
            ],
            [
             0.7,
             "#b8e186"
            ],
            [
             0.8,
             "#7fbc41"
            ],
            [
             0.9,
             "#4d9221"
            ],
            [
             1,
             "#276419"
            ]
           ],
           "sequential": [
            [
             0,
             "#0d0887"
            ],
            [
             0.1111111111111111,
             "#46039f"
            ],
            [
             0.2222222222222222,
             "#7201a8"
            ],
            [
             0.3333333333333333,
             "#9c179e"
            ],
            [
             0.4444444444444444,
             "#bd3786"
            ],
            [
             0.5555555555555556,
             "#d8576b"
            ],
            [
             0.6666666666666666,
             "#ed7953"
            ],
            [
             0.7777777777777778,
             "#fb9f3a"
            ],
            [
             0.8888888888888888,
             "#fdca26"
            ],
            [
             1,
             "#f0f921"
            ]
           ],
           "sequentialminus": [
            [
             0,
             "#0d0887"
            ],
            [
             0.1111111111111111,
             "#46039f"
            ],
            [
             0.2222222222222222,
             "#7201a8"
            ],
            [
             0.3333333333333333,
             "#9c179e"
            ],
            [
             0.4444444444444444,
             "#bd3786"
            ],
            [
             0.5555555555555556,
             "#d8576b"
            ],
            [
             0.6666666666666666,
             "#ed7953"
            ],
            [
             0.7777777777777778,
             "#fb9f3a"
            ],
            [
             0.8888888888888888,
             "#fdca26"
            ],
            [
             1,
             "#f0f921"
            ]
           ]
          },
          "colorway": [
           "#636efa",
           "#EF553B",
           "#00cc96",
           "#ab63fa",
           "#FFA15A",
           "#19d3f3",
           "#FF6692",
           "#B6E880",
           "#FF97FF",
           "#FECB52"
          ],
          "font": {
           "color": "#2a3f5f"
          },
          "geo": {
           "bgcolor": "white",
           "lakecolor": "white",
           "landcolor": "#E5ECF6",
           "showlakes": true,
           "showland": true,
           "subunitcolor": "white"
          },
          "hoverlabel": {
           "align": "left"
          },
          "hovermode": "closest",
          "mapbox": {
           "style": "light"
          },
          "paper_bgcolor": "white",
          "plot_bgcolor": "#E5ECF6",
          "polar": {
           "angularaxis": {
            "gridcolor": "white",
            "linecolor": "white",
            "ticks": ""
           },
           "bgcolor": "#E5ECF6",
           "radialaxis": {
            "gridcolor": "white",
            "linecolor": "white",
            "ticks": ""
           }
          },
          "scene": {
           "xaxis": {
            "backgroundcolor": "#E5ECF6",
            "gridcolor": "white",
            "gridwidth": 2,
            "linecolor": "white",
            "showbackground": true,
            "ticks": "",
            "zerolinecolor": "white"
           },
           "yaxis": {
            "backgroundcolor": "#E5ECF6",
            "gridcolor": "white",
            "gridwidth": 2,
            "linecolor": "white",
            "showbackground": true,
            "ticks": "",
            "zerolinecolor": "white"
           },
           "zaxis": {
            "backgroundcolor": "#E5ECF6",
            "gridcolor": "white",
            "gridwidth": 2,
            "linecolor": "white",
            "showbackground": true,
            "ticks": "",
            "zerolinecolor": "white"
           }
          },
          "shapedefaults": {
           "line": {
            "color": "#2a3f5f"
           }
          },
          "ternary": {
           "aaxis": {
            "gridcolor": "white",
            "linecolor": "white",
            "ticks": ""
           },
           "baxis": {
            "gridcolor": "white",
            "linecolor": "white",
            "ticks": ""
           },
           "bgcolor": "#E5ECF6",
           "caxis": {
            "gridcolor": "white",
            "linecolor": "white",
            "ticks": ""
           }
          },
          "title": {
           "x": 0.05
          },
          "xaxis": {
           "automargin": true,
           "gridcolor": "white",
           "linecolor": "white",
           "ticks": "",
           "title": {
            "standoff": 15
           },
           "zerolinecolor": "white",
           "zerolinewidth": 2
          },
          "yaxis": {
           "automargin": true,
           "gridcolor": "white",
           "linecolor": "white",
           "ticks": "",
           "title": {
            "standoff": 15
           },
           "zerolinecolor": "white",
           "zerolinewidth": 2
          }
         }
        },
        "title": {
         "text": "Movies by Original Language (Interactive)"
        },
        "xaxis": {
         "tickangle": -45,
         "title": {
          "text": "Language"
         }
        },
        "yaxis": {
         "title": {
          "text": "Number of Movies"
         }
        }
       }
      }
     },
     "metadata": {},
     "output_type": "display_data"
    }
   ],
   "source": [
    "# More detailed aggregation for hover info\n",
    "language_stats = movies.groupby('original_language').agg(\n",
    "    count=('movie_title', 'count'),\n",
    "    avg_rating=('vote_average', 'mean'),\n",
    "    median_budget=('budget', 'median')\n",
    ").reset_index()\n",
    "\n",
    "# Sort and filter top 15\n",
    "language_stats = language_stats.sort_values('count', ascending=False).head(15)\n",
    "\n",
    "# Create bar chart with hover data\n",
    "fig = go.Figure(data=[\n",
    "    go.Bar(x=language_stats['original_language'],\n",
    "           y=language_stats['count'],\n",
    "           text=language_stats['count'],\n",
    "           textposition='auto',\n",
    "           hovertemplate='<b>%{x}</b><br>' +\n",
    "                        'Movies: %{y}<br>' +\n",
    "                        'Avg Rating: %{customdata[0]:.1f}<br>' +\n",
    "                        'Median Budget: $%{customdata[1]:,.0f}',\n",
    "           customdata=language_stats[['avg_rating', 'median_budget']].values,\n",
    "           marker_color='lightblue',\n",
    "           marker_line_color='darkblue',\n",
    "           marker_line_width=1.5)\n",
    "])\n",
    "\n",
    "fig.update_layout(\n",
    "    title='Movies by Original Language (Interactive)',\n",
    "    xaxis_title='Language',\n",
    "    yaxis_title='Number of Movies',\n",
    "    xaxis_tickangle=-45,\n",
    "    height=500\n",
    ")\n",
    "\n",
    "fig.show()"
   ]
  },
  {
   "cell_type": "code",
   "execution_count": 119,
   "id": "a55f2512",
   "metadata": {},
   "outputs": [
    {
     "data": {
      "application/vnd.plotly.v1+json": {
       "config": {
        "plotlyServerURL": "https://plot.ly"
       },
       "data": [
        {
         "customdata": {
          "bdata": "AAAAAKoJJUEAAAAA2pkhQQAAAAAAgDNAHBwi1UYNG0B+4S/KabbpPwAAAAAAcIdAAAAAAACIg0AAAAAAAAA0QI0DwmF8KwxAGxL3WPrQ3z8AAADgdDZ3QQAAAABEWWJBAAAAAAAgY0CIx4ID3LAZQBwM986p5hJAAAAA0Li4ZkEAAADgtMFZQZqZmZmZGVNAd9D+HPWyGUAco2YtAukFQAAAAAAAlKFAAAAAAABcokAzMzMzMzMRwJ065321+xNARt81vshc2z8AAAAAAIjTQAAAAAAAiMNAAAAAAAAAWUCnQqZdl00LQKENVrvbyfI/AAAAAIcETUEAAAAA4IwqQTMzMzMzE3VA65jgwTxRGECXqN4a2CoCQAAAAHS8nZNBAAAAACp1dUEzMzMzM5twQJbs7bDn4hZAWl0Ktp7QBUAAAAAAC0gvQQAAAAAav0dBZmZmZmbGUMCnDXTaQPcWQO3rwDkjWvY/AAAAAKUPLUEAAAAArOM/QTMzMzMzM0vANawntkGrFkC7O7Df0i/7PwAAAAAAAGlAAAAAAAAAWUAAAAAAAABZQJRGQKj09xJAPvO4ev2Pzj8AAAAAhNdnQQAAAADAXFVBzczMzMzMXkB6QZ0Yht4YQOOBD7dpYANAAAAAAE8dQEEAAAAAKuVTQQAAAAAAwE3AMSWS6GWUGEA8HbWvKb0AQAAAAAAAQI9AAAAAAADnoEBmZmZmZuZKwOpztRX7KxJAQPZ698d76j8AAACAGANMQQAAAADws1pBAAAAAADAR8C3aHD/jaQVQBYRC+UKPhFA",
          "dtype": "f8",
          "shape": "15, 5"
         },
         "hovertemplate": "<b>Language: %{y}</b><br><br>Movie Count: %{x}<br>Median Gross: $%{customdata[0]:,.0f}<br>Median Budget: $%{customdata[1]:,.0f}<br>ROI: %{customdata[2]:.1f}%<br>Avg Rating: %{customdata[3]:.2f}<br>Avg Popularity: %{customdata[4]:.1f}<br><extra></extra>",
         "marker": {
          "color": {
           "bdata": "AAAAAACAM0AAAAAAAAA0QAAAAAAAIGNAmpmZmZkZU0AzMzMzMzMRwAAAAAAAAFlAMzMzMzMTdUAzMzMzM5twQGZmZmZmxlDAMzMzMzMzS8AAAAAAAABZQM3MzMzMzF5AAAAAAADATcBmZmZmZuZKwAAAAAAAwEfA",
           "dtype": "f8"
          },
          "colorbar": {
           "len": 0.5,
           "thickness": 15,
           "title": {
            "text": "ROI %"
           },
           "x": 0.85,
           "xanchor": "left",
           "y": 0.5
          },
          "colorscale": [
           [
            0,
            "rgb(165,0,38)"
           ],
           [
            0.1,
            "rgb(215,48,39)"
           ],
           [
            0.2,
            "rgb(244,109,67)"
           ],
           [
            0.3,
            "rgb(253,174,97)"
           ],
           [
            0.4,
            "rgb(254,224,139)"
           ],
           [
            0.5,
            "rgb(255,255,191)"
           ],
           [
            0.6,
            "rgb(217,239,139)"
           ],
           [
            0.7,
            "rgb(166,217,106)"
           ],
           [
            0.8,
            "rgb(102,189,99)"
           ],
           [
            0.9,
            "rgb(26,152,80)"
           ],
           [
            1,
            "rgb(0,104,55)"
           ]
          ],
          "showscale": true
         },
         "orientation": "h",
         "text": {
          "bdata": "AAAAAAAAPUAAAAAAAAA+QAAAAAAAgEFAAAAAAAAAQ0AAAAAAAABFQAAAAAAAAEZAAAAAAACARkAAAAAAAABHQAAAAAAAAEhAAAAAAACAUUAAAAAAAABaQAAAAAAAwFpAAAAAAADAYkAAAAAAAABkQAAAAAAAKJtA",
          "dtype": "f8"
         },
         "textposition": "outside",
         "type": "bar",
         "x": {
          "bdata": "HQAeACMAJgAqACwALQAuADAARgBoAGsAlgCgAMoG",
          "dtype": "i2"
         },
         "y": [
          "id",
          "tr",
          "ko",
          "te",
          "de",
          "fa",
          "ml",
          "zh",
          "it",
          "ru",
          "pt",
          "hi",
          "fr",
          "es",
          "en"
         ]
        }
       ],
       "layout": {
        "height": 600,
        "margin": {
         "l": 100,
         "r": 150
        },
        "showlegend": false,
        "template": {
         "data": {
          "bar": [
           {
            "error_x": {
             "color": "#2a3f5f"
            },
            "error_y": {
             "color": "#2a3f5f"
            },
            "marker": {
             "line": {
              "color": "#E5ECF6",
              "width": 0.5
             },
             "pattern": {
              "fillmode": "overlay",
              "size": 10,
              "solidity": 0.2
             }
            },
            "type": "bar"
           }
          ],
          "barpolar": [
           {
            "marker": {
             "line": {
              "color": "#E5ECF6",
              "width": 0.5
             },
             "pattern": {
              "fillmode": "overlay",
              "size": 10,
              "solidity": 0.2
             }
            },
            "type": "barpolar"
           }
          ],
          "carpet": [
           {
            "aaxis": {
             "endlinecolor": "#2a3f5f",
             "gridcolor": "white",
             "linecolor": "white",
             "minorgridcolor": "white",
             "startlinecolor": "#2a3f5f"
            },
            "baxis": {
             "endlinecolor": "#2a3f5f",
             "gridcolor": "white",
             "linecolor": "white",
             "minorgridcolor": "white",
             "startlinecolor": "#2a3f5f"
            },
            "type": "carpet"
           }
          ],
          "choropleth": [
           {
            "colorbar": {
             "outlinewidth": 0,
             "ticks": ""
            },
            "type": "choropleth"
           }
          ],
          "contour": [
           {
            "colorbar": {
             "outlinewidth": 0,
             "ticks": ""
            },
            "colorscale": [
             [
              0,
              "#0d0887"
             ],
             [
              0.1111111111111111,
              "#46039f"
             ],
             [
              0.2222222222222222,
              "#7201a8"
             ],
             [
              0.3333333333333333,
              "#9c179e"
             ],
             [
              0.4444444444444444,
              "#bd3786"
             ],
             [
              0.5555555555555556,
              "#d8576b"
             ],
             [
              0.6666666666666666,
              "#ed7953"
             ],
             [
              0.7777777777777778,
              "#fb9f3a"
             ],
             [
              0.8888888888888888,
              "#fdca26"
             ],
             [
              1,
              "#f0f921"
             ]
            ],
            "type": "contour"
           }
          ],
          "contourcarpet": [
           {
            "colorbar": {
             "outlinewidth": 0,
             "ticks": ""
            },
            "type": "contourcarpet"
           }
          ],
          "heatmap": [
           {
            "colorbar": {
             "outlinewidth": 0,
             "ticks": ""
            },
            "colorscale": [
             [
              0,
              "#0d0887"
             ],
             [
              0.1111111111111111,
              "#46039f"
             ],
             [
              0.2222222222222222,
              "#7201a8"
             ],
             [
              0.3333333333333333,
              "#9c179e"
             ],
             [
              0.4444444444444444,
              "#bd3786"
             ],
             [
              0.5555555555555556,
              "#d8576b"
             ],
             [
              0.6666666666666666,
              "#ed7953"
             ],
             [
              0.7777777777777778,
              "#fb9f3a"
             ],
             [
              0.8888888888888888,
              "#fdca26"
             ],
             [
              1,
              "#f0f921"
             ]
            ],
            "type": "heatmap"
           }
          ],
          "histogram": [
           {
            "marker": {
             "pattern": {
              "fillmode": "overlay",
              "size": 10,
              "solidity": 0.2
             }
            },
            "type": "histogram"
           }
          ],
          "histogram2d": [
           {
            "colorbar": {
             "outlinewidth": 0,
             "ticks": ""
            },
            "colorscale": [
             [
              0,
              "#0d0887"
             ],
             [
              0.1111111111111111,
              "#46039f"
             ],
             [
              0.2222222222222222,
              "#7201a8"
             ],
             [
              0.3333333333333333,
              "#9c179e"
             ],
             [
              0.4444444444444444,
              "#bd3786"
             ],
             [
              0.5555555555555556,
              "#d8576b"
             ],
             [
              0.6666666666666666,
              "#ed7953"
             ],
             [
              0.7777777777777778,
              "#fb9f3a"
             ],
             [
              0.8888888888888888,
              "#fdca26"
             ],
             [
              1,
              "#f0f921"
             ]
            ],
            "type": "histogram2d"
           }
          ],
          "histogram2dcontour": [
           {
            "colorbar": {
             "outlinewidth": 0,
             "ticks": ""
            },
            "colorscale": [
             [
              0,
              "#0d0887"
             ],
             [
              0.1111111111111111,
              "#46039f"
             ],
             [
              0.2222222222222222,
              "#7201a8"
             ],
             [
              0.3333333333333333,
              "#9c179e"
             ],
             [
              0.4444444444444444,
              "#bd3786"
             ],
             [
              0.5555555555555556,
              "#d8576b"
             ],
             [
              0.6666666666666666,
              "#ed7953"
             ],
             [
              0.7777777777777778,
              "#fb9f3a"
             ],
             [
              0.8888888888888888,
              "#fdca26"
             ],
             [
              1,
              "#f0f921"
             ]
            ],
            "type": "histogram2dcontour"
           }
          ],
          "mesh3d": [
           {
            "colorbar": {
             "outlinewidth": 0,
             "ticks": ""
            },
            "type": "mesh3d"
           }
          ],
          "parcoords": [
           {
            "line": {
             "colorbar": {
              "outlinewidth": 0,
              "ticks": ""
             }
            },
            "type": "parcoords"
           }
          ],
          "pie": [
           {
            "automargin": true,
            "type": "pie"
           }
          ],
          "scatter": [
           {
            "fillpattern": {
             "fillmode": "overlay",
             "size": 10,
             "solidity": 0.2
            },
            "type": "scatter"
           }
          ],
          "scatter3d": [
           {
            "line": {
             "colorbar": {
              "outlinewidth": 0,
              "ticks": ""
             }
            },
            "marker": {
             "colorbar": {
              "outlinewidth": 0,
              "ticks": ""
             }
            },
            "type": "scatter3d"
           }
          ],
          "scattercarpet": [
           {
            "marker": {
             "colorbar": {
              "outlinewidth": 0,
              "ticks": ""
             }
            },
            "type": "scattercarpet"
           }
          ],
          "scattergeo": [
           {
            "marker": {
             "colorbar": {
              "outlinewidth": 0,
              "ticks": ""
             }
            },
            "type": "scattergeo"
           }
          ],
          "scattergl": [
           {
            "marker": {
             "colorbar": {
              "outlinewidth": 0,
              "ticks": ""
             }
            },
            "type": "scattergl"
           }
          ],
          "scattermap": [
           {
            "marker": {
             "colorbar": {
              "outlinewidth": 0,
              "ticks": ""
             }
            },
            "type": "scattermap"
           }
          ],
          "scattermapbox": [
           {
            "marker": {
             "colorbar": {
              "outlinewidth": 0,
              "ticks": ""
             }
            },
            "type": "scattermapbox"
           }
          ],
          "scatterpolar": [
           {
            "marker": {
             "colorbar": {
              "outlinewidth": 0,
              "ticks": ""
             }
            },
            "type": "scatterpolar"
           }
          ],
          "scatterpolargl": [
           {
            "marker": {
             "colorbar": {
              "outlinewidth": 0,
              "ticks": ""
             }
            },
            "type": "scatterpolargl"
           }
          ],
          "scatterternary": [
           {
            "marker": {
             "colorbar": {
              "outlinewidth": 0,
              "ticks": ""
             }
            },
            "type": "scatterternary"
           }
          ],
          "surface": [
           {
            "colorbar": {
             "outlinewidth": 0,
             "ticks": ""
            },
            "colorscale": [
             [
              0,
              "#0d0887"
             ],
             [
              0.1111111111111111,
              "#46039f"
             ],
             [
              0.2222222222222222,
              "#7201a8"
             ],
             [
              0.3333333333333333,
              "#9c179e"
             ],
             [
              0.4444444444444444,
              "#bd3786"
             ],
             [
              0.5555555555555556,
              "#d8576b"
             ],
             [
              0.6666666666666666,
              "#ed7953"
             ],
             [
              0.7777777777777778,
              "#fb9f3a"
             ],
             [
              0.8888888888888888,
              "#fdca26"
             ],
             [
              1,
              "#f0f921"
             ]
            ],
            "type": "surface"
           }
          ],
          "table": [
           {
            "cells": {
             "fill": {
              "color": "#EBF0F8"
             },
             "line": {
              "color": "white"
             }
            },
            "header": {
             "fill": {
              "color": "#C8D4E3"
             },
             "line": {
              "color": "white"
             }
            },
            "type": "table"
           }
          ]
         },
         "layout": {
          "annotationdefaults": {
           "arrowcolor": "#2a3f5f",
           "arrowhead": 0,
           "arrowwidth": 1
          },
          "autotypenumbers": "strict",
          "coloraxis": {
           "colorbar": {
            "outlinewidth": 0,
            "ticks": ""
           }
          },
          "colorscale": {
           "diverging": [
            [
             0,
             "#8e0152"
            ],
            [
             0.1,
             "#c51b7d"
            ],
            [
             0.2,
             "#de77ae"
            ],
            [
             0.3,
             "#f1b6da"
            ],
            [
             0.4,
             "#fde0ef"
            ],
            [
             0.5,
             "#f7f7f7"
            ],
            [
             0.6,
             "#e6f5d0"
            ],
            [
             0.7,
             "#b8e186"
            ],
            [
             0.8,
             "#7fbc41"
            ],
            [
             0.9,
             "#4d9221"
            ],
            [
             1,
             "#276419"
            ]
           ],
           "sequential": [
            [
             0,
             "#0d0887"
            ],
            [
             0.1111111111111111,
             "#46039f"
            ],
            [
             0.2222222222222222,
             "#7201a8"
            ],
            [
             0.3333333333333333,
             "#9c179e"
            ],
            [
             0.4444444444444444,
             "#bd3786"
            ],
            [
             0.5555555555555556,
             "#d8576b"
            ],
            [
             0.6666666666666666,
             "#ed7953"
            ],
            [
             0.7777777777777778,
             "#fb9f3a"
            ],
            [
             0.8888888888888888,
             "#fdca26"
            ],
            [
             1,
             "#f0f921"
            ]
           ],
           "sequentialminus": [
            [
             0,
             "#0d0887"
            ],
            [
             0.1111111111111111,
             "#46039f"
            ],
            [
             0.2222222222222222,
             "#7201a8"
            ],
            [
             0.3333333333333333,
             "#9c179e"
            ],
            [
             0.4444444444444444,
             "#bd3786"
            ],
            [
             0.5555555555555556,
             "#d8576b"
            ],
            [
             0.6666666666666666,
             "#ed7953"
            ],
            [
             0.7777777777777778,
             "#fb9f3a"
            ],
            [
             0.8888888888888888,
             "#fdca26"
            ],
            [
             1,
             "#f0f921"
            ]
           ]
          },
          "colorway": [
           "#636efa",
           "#EF553B",
           "#00cc96",
           "#ab63fa",
           "#FFA15A",
           "#19d3f3",
           "#FF6692",
           "#B6E880",
           "#FF97FF",
           "#FECB52"
          ],
          "font": {
           "color": "#2a3f5f"
          },
          "geo": {
           "bgcolor": "white",
           "lakecolor": "white",
           "landcolor": "#E5ECF6",
           "showlakes": true,
           "showland": true,
           "subunitcolor": "white"
          },
          "hoverlabel": {
           "align": "left"
          },
          "hovermode": "closest",
          "mapbox": {
           "style": "light"
          },
          "paper_bgcolor": "white",
          "plot_bgcolor": "#E5ECF6",
          "polar": {
           "angularaxis": {
            "gridcolor": "white",
            "linecolor": "white",
            "ticks": ""
           },
           "bgcolor": "#E5ECF6",
           "radialaxis": {
            "gridcolor": "white",
            "linecolor": "white",
            "ticks": ""
           }
          },
          "scene": {
           "xaxis": {
            "backgroundcolor": "#E5ECF6",
            "gridcolor": "white",
            "gridwidth": 2,
            "linecolor": "white",
            "showbackground": true,
            "ticks": "",
            "zerolinecolor": "white"
           },
           "yaxis": {
            "backgroundcolor": "#E5ECF6",
            "gridcolor": "white",
            "gridwidth": 2,
            "linecolor": "white",
            "showbackground": true,
            "ticks": "",
            "zerolinecolor": "white"
           },
           "zaxis": {
            "backgroundcolor": "#E5ECF6",
            "gridcolor": "white",
            "gridwidth": 2,
            "linecolor": "white",
            "showbackground": true,
            "ticks": "",
            "zerolinecolor": "white"
           }
          },
          "shapedefaults": {
           "line": {
            "color": "#2a3f5f"
           }
          },
          "ternary": {
           "aaxis": {
            "gridcolor": "white",
            "linecolor": "white",
            "ticks": ""
           },
           "baxis": {
            "gridcolor": "white",
            "linecolor": "white",
            "ticks": ""
           },
           "bgcolor": "#E5ECF6",
           "caxis": {
            "gridcolor": "white",
            "linecolor": "white",
            "ticks": ""
           }
          },
          "title": {
           "x": 0.05
          },
          "xaxis": {
           "automargin": true,
           "gridcolor": "white",
           "linecolor": "white",
           "ticks": "",
           "title": {
            "standoff": 15
           },
           "zerolinecolor": "white",
           "zerolinewidth": 2
          },
          "yaxis": {
           "automargin": true,
           "gridcolor": "white",
           "linecolor": "white",
           "ticks": "",
           "title": {
            "standoff": 15
           },
           "zerolinecolor": "white",
           "zerolinewidth": 2
          }
         }
        },
        "title": {
         "text": "Movie Languages: Count and Performance Metrics<br><sub>Color indicates ROI; hover for details</sub>"
        },
        "width": 800,
        "xaxis": {
         "title": {
          "text": "Number of Movies"
         }
        },
        "yaxis": {
         "title": {
          "text": "Language"
         }
        }
       }
      }
     },
     "metadata": {},
     "output_type": "display_data"
    }
   ],
   "source": [
    "import plotly.graph_objects as go\n",
    "\n",
    "# Create comprehensive summary by language\n",
    "language_summary = movies.groupby('original_language').agg(\n",
    "    count=('movie_title', 'count'),\n",
    "    median_gross=('gross', 'median'),\n",
    "    avg_gross=('gross', 'mean'),\n",
    "    median_budget=('budget', 'median'),\n",
    "    avg_rating=('vote_average', 'mean'),\n",
    "    total_votes=('vote_count', 'sum'),\n",
    "    avg_popularity=('popularity', 'mean')\n",
    ").reset_index()\n",
    "\n",
    "# Calculate ROI\n",
    "language_summary['roi_percent'] = (\n",
    "    (language_summary['median_gross'] / language_summary['median_budget'] - 1) * 100\n",
    ").round(1)\n",
    "\n",
    "# Filter and sort\n",
    "language_summary = language_summary[language_summary['count'] >= 10]\n",
    "language_summary = language_summary.sort_values('count', ascending=True).tail(15)  # ascending=True for horizontal\n",
    "\n",
    "# Create horizontal bar chart\n",
    "fig = go.Figure()\n",
    "\n",
    "fig.add_trace(go.Bar(\n",
    "    y=language_summary['original_language'],  # y instead of x\n",
    "    x=language_summary['count'],              # x instead of y\n",
    "    orientation='h',                           # horizontal orientation\n",
    "    text=language_summary['count'],\n",
    "    textposition='outside',\n",
    "    hovertemplate=(\n",
    "        '<b>Language: %{y}</b><br><br>' +     # %{y} instead of %{x}\n",
    "        'Movie Count: %{x}<br>' +             # %{x} instead of %{y}\n",
    "        'Median Gross: $%{customdata[0]:,.0f}<br>' +\n",
    "        'Median Budget: $%{customdata[1]:,.0f}<br>' +\n",
    "        'ROI: %{customdata[2]:.1f}%<br>' +\n",
    "        'Avg Rating: %{customdata[3]:.2f}<br>' +\n",
    "        'Avg Popularity: %{customdata[4]:.1f}<br>' +\n",
    "        '<extra></extra>'\n",
    "    ),\n",
    "    customdata=language_summary[['median_gross', 'median_budget', 'roi_percent', \n",
    "                                  'avg_rating', 'avg_popularity']].values,\n",
    "    marker_color=language_summary['roi_percent'],\n",
    "    marker_colorscale='RdYlGn',\n",
    "    marker_showscale=True,\n",
    "    marker_colorbar=dict(\n",
    "        title=\"ROI %\",\n",
    "        x=0.85,           # Position inside the plot\n",
    "        y=0.5,\n",
    "        len=0.5,          # Shorter length\n",
    "        thickness=15,     # Thinner bar\n",
    "        xanchor='left'\n",
    "    ),\n",
    "))\n",
    "\n",
    "fig.update_layout(\n",
    "    title='Movie Languages: Count and Performance Metrics<br><sub>Color indicates ROI; hover for details</sub>',\n",
    "    xaxis_title='Number of Movies',\n",
    "    yaxis_title='Language',\n",
    "    height=600,\n",
    "    width=800,\n",
    "    showlegend=False,\n",
    "    margin=dict(l=100, r=150)  # Adjust margins for labels and colorbar\n",
    ")\n",
    "\n",
    "fig.show()"
   ]
  },
  {
   "cell_type": "markdown",
   "id": "a32aa756",
   "metadata": {},
   "source": [
    "___\n",
    "## Lab 2 Aggregates"
   ]
  },
  {
   "cell_type": "markdown",
   "id": "d1634f6b",
   "metadata": {},
   "source": [
    "1. Group movies by 'title_year' and calculate the average budget and average gross per year. In which year did movies have the highest average ROI (gross/budget)?\n"
   ]
  },
  {
   "cell_type": "code",
   "execution_count": 132,
   "id": "c3f1d9a9",
   "metadata": {},
   "outputs": [
    {
     "data": {
      "application/vnd.microsoft.datawrangler.viewer.v0+json": {
       "columns": [
        {
         "name": "title_year",
         "rawType": "int64",
         "type": "integer"
        },
        {
         "name": "num_movies",
         "rawType": "float64",
         "type": "float"
        },
        {
         "name": "avg_gross",
         "rawType": "float64",
         "type": "float"
        },
        {
         "name": "avg_roi",
         "rawType": "float64",
         "type": "float"
        }
       ],
       "ref": "f0c168bd-7ec6-43ea-89dc-69f33d6d2917",
       "rows": [
        [
         "2024",
         "16458751.955882354",
         "41502964.15882353",
         "29632.67428641987"
        ],
        [
         "2019",
         "20865739.648854963",
         "75253833.4351145",
         "9014.544699827997"
        ],
        [
         "2020",
         "13045761.845360825",
         "22046739.86082474",
         "6861.668351392529"
        ],
        [
         "2017",
         "21585732.2672956",
         "69233005.6509434",
         "899.0323489172365"
        ],
        [
         "2022",
         "17448007.272727273",
         "47371802.60606061",
         "719.9541833264428"
        ],
        [
         "2021",
         "19300669.2936803",
         "39459021.54275093",
         "518.310311978454"
        ],
        [
         "2023",
         "18614098.094387755",
         "45109668.54846939",
         "53.336348212859086"
        ],
        [
         "2016",
         "23856833.5775076",
         "72891353.03951368",
         "5.201467915980594"
        ],
        [
         "2018",
         "21410076.151419558",
         "69593655.52996846",
         "5.172950248649966"
        ],
        [
         "2015",
         "23161897.836879432",
         "80712472.25177304",
         "4.9209323285071465"
        ]
       ],
       "shape": {
        "columns": 3,
        "rows": 10
       }
      },
      "text/html": [
       "<div>\n",
       "<style scoped>\n",
       "    .dataframe tbody tr th:only-of-type {\n",
       "        vertical-align: middle;\n",
       "    }\n",
       "\n",
       "    .dataframe tbody tr th {\n",
       "        vertical-align: top;\n",
       "    }\n",
       "\n",
       "    .dataframe thead th {\n",
       "        text-align: right;\n",
       "    }\n",
       "</style>\n",
       "<table border=\"1\" class=\"dataframe\">\n",
       "  <thead>\n",
       "    <tr style=\"text-align: right;\">\n",
       "      <th></th>\n",
       "      <th>num_movies</th>\n",
       "      <th>avg_gross</th>\n",
       "      <th>avg_roi</th>\n",
       "    </tr>\n",
       "    <tr>\n",
       "      <th>title_year</th>\n",
       "      <th></th>\n",
       "      <th></th>\n",
       "      <th></th>\n",
       "    </tr>\n",
       "  </thead>\n",
       "  <tbody>\n",
       "    <tr>\n",
       "      <th>2024</th>\n",
       "      <td>1.645875e+07</td>\n",
       "      <td>4.150296e+07</td>\n",
       "      <td>29632.674286</td>\n",
       "    </tr>\n",
       "    <tr>\n",
       "      <th>2019</th>\n",
       "      <td>2.086574e+07</td>\n",
       "      <td>7.525383e+07</td>\n",
       "      <td>9014.544700</td>\n",
       "    </tr>\n",
       "    <tr>\n",
       "      <th>2020</th>\n",
       "      <td>1.304576e+07</td>\n",
       "      <td>2.204674e+07</td>\n",
       "      <td>6861.668351</td>\n",
       "    </tr>\n",
       "    <tr>\n",
       "      <th>2017</th>\n",
       "      <td>2.158573e+07</td>\n",
       "      <td>6.923301e+07</td>\n",
       "      <td>899.032349</td>\n",
       "    </tr>\n",
       "    <tr>\n",
       "      <th>2022</th>\n",
       "      <td>1.744801e+07</td>\n",
       "      <td>4.737180e+07</td>\n",
       "      <td>719.954183</td>\n",
       "    </tr>\n",
       "    <tr>\n",
       "      <th>2021</th>\n",
       "      <td>1.930067e+07</td>\n",
       "      <td>3.945902e+07</td>\n",
       "      <td>518.310312</td>\n",
       "    </tr>\n",
       "    <tr>\n",
       "      <th>2023</th>\n",
       "      <td>1.861410e+07</td>\n",
       "      <td>4.510967e+07</td>\n",
       "      <td>53.336348</td>\n",
       "    </tr>\n",
       "    <tr>\n",
       "      <th>2016</th>\n",
       "      <td>2.385683e+07</td>\n",
       "      <td>7.289135e+07</td>\n",
       "      <td>5.201468</td>\n",
       "    </tr>\n",
       "    <tr>\n",
       "      <th>2018</th>\n",
       "      <td>2.141008e+07</td>\n",
       "      <td>6.959366e+07</td>\n",
       "      <td>5.172950</td>\n",
       "    </tr>\n",
       "    <tr>\n",
       "      <th>2015</th>\n",
       "      <td>2.316190e+07</td>\n",
       "      <td>8.071247e+07</td>\n",
       "      <td>4.920932</td>\n",
       "    </tr>\n",
       "  </tbody>\n",
       "</table>\n",
       "</div>"
      ],
      "text/plain": [
       "              num_movies     avg_gross       avg_roi\n",
       "title_year                                          \n",
       "2024        1.645875e+07  4.150296e+07  29632.674286\n",
       "2019        2.086574e+07  7.525383e+07   9014.544700\n",
       "2020        1.304576e+07  2.204674e+07   6861.668351\n",
       "2017        2.158573e+07  6.923301e+07    899.032349\n",
       "2022        1.744801e+07  4.737180e+07    719.954183\n",
       "2021        1.930067e+07  3.945902e+07    518.310312\n",
       "2023        1.861410e+07  4.510967e+07     53.336348\n",
       "2016        2.385683e+07  7.289135e+07      5.201468\n",
       "2018        2.141008e+07  6.959366e+07      5.172950\n",
       "2015        2.316190e+07  8.071247e+07      4.920932"
      ]
     },
     "execution_count": 132,
     "metadata": {},
     "output_type": "execute_result"
    }
   ],
   "source": [
    "\n",
    "movies['roi'] = movies['gross'] / movies['budget']\n",
    "movies_agg = movies.groupby(['title_year']).agg(\n",
    "    num_movies=('budget', 'mean'),\n",
    "    avg_gross=('gross', 'mean'),\n",
    "    avg_roi=('roi', 'mean')\n",
    ").sort_values(by='avg_roi', ascending=False)\n",
    "movies_agg"
   ]
  },
  {
   "cell_type": "markdown",
   "id": "02168764",
   "metadata": {},
   "source": [
    "2. Create a grouped summary by 'genre_first' showing: count, median gross, average rating, and calculate ROI (gross/budget).Which genre is most profitable?\n"
   ]
  },
  {
   "cell_type": "code",
   "execution_count": 121,
   "id": "5bfa6452",
   "metadata": {},
   "outputs": [
    {
     "data": {
      "text/plain": [
       "Index(['movie_title', 'original_title', 'director_name', 'actor_1_name',\n",
       "       'actor_2_name', 'actor_3_name', 'budget', 'gross', 'title_year',\n",
       "       'release_date', 'duration', 'vote_average', 'vote_count', 'popularity',\n",
       "       'genres', 'country', 'original_language', 'overview', 'tagline',\n",
       "       'tmdb_id', 'imdb_id', 'genre_first', 'genre_first_ordered',\n",
       "       'genre_first_simple', 'director_simple'],\n",
       "      dtype='object')"
      ]
     },
     "execution_count": 121,
     "metadata": {},
     "output_type": "execute_result"
    }
   ],
   "source": [
    "movies.columns"
   ]
  },
  {
   "cell_type": "code",
   "execution_count": 133,
   "id": "c55c20d6",
   "metadata": {},
   "outputs": [
    {
     "data": {
      "application/vnd.microsoft.datawrangler.viewer.v0+json": {
       "columns": [
        {
         "name": "genre_first",
         "rawType": "object",
         "type": "string"
        },
        {
         "name": "num_movies",
         "rawType": "float64",
         "type": "float"
        },
        {
         "name": "avg_rating",
         "rawType": "float64",
         "type": "float"
        },
        {
         "name": "roi",
         "rawType": "float64",
         "type": "float"
        }
       ],
       "ref": "25a4c715-e6b6-4c5e-9593-c3757bdd4202",
       "rows": [
        [
         "Action",
         "21000000.0",
         "6.051064766839378",
         "5.691603391969953"
        ],
        [
         "Adventure",
         "14703873.0",
         "6.338435185185186",
         "3.1885034848843294"
        ],
        [
         "Animation",
         "10913963.0",
         "6.130392857142858",
         "5.575943401633606"
        ],
        [
         "Comedy",
         "1460431.0",
         "5.263434077079108",
         "25650.706325628056"
        ],
        [
         "Crime",
         "4976797.5",
         "6.1939456521739125",
         "2901.658076602324"
        ],
        [
         "Documentary",
         "1100.0",
         "4.119265895953758",
         "11.421615816673986"
        ],
        [
         "Drama",
         "1001305.0",
         "5.469549483013294",
         "27.3601347697253"
        ],
        [
         "Family",
         "41831089.0",
         "6.363416666666667",
         "10.959239533787501"
        ],
        [
         "Fantasy",
         "1787853.5",
         "4.274477272727273",
         "9.142698001760014"
        ],
        [
         "History",
         "11900000.0",
         "6.604299999999999",
         "2.7431118725822703"
        ],
        [
         "Horror",
         "2088708.0",
         "5.351538167938932",
         "52.50984665312401"
        ],
        [
         "Music",
         "2115765.0",
         "6.490379310344828",
         "9.044129653398327"
        ],
        [
         "Mystery",
         "9500.0",
         "5.531040000000001",
         "1390.0017657853227"
        ],
        [
         "Romance",
         "3485172.5",
         "5.449459183673469",
         "12.92669289765485"
        ],
        [
         "Science Fiction",
         "4424874.5",
         "5.809905405405405",
         "4.275709303553036"
        ],
        [
         "TV Movie",
         "1300.0",
         "0.0",
         "5.946428571428571"
        ],
        [
         "Thriller",
         "1550000.0",
         "5.727639097744361",
         "1130.5975511664137"
        ],
        [
         "War",
         "7694425.0",
         "6.224787878787879",
         "2.3458407477299024"
        ],
        [
         "Western",
         "475846.0",
         "5.3053333333333335",
         "83637.30235760214"
        ]
       ],
       "shape": {
        "columns": 3,
        "rows": 19
       }
      },
      "text/html": [
       "<div>\n",
       "<style scoped>\n",
       "    .dataframe tbody tr th:only-of-type {\n",
       "        vertical-align: middle;\n",
       "    }\n",
       "\n",
       "    .dataframe tbody tr th {\n",
       "        vertical-align: top;\n",
       "    }\n",
       "\n",
       "    .dataframe thead th {\n",
       "        text-align: right;\n",
       "    }\n",
       "</style>\n",
       "<table border=\"1\" class=\"dataframe\">\n",
       "  <thead>\n",
       "    <tr style=\"text-align: right;\">\n",
       "      <th></th>\n",
       "      <th>num_movies</th>\n",
       "      <th>avg_rating</th>\n",
       "      <th>roi</th>\n",
       "    </tr>\n",
       "    <tr>\n",
       "      <th>genre_first</th>\n",
       "      <th></th>\n",
       "      <th></th>\n",
       "      <th></th>\n",
       "    </tr>\n",
       "  </thead>\n",
       "  <tbody>\n",
       "    <tr>\n",
       "      <th>Action</th>\n",
       "      <td>21000000.0</td>\n",
       "      <td>6.051065</td>\n",
       "      <td>5.691603</td>\n",
       "    </tr>\n",
       "    <tr>\n",
       "      <th>Adventure</th>\n",
       "      <td>14703873.0</td>\n",
       "      <td>6.338435</td>\n",
       "      <td>3.188503</td>\n",
       "    </tr>\n",
       "    <tr>\n",
       "      <th>Animation</th>\n",
       "      <td>10913963.0</td>\n",
       "      <td>6.130393</td>\n",
       "      <td>5.575943</td>\n",
       "    </tr>\n",
       "    <tr>\n",
       "      <th>Comedy</th>\n",
       "      <td>1460431.0</td>\n",
       "      <td>5.263434</td>\n",
       "      <td>25650.706326</td>\n",
       "    </tr>\n",
       "    <tr>\n",
       "      <th>Crime</th>\n",
       "      <td>4976797.5</td>\n",
       "      <td>6.193946</td>\n",
       "      <td>2901.658077</td>\n",
       "    </tr>\n",
       "    <tr>\n",
       "      <th>Documentary</th>\n",
       "      <td>1100.0</td>\n",
       "      <td>4.119266</td>\n",
       "      <td>11.421616</td>\n",
       "    </tr>\n",
       "    <tr>\n",
       "      <th>Drama</th>\n",
       "      <td>1001305.0</td>\n",
       "      <td>5.469549</td>\n",
       "      <td>27.360135</td>\n",
       "    </tr>\n",
       "    <tr>\n",
       "      <th>Family</th>\n",
       "      <td>41831089.0</td>\n",
       "      <td>6.363417</td>\n",
       "      <td>10.959240</td>\n",
       "    </tr>\n",
       "    <tr>\n",
       "      <th>Fantasy</th>\n",
       "      <td>1787853.5</td>\n",
       "      <td>4.274477</td>\n",
       "      <td>9.142698</td>\n",
       "    </tr>\n",
       "    <tr>\n",
       "      <th>History</th>\n",
       "      <td>11900000.0</td>\n",
       "      <td>6.604300</td>\n",
       "      <td>2.743112</td>\n",
       "    </tr>\n",
       "    <tr>\n",
       "      <th>Horror</th>\n",
       "      <td>2088708.0</td>\n",
       "      <td>5.351538</td>\n",
       "      <td>52.509847</td>\n",
       "    </tr>\n",
       "    <tr>\n",
       "      <th>Music</th>\n",
       "      <td>2115765.0</td>\n",
       "      <td>6.490379</td>\n",
       "      <td>9.044130</td>\n",
       "    </tr>\n",
       "    <tr>\n",
       "      <th>Mystery</th>\n",
       "      <td>9500.0</td>\n",
       "      <td>5.531040</td>\n",
       "      <td>1390.001766</td>\n",
       "    </tr>\n",
       "    <tr>\n",
       "      <th>Romance</th>\n",
       "      <td>3485172.5</td>\n",
       "      <td>5.449459</td>\n",
       "      <td>12.926693</td>\n",
       "    </tr>\n",
       "    <tr>\n",
       "      <th>Science Fiction</th>\n",
       "      <td>4424874.5</td>\n",
       "      <td>5.809905</td>\n",
       "      <td>4.275709</td>\n",
       "    </tr>\n",
       "    <tr>\n",
       "      <th>TV Movie</th>\n",
       "      <td>1300.0</td>\n",
       "      <td>0.000000</td>\n",
       "      <td>5.946429</td>\n",
       "    </tr>\n",
       "    <tr>\n",
       "      <th>Thriller</th>\n",
       "      <td>1550000.0</td>\n",
       "      <td>5.727639</td>\n",
       "      <td>1130.597551</td>\n",
       "    </tr>\n",
       "    <tr>\n",
       "      <th>War</th>\n",
       "      <td>7694425.0</td>\n",
       "      <td>6.224788</td>\n",
       "      <td>2.345841</td>\n",
       "    </tr>\n",
       "    <tr>\n",
       "      <th>Western</th>\n",
       "      <td>475846.0</td>\n",
       "      <td>5.305333</td>\n",
       "      <td>83637.302358</td>\n",
       "    </tr>\n",
       "  </tbody>\n",
       "</table>\n",
       "</div>"
      ],
      "text/plain": [
       "                 num_movies  avg_rating           roi\n",
       "genre_first                                          \n",
       "Action           21000000.0    6.051065      5.691603\n",
       "Adventure        14703873.0    6.338435      3.188503\n",
       "Animation        10913963.0    6.130393      5.575943\n",
       "Comedy            1460431.0    5.263434  25650.706326\n",
       "Crime             4976797.5    6.193946   2901.658077\n",
       "Documentary          1100.0    4.119266     11.421616\n",
       "Drama             1001305.0    5.469549     27.360135\n",
       "Family           41831089.0    6.363417     10.959240\n",
       "Fantasy           1787853.5    4.274477      9.142698\n",
       "History          11900000.0    6.604300      2.743112\n",
       "Horror            2088708.0    5.351538     52.509847\n",
       "Music             2115765.0    6.490379      9.044130\n",
       "Mystery              9500.0    5.531040   1390.001766\n",
       "Romance           3485172.5    5.449459     12.926693\n",
       "Science Fiction   4424874.5    5.809905      4.275709\n",
       "TV Movie             1300.0    0.000000      5.946429\n",
       "Thriller          1550000.0    5.727639   1130.597551\n",
       "War               7694425.0    6.224788      2.345841\n",
       "Western            475846.0    5.305333  83637.302358"
      ]
     },
     "execution_count": 133,
     "metadata": {},
     "output_type": "execute_result"
    }
   ],
   "source": [
    "movies['genre_first'] = movies['genres'].str.split('|').str[0]\n",
    "movies_agg = movies.groupby(['genre_first']).agg(\n",
    "    num_movies=('gross', 'median'),\n",
    "    avg_rating=('vote_average', 'mean'),\n",
    "    roi=('roi', 'mean')\n",
    ")\n",
    "movies_agg"
   ]
  },
  {
   "cell_type": "markdown",
   "id": "2f2869df",
   "metadata": {},
   "source": [
    "3. Create a grouped summary by 'director_name' showing: movie count,median budget, and average popularity score. Filter to directors with 3+ movies and sort by average popularity.\n",
    "\n",
    "Note on average popularity: \n",
    "How TMDb Popularity Works:\n",
    "\n",
    "It's not a static rating - Unlike vote_average, popularity changes daily\n",
    "Factors that increase popularity:\n",
    "\n",
    "Number of views on TMDb page\n",
    "Number of votes/ratings submitted\n",
    "Being added to watchlists\n",
    "Social media shares\n",
    "Release date proximity (newer films get boosts)\n",
    "Number of user interactions\n",
    "\n"
   ]
  },
  {
   "cell_type": "code",
   "execution_count": 134,
   "id": "583924e2",
   "metadata": {},
   "outputs": [],
   "source": [
    "directors_over_3 = director_counts[director_counts > 3].index.tolist()"
   ]
  },
  {
   "cell_type": "code",
   "execution_count": 135,
   "id": "400d62df",
   "metadata": {},
   "outputs": [
    {
     "data": {
      "application/vnd.microsoft.datawrangler.viewer.v0+json": {
       "columns": [
        {
         "name": "director_name",
         "rawType": "object",
         "type": "string"
        },
        {
         "name": "num_movies",
         "rawType": "int64",
         "type": "integer"
        },
        {
         "name": "budget_median",
         "rawType": "float64",
         "type": "float"
        },
        {
         "name": "avg_popularity",
         "rawType": "float64",
         "type": "float"
        },
        {
         "name": "roi",
         "rawType": "float64",
         "type": "float"
        }
       ],
       "ref": "003511c1-e95c-4b77-a911-6aea0509d945",
       "rows": [
        [
         "Bruno Ferreira",
         "10",
         "200.0",
         "0.0",
         "5.834333333333333"
        ],
        [
         "Yen Ah Moi",
         "10",
         "50000.0",
         "7.9",
         "10.85"
        ],
        [
         "Matthew Cavanaugh",
         "8",
         "2.0",
         "8.6875",
         "42012.645833333336"
        ],
        [
         "Seamus Gibney",
         "6",
         "1.0",
         "1.6666666666666667",
         "0.8416666666666667"
        ],
        [
         "Steven Spielberg",
         "6",
         "75000000.0",
         "7.114166666666667",
         "2.416331862738095"
        ],
        [
         "Phạm Trung Kiên",
         "5",
         "12.0",
         "0.0",
         "11.671474233529029"
        ],
        [
         "M. Night Shyamalan",
         "5",
         "18000000.0",
         "6.5092",
         "12.23235353111111"
        ],
        [
         "Johannes Roberts",
         "5",
         "12000000.0",
         "5.7426",
         "4.477731126848485"
        ],
        [
         "Luca Guadagnino",
         "5",
         "20000000.0",
         "7.1208",
         "3.098180742888881"
        ],
        [
         "Gianluca Leuzzi",
         "5",
         "4455979.0",
         "7.5366",
         "26.08788449617528"
        ],
        [
         "Denis Villeneuve",
         "5",
         "150000000.0",
         "7.7002",
         "3.023859492518104"
        ],
        [
         "Woody Allen",
         "5",
         "25000000.0",
         "6.4238",
         "1.2599105490909093"
        ],
        [
         "Cleber Fernando Gomes",
         "5",
         "100.0",
         "0.0",
         "1.0"
        ],
        [
         "Guy Ritchie",
         "5",
         "60000000.0",
         "6.956799999999999",
         "1.2789347993809526"
        ],
        [
         "Tyler Perry",
         "4",
         "20000000.0",
         "6.0465",
         "2.7880276825"
        ],
        [
         "Sindrome de pânico",
         "4",
         "82.5",
         "0.0",
         "4.515697115384615"
        ],
        [
         "Sean Baker",
         "4",
         "1550000.0",
         "7.0255",
         "6.570642291666667"
        ],
        [
         "Robert Eggers",
         "4",
         "30500000.0",
         "7.05875",
         "4.0990648160714285"
        ],
        [
         "Aldo Baruc",
         "4",
         "12.5",
         "0.0",
         "0.325"
        ],
        [
         "Nicholas Onciul",
         "4",
         "14124.0",
         "9.25",
         "1.326062636633133"
        ],
        [
         "Mahi Dubey",
         "4",
         "2000.0",
         "2.5",
         "1.9359166666666667"
        ],
        [
         "Antoine Fuqua",
         "4",
         "66000000.0",
         "7.0",
         "2.6654863808499742"
        ],
        [
         "Jon Watts",
         "4",
         "167500000.0",
         "7.15925",
         "5.4732208275"
        ],
        [
         "Jaume Collet-Serra",
         "4",
         "40000000.0",
         "6.4725",
         "3.6006249857107844"
        ],
        [
         "Iñaki Oñate",
         "4",
         "175.0",
         "0.0",
         "1.9166666666666665"
        ],
        [
         "Eli Roth",
         "4",
         "36000000.0",
         "5.8622499999999995",
         "1.2966697716873705"
        ],
        [
         "David Gordon Green",
         "4",
         "29000000.0",
         "6.28075",
         "2.9367250375"
        ],
        [
         "Dakota Ray",
         "4",
         "275.0",
         "3.58325",
         "3.5"
        ],
        [
         "Yorgos Lanthimos",
         "4",
         "15000000.0",
         "7.176",
         "3.6036710857142857"
        ]
       ],
       "shape": {
        "columns": 4,
        "rows": 29
       }
      },
      "text/html": [
       "<div>\n",
       "<style scoped>\n",
       "    .dataframe tbody tr th:only-of-type {\n",
       "        vertical-align: middle;\n",
       "    }\n",
       "\n",
       "    .dataframe tbody tr th {\n",
       "        vertical-align: top;\n",
       "    }\n",
       "\n",
       "    .dataframe thead th {\n",
       "        text-align: right;\n",
       "    }\n",
       "</style>\n",
       "<table border=\"1\" class=\"dataframe\">\n",
       "  <thead>\n",
       "    <tr style=\"text-align: right;\">\n",
       "      <th></th>\n",
       "      <th>num_movies</th>\n",
       "      <th>budget_median</th>\n",
       "      <th>avg_popularity</th>\n",
       "      <th>roi</th>\n",
       "    </tr>\n",
       "    <tr>\n",
       "      <th>director_name</th>\n",
       "      <th></th>\n",
       "      <th></th>\n",
       "      <th></th>\n",
       "      <th></th>\n",
       "    </tr>\n",
       "  </thead>\n",
       "  <tbody>\n",
       "    <tr>\n",
       "      <th>Bruno Ferreira</th>\n",
       "      <td>10</td>\n",
       "      <td>200.0</td>\n",
       "      <td>0.000000</td>\n",
       "      <td>5.834333</td>\n",
       "    </tr>\n",
       "    <tr>\n",
       "      <th>Yen Ah Moi</th>\n",
       "      <td>10</td>\n",
       "      <td>50000.0</td>\n",
       "      <td>7.900000</td>\n",
       "      <td>10.850000</td>\n",
       "    </tr>\n",
       "    <tr>\n",
       "      <th>Matthew Cavanaugh</th>\n",
       "      <td>8</td>\n",
       "      <td>2.0</td>\n",
       "      <td>8.687500</td>\n",
       "      <td>42012.645833</td>\n",
       "    </tr>\n",
       "    <tr>\n",
       "      <th>Seamus Gibney</th>\n",
       "      <td>6</td>\n",
       "      <td>1.0</td>\n",
       "      <td>1.666667</td>\n",
       "      <td>0.841667</td>\n",
       "    </tr>\n",
       "    <tr>\n",
       "      <th>Steven Spielberg</th>\n",
       "      <td>6</td>\n",
       "      <td>75000000.0</td>\n",
       "      <td>7.114167</td>\n",
       "      <td>2.416332</td>\n",
       "    </tr>\n",
       "    <tr>\n",
       "      <th>Phạm Trung Kiên</th>\n",
       "      <td>5</td>\n",
       "      <td>12.0</td>\n",
       "      <td>0.000000</td>\n",
       "      <td>11.671474</td>\n",
       "    </tr>\n",
       "    <tr>\n",
       "      <th>M. Night Shyamalan</th>\n",
       "      <td>5</td>\n",
       "      <td>18000000.0</td>\n",
       "      <td>6.509200</td>\n",
       "      <td>12.232354</td>\n",
       "    </tr>\n",
       "    <tr>\n",
       "      <th>Johannes Roberts</th>\n",
       "      <td>5</td>\n",
       "      <td>12000000.0</td>\n",
       "      <td>5.742600</td>\n",
       "      <td>4.477731</td>\n",
       "    </tr>\n",
       "    <tr>\n",
       "      <th>Luca Guadagnino</th>\n",
       "      <td>5</td>\n",
       "      <td>20000000.0</td>\n",
       "      <td>7.120800</td>\n",
       "      <td>3.098181</td>\n",
       "    </tr>\n",
       "    <tr>\n",
       "      <th>Gianluca Leuzzi</th>\n",
       "      <td>5</td>\n",
       "      <td>4455979.0</td>\n",
       "      <td>7.536600</td>\n",
       "      <td>26.087884</td>\n",
       "    </tr>\n",
       "    <tr>\n",
       "      <th>Denis Villeneuve</th>\n",
       "      <td>5</td>\n",
       "      <td>150000000.0</td>\n",
       "      <td>7.700200</td>\n",
       "      <td>3.023859</td>\n",
       "    </tr>\n",
       "    <tr>\n",
       "      <th>Woody Allen</th>\n",
       "      <td>5</td>\n",
       "      <td>25000000.0</td>\n",
       "      <td>6.423800</td>\n",
       "      <td>1.259911</td>\n",
       "    </tr>\n",
       "    <tr>\n",
       "      <th>Cleber Fernando Gomes</th>\n",
       "      <td>5</td>\n",
       "      <td>100.0</td>\n",
       "      <td>0.000000</td>\n",
       "      <td>1.000000</td>\n",
       "    </tr>\n",
       "    <tr>\n",
       "      <th>Guy Ritchie</th>\n",
       "      <td>5</td>\n",
       "      <td>60000000.0</td>\n",
       "      <td>6.956800</td>\n",
       "      <td>1.278935</td>\n",
       "    </tr>\n",
       "    <tr>\n",
       "      <th>Tyler Perry</th>\n",
       "      <td>4</td>\n",
       "      <td>20000000.0</td>\n",
       "      <td>6.046500</td>\n",
       "      <td>2.788028</td>\n",
       "    </tr>\n",
       "    <tr>\n",
       "      <th>Sindrome de pânico</th>\n",
       "      <td>4</td>\n",
       "      <td>82.5</td>\n",
       "      <td>0.000000</td>\n",
       "      <td>4.515697</td>\n",
       "    </tr>\n",
       "    <tr>\n",
       "      <th>Sean Baker</th>\n",
       "      <td>4</td>\n",
       "      <td>1550000.0</td>\n",
       "      <td>7.025500</td>\n",
       "      <td>6.570642</td>\n",
       "    </tr>\n",
       "    <tr>\n",
       "      <th>Robert Eggers</th>\n",
       "      <td>4</td>\n",
       "      <td>30500000.0</td>\n",
       "      <td>7.058750</td>\n",
       "      <td>4.099065</td>\n",
       "    </tr>\n",
       "    <tr>\n",
       "      <th>Aldo Baruc</th>\n",
       "      <td>4</td>\n",
       "      <td>12.5</td>\n",
       "      <td>0.000000</td>\n",
       "      <td>0.325000</td>\n",
       "    </tr>\n",
       "    <tr>\n",
       "      <th>Nicholas Onciul</th>\n",
       "      <td>4</td>\n",
       "      <td>14124.0</td>\n",
       "      <td>9.250000</td>\n",
       "      <td>1.326063</td>\n",
       "    </tr>\n",
       "    <tr>\n",
       "      <th>Mahi Dubey</th>\n",
       "      <td>4</td>\n",
       "      <td>2000.0</td>\n",
       "      <td>2.500000</td>\n",
       "      <td>1.935917</td>\n",
       "    </tr>\n",
       "    <tr>\n",
       "      <th>Antoine Fuqua</th>\n",
       "      <td>4</td>\n",
       "      <td>66000000.0</td>\n",
       "      <td>7.000000</td>\n",
       "      <td>2.665486</td>\n",
       "    </tr>\n",
       "    <tr>\n",
       "      <th>Jon Watts</th>\n",
       "      <td>4</td>\n",
       "      <td>167500000.0</td>\n",
       "      <td>7.159250</td>\n",
       "      <td>5.473221</td>\n",
       "    </tr>\n",
       "    <tr>\n",
       "      <th>Jaume Collet-Serra</th>\n",
       "      <td>4</td>\n",
       "      <td>40000000.0</td>\n",
       "      <td>6.472500</td>\n",
       "      <td>3.600625</td>\n",
       "    </tr>\n",
       "    <tr>\n",
       "      <th>Iñaki Oñate</th>\n",
       "      <td>4</td>\n",
       "      <td>175.0</td>\n",
       "      <td>0.000000</td>\n",
       "      <td>1.916667</td>\n",
       "    </tr>\n",
       "    <tr>\n",
       "      <th>Eli Roth</th>\n",
       "      <td>4</td>\n",
       "      <td>36000000.0</td>\n",
       "      <td>5.862250</td>\n",
       "      <td>1.296670</td>\n",
       "    </tr>\n",
       "    <tr>\n",
       "      <th>David Gordon Green</th>\n",
       "      <td>4</td>\n",
       "      <td>29000000.0</td>\n",
       "      <td>6.280750</td>\n",
       "      <td>2.936725</td>\n",
       "    </tr>\n",
       "    <tr>\n",
       "      <th>Dakota Ray</th>\n",
       "      <td>4</td>\n",
       "      <td>275.0</td>\n",
       "      <td>3.583250</td>\n",
       "      <td>3.500000</td>\n",
       "    </tr>\n",
       "    <tr>\n",
       "      <th>Yorgos Lanthimos</th>\n",
       "      <td>4</td>\n",
       "      <td>15000000.0</td>\n",
       "      <td>7.176000</td>\n",
       "      <td>3.603671</td>\n",
       "    </tr>\n",
       "  </tbody>\n",
       "</table>\n",
       "</div>"
      ],
      "text/plain": [
       "                       num_movies  budget_median  avg_popularity           roi\n",
       "director_name                                                                 \n",
       "Bruno Ferreira                 10          200.0        0.000000      5.834333\n",
       "Yen Ah Moi                     10        50000.0        7.900000     10.850000\n",
       "Matthew Cavanaugh               8            2.0        8.687500  42012.645833\n",
       "Seamus Gibney                   6            1.0        1.666667      0.841667\n",
       "Steven Spielberg                6     75000000.0        7.114167      2.416332\n",
       "Phạm Trung Kiên                 5           12.0        0.000000     11.671474\n",
       "M. Night Shyamalan              5     18000000.0        6.509200     12.232354\n",
       "Johannes Roberts                5     12000000.0        5.742600      4.477731\n",
       "Luca Guadagnino                 5     20000000.0        7.120800      3.098181\n",
       "Gianluca Leuzzi                 5      4455979.0        7.536600     26.087884\n",
       "Denis Villeneuve                5    150000000.0        7.700200      3.023859\n",
       "Woody Allen                     5     25000000.0        6.423800      1.259911\n",
       "Cleber Fernando Gomes           5          100.0        0.000000      1.000000\n",
       "Guy Ritchie                     5     60000000.0        6.956800      1.278935\n",
       "Tyler Perry                     4     20000000.0        6.046500      2.788028\n",
       "Sindrome de pânico              4           82.5        0.000000      4.515697\n",
       "Sean Baker                      4      1550000.0        7.025500      6.570642\n",
       "Robert Eggers                   4     30500000.0        7.058750      4.099065\n",
       "Aldo Baruc                      4           12.5        0.000000      0.325000\n",
       "Nicholas Onciul                 4        14124.0        9.250000      1.326063\n",
       "Mahi Dubey                      4         2000.0        2.500000      1.935917\n",
       "Antoine Fuqua                   4     66000000.0        7.000000      2.665486\n",
       "Jon Watts                       4    167500000.0        7.159250      5.473221\n",
       "Jaume Collet-Serra              4     40000000.0        6.472500      3.600625\n",
       "Iñaki Oñate                     4          175.0        0.000000      1.916667\n",
       "Eli Roth                        4     36000000.0        5.862250      1.296670\n",
       "David Gordon Green              4     29000000.0        6.280750      2.936725\n",
       "Dakota Ray                      4          275.0        3.583250      3.500000\n",
       "Yorgos Lanthimos                4     15000000.0        7.176000      3.603671"
      ]
     },
     "execution_count": 135,
     "metadata": {},
     "output_type": "execute_result"
    }
   ],
   "source": [
    "\n",
    "movies_agg = movies[movies['director_name'].isin(directors_over_3)].groupby(['director_name']).agg(\n",
    "    num_movies=('movie_title', 'count'),\n",
    "    budget_median=('budget', 'median'),\n",
    "    avg_popularity=('vote_average', 'mean'),\n",
    "    roi=('roi', 'mean')\n",
    ").sort_values(by='num_movies', ascending=False)\n",
    "\n",
    "movies_agg"
   ]
  },
  {
   "cell_type": "markdown",
   "id": "488ec9f5",
   "metadata": {},
   "source": [
    "4. (Challenge) Group by the primary actor ('actor_1_name') and calculate their average movie gross and total appearances. Create a scatter plot showing the relationship between number of movies and average gross for actors with at least 5 movies."
   ]
  },
  {
   "cell_type": "code",
   "execution_count": 136,
   "id": "d6647f79",
   "metadata": {},
   "outputs": [
    {
     "data": {
      "application/vnd.microsoft.datawrangler.viewer.v0+json": {
       "columns": [
        {
         "name": "index",
         "rawType": "int64",
         "type": "integer"
        },
        {
         "name": "actor_1_name",
         "rawType": "object",
         "type": "unknown"
        }
       ],
       "ref": "dc79562d-e57b-4198-be51-29e3a04de483",
       "rows": [
        [
         "0",
         "Oulaya Amamra"
        ],
        [
         "1",
         "Ryan Reynolds"
        ],
        [
         "2",
         "Jim Carrey"
        ],
        [
         "3",
         "Lupita Nyong'o"
        ],
        [
         "4",
         "Aaron Pierre"
        ],
        [
         "5",
         "Amy Poehler"
        ],
        [
         "6",
         "Demi Moore"
        ],
        [
         "7",
         "Mikey Madison"
        ],
        [
         "8",
         "Timothée Chalamet"
        ],
        [
         "9",
         "Aaron Taylor-Johnson"
        ],
        [
         "10",
         "Will Smith"
        ],
        [
         "11",
         "Paul Mescal"
        ],
        [
         "12",
         null
        ],
        [
         "13",
         "Nicole Kidman"
        ],
        [
         "14",
         "Rebecca Hall"
        ],
        [
         "15",
         "Jason Statham"
        ],
        [
         "16",
         "Lily-Rose Depp"
        ],
        [
         "17",
         "Anya Taylor-Joy"
        ],
        [
         "18",
         "Cynthia Erivo"
        ],
        [
         "19",
         "Cailey Fleming"
        ],
        [
         "20",
         "Chris Hemsworth"
        ],
        [
         "21",
         "Naomi Scott"
        ],
        [
         "22",
         "Lauren LaVera"
        ],
        [
         "23",
         "Henry Cavill"
        ],
        [
         "24",
         "Anthony Mackie"
        ],
        [
         "25",
         "Bill Skarsgård"
        ],
        [
         "26",
         "Lupita Nyong'o"
        ],
        [
         "27",
         "Kirsten Dunst"
        ],
        [
         "28",
         "Arón Piper"
        ],
        [
         "29",
         "Brian Cox"
        ],
        [
         "30",
         "Zendaya"
        ],
        [
         "31",
         "Sivakarthikeyan"
        ],
        [
         "32",
         "Donnie Yen"
        ],
        [
         "33",
         "Naomi Ackie"
        ],
        [
         "34",
         "Jackie Chan"
        ],
        [
         "35",
         "Joaquin Phoenix"
        ],
        [
         "36",
         "Cate Blanchett"
        ],
        [
         "37",
         "Maika Monroe"
        ],
        [
         "38",
         "Samara Weaving"
        ],
        [
         "39",
         "Mckenna Grace"
        ],
        [
         "40",
         "Pierre Niney"
        ],
        [
         "41",
         "Lee Sun-kyun"
        ],
        [
         "42",
         "Dakota Johnson"
        ],
        [
         "43",
         "Josh Hartnett"
        ],
        [
         "44",
         "Jude Law"
        ],
        [
         "45",
         "Dakota Fanning"
        ],
        [
         "46",
         "Yootha Wong-Loi-Sing"
        ],
        [
         "47",
         "Megan Fox"
        ],
        [
         "48",
         "Dave Bautista"
        ],
        [
         "49",
         "Millie Bobby Brown"
        ]
       ],
       "shape": {
        "columns": 1,
        "rows": 3000
       }
      },
      "text/plain": [
       "0        Oulaya Amamra\n",
       "1        Ryan Reynolds\n",
       "2           Jim Carrey\n",
       "3       Lupita Nyong'o\n",
       "4         Aaron Pierre\n",
       "             ...      \n",
       "2995               NaN\n",
       "2996               NaN\n",
       "2997               NaN\n",
       "2998               NaN\n",
       "2999      Melissa Ríos\n",
       "Name: actor_1_name, Length: 3000, dtype: object"
      ]
     },
     "execution_count": 136,
     "metadata": {},
     "output_type": "execute_result"
    }
   ],
   "source": [
    "movies['actor_1_name']"
   ]
  },
  {
   "cell_type": "code",
   "execution_count": 137,
   "id": "d3d7562d",
   "metadata": {},
   "outputs": [
    {
     "data": {
      "application/vnd.plotly.v1+json": {
       "config": {
        "plotlyServerURL": "https://plot.ly"
       },
       "data": [
        {
         "customdata": [
          [
           "Megalopolis, 65, Ferrari, Marriage Story, The Report, The Man Who Killed Don Quixote, Paterson"
          ],
          [
           "Shaitaan, Drishyam 2, Raid, Golmaal Again, Baadshaho"
          ],
          [
           "Thunivu, Valimai, Vivegam, Yennai Arindhaal, Vedalam"
          ],
          [
           "Bade Miyan Chote Miyan, Sooryavanshi, Housefull 4, Pad Man, Jolly LLB 2, Toilet: A Love Story, Airlift, Gabbar Is Back"
          ],
          [
           "We Live in Time, Mainstream, Under the Silver Lake, Silence, 99 Homes"
          ],
          [
           "Pk Saenchai Gym, Samart Payakaroon, Venice, the Menace!, Being a Comedian Joker in the Oldest Muaythai Gym ended in a Fight!, Mayan Trance to God's Immortality Being, Muaythai Legend Buakaw And No Marijuana High"
          ],
          [
           "Luk Thep Tom 3, Thailand Most Viral Vlogger 2, Koh kood, Fairtex 'The Real Deal', Sityodtong Training Camp"
          ],
          [
           "Hypnotic, The Way Back, Justice League, Batman v Superman: Dawn of Justice, The Accountant"
          ],
          [
           "Magic Mike's Last Dance, Dog, Smallfoot, Logan Lucky, Jupiter Ascending, Magic Mike XXL"
          ],
          [
           "Transformers One, Men in Black: International, 12 Strong, Thor: Ragnarok, In the Heart of the Sea, Blackhat"
          ],
          [
           "The Super Mario Bros. Movie, Guardians of the Galaxy Vol. 3, Jurassic World Dominion, The Lego Movie 2: The Second Part, Guardians of the Galaxy Vol. 2, Jurassic World"
          ],
          [
           "Madame Web, Fifty Shades Freed, Suspiria, Fifty Shades Darker, Fifty Shades of Grey"
          ],
          [
           "The Killer's Game, Knock at the Cabin, Army of the Dead, My Spy, Stuber"
          ],
          [
           "The Equalizer 3, The Little Things, The Equalizer 2, Roman J. Israel, Esq., The Magnificent Seven, Fences"
          ],
          [
           "King of Kotha, Sita Ramam, Karwaan, Jomonte Suvisheshangal, CIA: Comrade In America, O Kadhal Kanmani"
          ],
          [
           "Black Adam, DC League of Super-Pets, Red Notice, Jumanji: The Next Level, Rampage, Skyscraper, Baywatch, Central Intelligence"
          ],
          [
           "A Quiet Place, Mary Poppins Returns, Animal Crackers, The Girl on the Train, Sicario"
          ],
          [
           "Kinds of Kindness, Poor Things, Cruella, The Favourite, Battle of the Sexes"
          ],
          [
           "Stealing Raden Saleh, Milea, The Earth of Mankind, Dilan 1991, Dilan 1990"
          ],
          [
           "Ambulance, Life, Stronger, Demolition, Southpaw"
          ],
          [
           "The Beekeeper, Expend4bles, Operation Fortune: Ruse de Guerre, Wrath of Man, The Meg, Mechanic: Resurrection, Wild Card"
          ],
          [
           "Red Sparrow, mother!, Passengers, The Hunger Games: Mockingjay - Part 2, Joy"
          ],
          [
           "Joker: Folie à Deux, Beau Is Afraid, C'mon C'mon, Joker, Don't Worry, He Won't Get Far on Foot, You Were Never Really Here, Irrational Man"
          ],
          [
           "John Wick: Chapter 4, The Matrix Resurrections, Bill & Ted Face the Music, Replicas, Siberia, Knock Knock"
          ],
          [
           "Retribution, Blacklight, The Marksman, Cold Pursuit, The Commuter, Run All Night"
          ],
          [
           "Guntur Kaaram, Sarileru Neekevvaru, Maharshi, Bharat Ane Nenu, Brahmotsavam"
          ],
          [
           "TRUE DARKNESS: DETECTIVES, TRUE DARKNESS: KEEP MOVING, Locked In, Lasting Impression, After Fire, Abscond, Salad Days"
          ],
          [
           "Sing 2, The Beach Bum, White Boy Rick, Sing, Free State of Jones, Gold"
          ],
          [
           "Barroz: Guardian of Treasures, Neru, Ittymaani: Made In China, 1971: Beyond Borders, Oppam, Loham"
          ],
          [
           "May December, Annihilation, Vox Lux, Jackie, Jane Got a Gun, A Tale of Love and Darkness"
          ],
          [
           "Dream Scenario, Willy's Wonderland, Pig, The Croods: A New Age, Primal, Mandy, Vengeance: A Love Story, USS Indianapolis: Men of Courage"
          ],
          [
           "The Batman, The Lighthouse, High Life, Good Time, Life"
          ],
          [
           "Deadpool & Wolverine, Pokémon Detective Pikachu, Once Upon a Deadpool, Criminal, Self/less"
          ],
          [
           "SEAMUS. Now, Then and Before, Finger Lickin the SHOW - \"The Break In\" PART TWO, Finger Lickin the SHOW - \"The Break In\" PART ONE, Finger Lickin the SHOW - \"The Matrix\", Finger Lickin the SHOW - \"The Mission\", Finger Lickin the SHOW - \"The Hater\""
          ],
          [
           "Jawan, Pathaan, Dunki, Jab Harry Met Sejal, Fan, Dilwale"
          ],
          [
           "Me contro Te: Il film - Missione giungla, Me contro Te: Il film - Vacanze in Transilvania, Me, Myself & I: Lost in Time, It's me against you - The mystery of the spellbound school, Me Against You: Mr. S's Vendetta"
          ],
          [
           "Dune: Part Two, A Complete Unknown, Wonka, Dune, A Rainy Day in New York"
          ],
          [
           "Mission: Impossible - Dead Reckoning Part One, Top Gun: Maverick, American Made, The Mummy, Jack Reacher: Never Go Back, Mission: Impossible - Rogue Nation"
          ],
          [
           "A Man Called Otto, Toy Story 4, Inferno, Sully, A Hologram for the King, Bridge of Spies"
          ],
          [
           "Capone, Venom, Mad Max: Fury Road, Legend, Child 44"
          ],
          [
           "Uncharted, Spider-Man: No Way Home, Chaos Walking, Onward, Spider-Man: Far From Home, Spider-Man: Homecoming"
          ],
          [
           "Bloodshot, xXx: Return of Xander Cage, The Fate of the Furious, Furious 7, The Last Witch Hunter"
          ],
          [
           "Bad Boys: Ride or Die, Bad Boys for Life, Spies in Disguise, Suicide Squad, Collateral Beauty"
          ]
         ],
         "hovertemplate": "<b>%{hovertext}</b><br><br>Number of Movies=%{x}<br>Average Gross=%{y}<br>Movies=%{customdata[0]}<extra></extra>",
         "hovertext": [
          "Adam Driver",
          "Ajay Devgn",
          "Ajith Kumar",
          "Akshay Kumar",
          "Andrew Garfield",
          "Austmon Lee Pao min",
          "Austmon Pao min lee",
          "Ben Affleck",
          "Channing Tatum",
          "Chris Hemsworth",
          "Chris Pratt",
          "Dakota Johnson",
          "Dave Bautista",
          "Denzel Washington",
          "Dulquer Salmaan",
          "Dwayne Johnson",
          "Emily Blunt",
          "Emma Stone",
          "Iqbaal Ramadhan",
          "Jake Gyllenhaal",
          "Jason Statham",
          "Jennifer Lawrence",
          "Joaquin Phoenix",
          "Keanu Reeves",
          "Liam Neeson",
          "Mahesh Babu",
          "Mason Mecartea",
          "Matthew McConaughey",
          "Mohanlal",
          "Natalie Portman",
          "Nicolas Cage",
          "Robert Pattinson",
          "Ryan Reynolds",
          "Seamus Gibney",
          "Shah Rukh Khan",
          "Sofia Scalia",
          "Timothée Chalamet",
          "Tom Cruise",
          "Tom Hanks",
          "Tom Hardy",
          "Tom Holland",
          "Vin Diesel",
          "Will Smith"
         ],
         "legendgroup": "",
         "marker": {
          "color": "#636efa",
          "opacity": 0.7,
          "size": 12,
          "symbol": "circle"
         },
         "mode": "markers",
         "name": "",
         "orientation": "v",
         "showlegend": false,
         "type": "scatter",
         "x": {
          "bdata": "BwUFCAUGBQUGBgYFBQYGCAUFBQUHBQcGBgUHBgYGCAUFBgYFBQYGBQYFBQ==",
          "dtype": "i1"
         },
         "xaxis": "x",
         "y": {
          "bdata": "btu2XZCNcEEAAAAAnEp5QQAAAAAMCXNBAAAAkKMPd0HNzMxsBJ5oQQAAAADArwxBAAAAAIANDUFmZmZOdoW0QVVVVTdm3JtBVVVVJCworEGrqmrHTYnNQc3MzDQAEbFBmpmZMfwHjEGrqqrst+CZQQAAAKBpHlZBAABgNSXSskHNzMzY+eqmQZqZmYlas5ZBZmZmhrdmZEEAAAAgVIyIQUmSJIVQJKFBAAAAapDkrUFJkiSFweOmQQAAAOSgnJhBAAAANB3giUFmZmbm2Eh7QQAAAAAAQH9AVVVVLCQdpkFVVVX11SJTQQAAAMDsRGVBAAAASCVHfkHNzMyK5wGjQZqZmam0erZBVVVVVVUVQUBVVVWqLUWhQQAAAAD5AFRBmpmZL0fetkFVVdV+nh/BQauqKvQaELJBmpmZpxHMrkEAAMCWGWbGQQAAgA54k8NBMzMzEHPwtUE=",
          "dtype": "f8"
         },
         "yaxis": "y"
        }
       ],
       "layout": {
        "height": 500,
        "legend": {
         "tracegroupgap": 0
        },
        "template": {
         "data": {
          "bar": [
           {
            "error_x": {
             "color": "#2a3f5f"
            },
            "error_y": {
             "color": "#2a3f5f"
            },
            "marker": {
             "line": {
              "color": "#E5ECF6",
              "width": 0.5
             },
             "pattern": {
              "fillmode": "overlay",
              "size": 10,
              "solidity": 0.2
             }
            },
            "type": "bar"
           }
          ],
          "barpolar": [
           {
            "marker": {
             "line": {
              "color": "#E5ECF6",
              "width": 0.5
             },
             "pattern": {
              "fillmode": "overlay",
              "size": 10,
              "solidity": 0.2
             }
            },
            "type": "barpolar"
           }
          ],
          "carpet": [
           {
            "aaxis": {
             "endlinecolor": "#2a3f5f",
             "gridcolor": "white",
             "linecolor": "white",
             "minorgridcolor": "white",
             "startlinecolor": "#2a3f5f"
            },
            "baxis": {
             "endlinecolor": "#2a3f5f",
             "gridcolor": "white",
             "linecolor": "white",
             "minorgridcolor": "white",
             "startlinecolor": "#2a3f5f"
            },
            "type": "carpet"
           }
          ],
          "choropleth": [
           {
            "colorbar": {
             "outlinewidth": 0,
             "ticks": ""
            },
            "type": "choropleth"
           }
          ],
          "contour": [
           {
            "colorbar": {
             "outlinewidth": 0,
             "ticks": ""
            },
            "colorscale": [
             [
              0,
              "#0d0887"
             ],
             [
              0.1111111111111111,
              "#46039f"
             ],
             [
              0.2222222222222222,
              "#7201a8"
             ],
             [
              0.3333333333333333,
              "#9c179e"
             ],
             [
              0.4444444444444444,
              "#bd3786"
             ],
             [
              0.5555555555555556,
              "#d8576b"
             ],
             [
              0.6666666666666666,
              "#ed7953"
             ],
             [
              0.7777777777777778,
              "#fb9f3a"
             ],
             [
              0.8888888888888888,
              "#fdca26"
             ],
             [
              1,
              "#f0f921"
             ]
            ],
            "type": "contour"
           }
          ],
          "contourcarpet": [
           {
            "colorbar": {
             "outlinewidth": 0,
             "ticks": ""
            },
            "type": "contourcarpet"
           }
          ],
          "heatmap": [
           {
            "colorbar": {
             "outlinewidth": 0,
             "ticks": ""
            },
            "colorscale": [
             [
              0,
              "#0d0887"
             ],
             [
              0.1111111111111111,
              "#46039f"
             ],
             [
              0.2222222222222222,
              "#7201a8"
             ],
             [
              0.3333333333333333,
              "#9c179e"
             ],
             [
              0.4444444444444444,
              "#bd3786"
             ],
             [
              0.5555555555555556,
              "#d8576b"
             ],
             [
              0.6666666666666666,
              "#ed7953"
             ],
             [
              0.7777777777777778,
              "#fb9f3a"
             ],
             [
              0.8888888888888888,
              "#fdca26"
             ],
             [
              1,
              "#f0f921"
             ]
            ],
            "type": "heatmap"
           }
          ],
          "histogram": [
           {
            "marker": {
             "pattern": {
              "fillmode": "overlay",
              "size": 10,
              "solidity": 0.2
             }
            },
            "type": "histogram"
           }
          ],
          "histogram2d": [
           {
            "colorbar": {
             "outlinewidth": 0,
             "ticks": ""
            },
            "colorscale": [
             [
              0,
              "#0d0887"
             ],
             [
              0.1111111111111111,
              "#46039f"
             ],
             [
              0.2222222222222222,
              "#7201a8"
             ],
             [
              0.3333333333333333,
              "#9c179e"
             ],
             [
              0.4444444444444444,
              "#bd3786"
             ],
             [
              0.5555555555555556,
              "#d8576b"
             ],
             [
              0.6666666666666666,
              "#ed7953"
             ],
             [
              0.7777777777777778,
              "#fb9f3a"
             ],
             [
              0.8888888888888888,
              "#fdca26"
             ],
             [
              1,
              "#f0f921"
             ]
            ],
            "type": "histogram2d"
           }
          ],
          "histogram2dcontour": [
           {
            "colorbar": {
             "outlinewidth": 0,
             "ticks": ""
            },
            "colorscale": [
             [
              0,
              "#0d0887"
             ],
             [
              0.1111111111111111,
              "#46039f"
             ],
             [
              0.2222222222222222,
              "#7201a8"
             ],
             [
              0.3333333333333333,
              "#9c179e"
             ],
             [
              0.4444444444444444,
              "#bd3786"
             ],
             [
              0.5555555555555556,
              "#d8576b"
             ],
             [
              0.6666666666666666,
              "#ed7953"
             ],
             [
              0.7777777777777778,
              "#fb9f3a"
             ],
             [
              0.8888888888888888,
              "#fdca26"
             ],
             [
              1,
              "#f0f921"
             ]
            ],
            "type": "histogram2dcontour"
           }
          ],
          "mesh3d": [
           {
            "colorbar": {
             "outlinewidth": 0,
             "ticks": ""
            },
            "type": "mesh3d"
           }
          ],
          "parcoords": [
           {
            "line": {
             "colorbar": {
              "outlinewidth": 0,
              "ticks": ""
             }
            },
            "type": "parcoords"
           }
          ],
          "pie": [
           {
            "automargin": true,
            "type": "pie"
           }
          ],
          "scatter": [
           {
            "fillpattern": {
             "fillmode": "overlay",
             "size": 10,
             "solidity": 0.2
            },
            "type": "scatter"
           }
          ],
          "scatter3d": [
           {
            "line": {
             "colorbar": {
              "outlinewidth": 0,
              "ticks": ""
             }
            },
            "marker": {
             "colorbar": {
              "outlinewidth": 0,
              "ticks": ""
             }
            },
            "type": "scatter3d"
           }
          ],
          "scattercarpet": [
           {
            "marker": {
             "colorbar": {
              "outlinewidth": 0,
              "ticks": ""
             }
            },
            "type": "scattercarpet"
           }
          ],
          "scattergeo": [
           {
            "marker": {
             "colorbar": {
              "outlinewidth": 0,
              "ticks": ""
             }
            },
            "type": "scattergeo"
           }
          ],
          "scattergl": [
           {
            "marker": {
             "colorbar": {
              "outlinewidth": 0,
              "ticks": ""
             }
            },
            "type": "scattergl"
           }
          ],
          "scattermap": [
           {
            "marker": {
             "colorbar": {
              "outlinewidth": 0,
              "ticks": ""
             }
            },
            "type": "scattermap"
           }
          ],
          "scattermapbox": [
           {
            "marker": {
             "colorbar": {
              "outlinewidth": 0,
              "ticks": ""
             }
            },
            "type": "scattermapbox"
           }
          ],
          "scatterpolar": [
           {
            "marker": {
             "colorbar": {
              "outlinewidth": 0,
              "ticks": ""
             }
            },
            "type": "scatterpolar"
           }
          ],
          "scatterpolargl": [
           {
            "marker": {
             "colorbar": {
              "outlinewidth": 0,
              "ticks": ""
             }
            },
            "type": "scatterpolargl"
           }
          ],
          "scatterternary": [
           {
            "marker": {
             "colorbar": {
              "outlinewidth": 0,
              "ticks": ""
             }
            },
            "type": "scatterternary"
           }
          ],
          "surface": [
           {
            "colorbar": {
             "outlinewidth": 0,
             "ticks": ""
            },
            "colorscale": [
             [
              0,
              "#0d0887"
             ],
             [
              0.1111111111111111,
              "#46039f"
             ],
             [
              0.2222222222222222,
              "#7201a8"
             ],
             [
              0.3333333333333333,
              "#9c179e"
             ],
             [
              0.4444444444444444,
              "#bd3786"
             ],
             [
              0.5555555555555556,
              "#d8576b"
             ],
             [
              0.6666666666666666,
              "#ed7953"
             ],
             [
              0.7777777777777778,
              "#fb9f3a"
             ],
             [
              0.8888888888888888,
              "#fdca26"
             ],
             [
              1,
              "#f0f921"
             ]
            ],
            "type": "surface"
           }
          ],
          "table": [
           {
            "cells": {
             "fill": {
              "color": "#EBF0F8"
             },
             "line": {
              "color": "white"
             }
            },
            "header": {
             "fill": {
              "color": "#C8D4E3"
             },
             "line": {
              "color": "white"
             }
            },
            "type": "table"
           }
          ]
         },
         "layout": {
          "annotationdefaults": {
           "arrowcolor": "#2a3f5f",
           "arrowhead": 0,
           "arrowwidth": 1
          },
          "autotypenumbers": "strict",
          "coloraxis": {
           "colorbar": {
            "outlinewidth": 0,
            "ticks": ""
           }
          },
          "colorscale": {
           "diverging": [
            [
             0,
             "#8e0152"
            ],
            [
             0.1,
             "#c51b7d"
            ],
            [
             0.2,
             "#de77ae"
            ],
            [
             0.3,
             "#f1b6da"
            ],
            [
             0.4,
             "#fde0ef"
            ],
            [
             0.5,
             "#f7f7f7"
            ],
            [
             0.6,
             "#e6f5d0"
            ],
            [
             0.7,
             "#b8e186"
            ],
            [
             0.8,
             "#7fbc41"
            ],
            [
             0.9,
             "#4d9221"
            ],
            [
             1,
             "#276419"
            ]
           ],
           "sequential": [
            [
             0,
             "#0d0887"
            ],
            [
             0.1111111111111111,
             "#46039f"
            ],
            [
             0.2222222222222222,
             "#7201a8"
            ],
            [
             0.3333333333333333,
             "#9c179e"
            ],
            [
             0.4444444444444444,
             "#bd3786"
            ],
            [
             0.5555555555555556,
             "#d8576b"
            ],
            [
             0.6666666666666666,
             "#ed7953"
            ],
            [
             0.7777777777777778,
             "#fb9f3a"
            ],
            [
             0.8888888888888888,
             "#fdca26"
            ],
            [
             1,
             "#f0f921"
            ]
           ],
           "sequentialminus": [
            [
             0,
             "#0d0887"
            ],
            [
             0.1111111111111111,
             "#46039f"
            ],
            [
             0.2222222222222222,
             "#7201a8"
            ],
            [
             0.3333333333333333,
             "#9c179e"
            ],
            [
             0.4444444444444444,
             "#bd3786"
            ],
            [
             0.5555555555555556,
             "#d8576b"
            ],
            [
             0.6666666666666666,
             "#ed7953"
            ],
            [
             0.7777777777777778,
             "#fb9f3a"
            ],
            [
             0.8888888888888888,
             "#fdca26"
            ],
            [
             1,
             "#f0f921"
            ]
           ]
          },
          "colorway": [
           "#636efa",
           "#EF553B",
           "#00cc96",
           "#ab63fa",
           "#FFA15A",
           "#19d3f3",
           "#FF6692",
           "#B6E880",
           "#FF97FF",
           "#FECB52"
          ],
          "font": {
           "color": "#2a3f5f"
          },
          "geo": {
           "bgcolor": "white",
           "lakecolor": "white",
           "landcolor": "#E5ECF6",
           "showlakes": true,
           "showland": true,
           "subunitcolor": "white"
          },
          "hoverlabel": {
           "align": "left"
          },
          "hovermode": "closest",
          "mapbox": {
           "style": "light"
          },
          "paper_bgcolor": "white",
          "plot_bgcolor": "#E5ECF6",
          "polar": {
           "angularaxis": {
            "gridcolor": "white",
            "linecolor": "white",
            "ticks": ""
           },
           "bgcolor": "#E5ECF6",
           "radialaxis": {
            "gridcolor": "white",
            "linecolor": "white",
            "ticks": ""
           }
          },
          "scene": {
           "xaxis": {
            "backgroundcolor": "#E5ECF6",
            "gridcolor": "white",
            "gridwidth": 2,
            "linecolor": "white",
            "showbackground": true,
            "ticks": "",
            "zerolinecolor": "white"
           },
           "yaxis": {
            "backgroundcolor": "#E5ECF6",
            "gridcolor": "white",
            "gridwidth": 2,
            "linecolor": "white",
            "showbackground": true,
            "ticks": "",
            "zerolinecolor": "white"
           },
           "zaxis": {
            "backgroundcolor": "#E5ECF6",
            "gridcolor": "white",
            "gridwidth": 2,
            "linecolor": "white",
            "showbackground": true,
            "ticks": "",
            "zerolinecolor": "white"
           }
          },
          "shapedefaults": {
           "line": {
            "color": "#2a3f5f"
           }
          },
          "ternary": {
           "aaxis": {
            "gridcolor": "white",
            "linecolor": "white",
            "ticks": ""
           },
           "baxis": {
            "gridcolor": "white",
            "linecolor": "white",
            "ticks": ""
           },
           "bgcolor": "#E5ECF6",
           "caxis": {
            "gridcolor": "white",
            "linecolor": "white",
            "ticks": ""
           }
          },
          "title": {
           "x": 0.05
          },
          "xaxis": {
           "automargin": true,
           "gridcolor": "white",
           "linecolor": "white",
           "ticks": "",
           "title": {
            "standoff": 15
           },
           "zerolinecolor": "white",
           "zerolinewidth": 2
          },
          "yaxis": {
           "automargin": true,
           "gridcolor": "white",
           "linecolor": "white",
           "ticks": "",
           "title": {
            "standoff": 15
           },
           "zerolinecolor": "white",
           "zerolinewidth": 2
          }
         }
        },
        "title": {
         "text": "Number of Movies vs. Average Gross for Actors (≥ 5 Movies)"
        },
        "xaxis": {
         "anchor": "y",
         "domain": [
          0,
          1
         ],
         "title": {
          "text": "Number of Movies"
         }
        },
        "yaxis": {
         "anchor": "x",
         "domain": [
          0,
          1
         ],
         "title": {
          "text": "Average Gross"
         }
        }
       }
      }
     },
     "metadata": {},
     "output_type": "display_data"
    }
   ],
   "source": [
    "import plotly.express as px\n",
    "\n",
    "actor_stats = movies.groupby('actor_1_name').agg(\n",
    "    num_movies=('movie_title', 'count'),\n",
    "    avg_gross=('gross', 'mean'),\n",
    "    movie_titles=('movie_title', lambda x: ', '.join(x.dropna()))\n",
    ").reset_index()\n",
    "\n",
    "\n",
    "actor_stats_filtered = actor_stats[actor_stats['num_movies'] >= 5]\n",
    "\n",
    "fig = px.scatter(\n",
    "    actor_stats_filtered,\n",
    "    x='num_movies',\n",
    "    y='avg_gross',\n",
    "    hover_name='actor_1_name',\n",
    "    hover_data={'movie_titles': True},\n",
    "    title='Number of Movies vs. Average Gross for Actors (≥ 5 Movies)',\n",
    "    labels={'num_movies': 'Number of Movies', 'avg_gross': 'Average Gross', 'movie_titles': 'Movies'},\n",
    "    opacity=0.7\n",
    ")\n",
    "fig.update_traces(marker=dict(size=12))\n",
    "fig.update_layout(height=500)\n",
    "fig.show()\n"
   ]
  },
  {
   "cell_type": "code",
   "execution_count": 138,
   "id": "afb6222e",
   "metadata": {},
   "outputs": [
    {
     "data": {
      "image/png": "[encoded data removed]"
     },
     "metadata": {
      "image/png": {
       "height": 480,
       "width": 640
      }
     },
     "output_type": "display_data"
    }
   ],
   "source": [
    "\n",
    "actor_stats = movies.groupby('actor_1_name').agg(\n",
    "    num_movies=('movie_title', 'count'),\n",
    "    avg_gross=('gross', 'mean')\n",
    ").reset_index()\n",
    "\n",
    "\n",
    "actor_stats_filtered = actor_stats[actor_stats['num_movies'] >= 5]\n",
    "\n",
    "plot = (\n",
    "    ggplot(actor_stats_filtered, aes(x='num_movies', y='avg_gross')) +\n",
    "    geom_point(alpha=0.7) +\n",
    "    labs(\n",
    "        x='Number of Movies',\n",
    "        y='Average Gross',\n",
    "        title='Number of Movies vs. Average Gross for Actors (≥ 5 Movies)'\n",
    "    ) +\n",
    "    theme_minimal()\n",
    ")\n",
    "plot.show()"
   ]
  },
  {
   "cell_type": "markdown",
   "id": "f634abff",
   "metadata": {},
   "source": [
    "____\n",
    "# 3. p-values and Uncertainty\n"
   ]
  },
  {
   "cell_type": "code",
   "execution_count": 139,
   "id": "b7d6f191",
   "metadata": {},
   "outputs": [
    {
     "name": "stdout",
     "output_type": "stream",
     "text": [
      "   CampaignID  PreControl  PostControl  PreTreatment  PostTreatment\n",
      "0           1   89.143694    82.257765     95.287245     107.269067\n",
      "1           1  109.973454    87.986227    110.840724      81.014464\n",
      "2           1  102.829785   110.962568     96.207767     100.521420\n",
      "3           1   84.937053   108.610369     96.377261     106.973844\n",
      "4           1   94.213997    84.796329     93.189293     111.273651\n",
      "Shape: (2000, 5)\n"
     ]
    }
   ],
   "source": [
    "import numpy as np\n",
    "import pandas as pd\n",
    "from scipy import stats\n",
    "\n",
    "#-------------------------------------------------\n",
    "# Benjamini-Hochberg p-value adjustment\n",
    "#-------------------------------------------------\n",
    "\n",
    "np.random.seed(123)  # For reproducibility\n",
    "\n",
    "# Generate a data frame with simulated campaign data\n",
    "\n",
    "# Parameters\n",
    "n_campaigns = 20\n",
    "observations_per_campaign = 100\n",
    "\n",
    "# Generate campaign IDs repeated for each observation\n",
    "campaignID = np.repeat(np.arange(1, n_campaigns + 1), observations_per_campaign)\n",
    "\n",
    "# Generate observations\n",
    "# Assuming the pre and post observations are paired for each campaign in both control and treatment\n",
    "preControl = np.random.normal(100, 10, n_campaigns * observations_per_campaign)\n",
    "postControl = np.random.normal(100, 10, n_campaigns * observations_per_campaign)\n",
    "preTreatment = np.random.normal(100, 10, n_campaigns * observations_per_campaign)\n",
    "postTreatment = np.random.normal(105, 10, n_campaigns * observations_per_campaign)  # Added effect\n",
    "\n",
    "# Combine into a dataframe\n",
    "campaign_data = pd.DataFrame({\n",
    "    'CampaignID': campaignID,\n",
    "    'PreControl': preControl,\n",
    "    'PostControl': postControl,\n",
    "    'PreTreatment': preTreatment,\n",
    "    'PostTreatment': postTreatment\n",
    "})\n",
    "\n",
    "print(campaign_data.head())\n",
    "print(f\"Shape: {campaign_data.shape}\")"
   ]
  },
  {
   "cell_type": "code",
   "execution_count": 140,
   "id": "d0000ed7",
   "metadata": {},
   "outputs": [
    {
     "name": "stdout",
     "output_type": "stream",
     "text": [
      "    CampaignID   p_value  rank  BH_critical_value  significant\n",
      "0           15  0.000003     1             0.0025         True\n",
      "1            7  0.000424     2             0.0050         True\n",
      "2           13  0.001176     3             0.0075         True\n",
      "3           10  0.001621     4             0.0100         True\n",
      "4            5  0.002430     5             0.0125         True\n",
      "5            4  0.003801     6             0.0150         True\n",
      "6           20  0.004293     7             0.0175         True\n",
      "7           14  0.010490     8             0.0200         True\n",
      "8            2  0.012819     9             0.0225         True\n",
      "9           11  0.034824    10             0.0250        False\n",
      "10           6  0.061287    11             0.0275        False\n",
      "11          18  0.066138    12             0.0300        False\n",
      "12          12  0.176292    13             0.0325        False\n",
      "13           9  0.226823    14             0.0350        False\n",
      "14           3  0.232433    15             0.0375        False\n",
      "15          19  0.342022    16             0.0400        False\n",
      "16          16  0.370449    17             0.0425        False\n",
      "17           1  0.371276    18             0.0450        False\n",
      "18          17  0.412832    19             0.0475        False\n",
      "19           8  0.689085    20             0.0500        False\n"
     ]
    }
   ],
   "source": [
    "# B-H procedure\n",
    "\n",
    "\n",
    "# First part - calculate p-values for each campaign\n",
    "results = campaign_data.groupby('CampaignID').apply(\n",
    "    lambda x: pd.Series({\n",
    "        'p_value': stats.ttest_ind(\n",
    "            x['PostControl'] - x['PreControl'],\n",
    "            x['PostTreatment'] - x['PreTreatment']\n",
    "        )[1]\n",
    "    })\n",
    ").reset_index()\n",
    "\n",
    "# Now apply the Benjamini-Hochberg procedure\n",
    "# Sort the data by p-value\n",
    "results_agg = results.sort_values('p_value').reset_index(drop=True)\n",
    "\n",
    "# Add rank\n",
    "results_agg['rank'] = range(1, len(results_agg) + 1)\n",
    "\n",
    "# Calculate the critical values for comparison\n",
    "m = len(results_agg)  # Total number of tests\n",
    "Q = 0.05  # Desired False Discovery Rate (FDR) level\n",
    "results_agg['BH_critical_value'] = (results_agg['rank'] / m) * Q\n",
    "\n",
    "# Identify significant results\n",
    "results_agg['significant'] = results_agg['p_value'] < results_agg['BH_critical_value']\n",
    "\n",
    "# Find the largest rank where p-value is less than the BH critical value\n",
    "significant_mask = results_agg['significant']\n",
    "if significant_mask.any():\n",
    "    last_significant = results_agg[significant_mask]['rank'].max()\n",
    "    # All tests with rank <= last_significant are considered significant\n",
    "    results_agg['significant'] = results_agg['rank'] <= last_significant\n",
    "\n",
    "print(results_agg)"
   ]
  },
  {
   "cell_type": "code",
   "execution_count": 141,
   "id": "2218f7c3",
   "metadata": {},
   "outputs": [
    {
     "data": {
      "image/png": "[encoded data removed]",
      "text/plain": [
       "<Figure size 1000x600 with 1 Axes>"
      ]
     },
     "metadata": {},
     "output_type": "display_data"
    },
    {
     "name": "stdout",
     "output_type": "stream",
     "text": [
      "\n",
      "Number of significant results: 9\n",
      "Campaigns with significant effects: [15, 7, 13, 10, 5, 4, 20, 14, 2]\n"
     ]
    }
   ],
   "source": [
    "from matplotlib.patches import Patch\n",
    "\n",
    "import matplotlib.pyplot as plot\n",
    "\n",
    "fig, ax = plot.subplots(figsize=(10, 6))\n",
    "\n",
    "# Scatter plot: points colored by significance\n",
    "ax.scatter(results_agg['rank'], results_agg['p_value'], c=colors, s=100, alpha=0.7, label='P-Values')\n",
    "\n",
    "# BH critical value line\n",
    "ax.plot(results_agg['rank'], results_agg['BH_critical_value'], 'r--', label='BH Critical Value', linewidth=2)\n",
    "\n",
    "# Horizontal line at 0.05\n",
    "ax.axhline(y=0.05, color='blue', linestyle=':', alpha=0.5, label='α = 0.05')\n",
    "\n",
    "ax.set_xlabel('Rank', fontsize=14)\n",
    "ax.set_ylabel('P-Value', fontsize=14)\n",
    "ax.set_title('P-Value by Rank with BH Critical Value Line', fontsize=16)\n",
    "ax.grid(True, alpha=0.3)\n",
    "\n",
    "# Custom legend\n",
    "legend_elements = [\n",
    "    Patch(facecolor='green', label='TRUE'),\n",
    "    Patch(facecolor='gray', label='FALSE'),\n",
    "]\n",
    "ax.legend(handles=legend_elements, title='Significant', loc='upper left')\n",
    "\n",
    "plot.tight_layout()\n",
    "plot.show()\n",
    "\n",
    "print(f\"\\nNumber of significant results: {results_agg['significant'].sum()}\")\n",
    "print(f\"Campaigns with significant effects: {results_agg[results_agg['significant']]['CampaignID'].tolist()}\")"
   ]
  },
  {
   "cell_type": "code",
   "execution_count": 142,
   "id": "5cdd6b5b",
   "metadata": {},
   "outputs": [
    {
     "data": {
      "image/png": "[encoded data removed]",
      "text/plain": [
       "<Figure size 640x480 with 1 Axes>"
      ]
     },
     "metadata": {},
     "output_type": "display_data"
    },
    {
     "data": {
      "image/png": "[encoded data removed]",
      "text/plain": [
       "<Figure size 1000x600 with 1 Axes>"
      ]
     },
     "metadata": {},
     "output_type": "display_data"
    },
    {
     "name": "stdout",
     "output_type": "stream",
     "text": [
      "\n",
      "Number of significant results: 9\n",
      "Campaigns with significant effects: [15, 7, 13, 10, 5, 4, 20, 14, 2]\n"
     ]
    }
   ],
   "source": [
    "from matplotlib.patches import Patch\n",
    "\n",
    "import matplotlib.pyplot as plot\n",
    "\n",
    "# Plot points colored by significance\n",
    "colors = ['green' if sig else 'gray' for sig in results_agg['significant']]\n",
    "plot.scatter(results_agg['rank'], results_agg['p_value'], c=colors, s=100, alpha=0.7)\n",
    "\n",
    "# Create the BH plot\n",
    "plot.figure(figsize=(10, 6))\n",
    "# Add BH critical value line\n",
    "plot.plot(results_agg['rank'], results_agg['BH_critical_value'], \n",
    "         'r--', label='BH Critical Value', linewidth=2)\n",
    "\n",
    "# Add horizontal line at 0.05\n",
    "plot.axhline(y=0.05, color='blue', linestyle=':', alpha=0.5, label='α = 0.05')\n",
    "\n",
    "plot.xlabel('Rank', fontsize=14)\n",
    "plot.ylabel('P-Value', fontsize=14)\n",
    "plot.title('P-Value by Rank with BH Critical Value Line', fontsize=16)\n",
    "plot.grid(True, alpha=0.3)\n",
    "\n",
    "# Create custom legend\n",
    "legend_elements = [\n",
    "    Patch(facecolor='green', label='TRUE'),\n",
    "    Patch(facecolor='gray', label='FALSE'),\n",
    "]\n",
    "plot.legend(handles=legend_elements, title='Significant', loc='upper left')\n",
    "\n",
    "plot.tight_layout()\n",
    "plot.show()\n",
    "\n",
    "# Print summary\n",
    "print(f\"\\nNumber of significant results: {results_agg['significant'].sum()}\")\n",
    "print(f\"Campaigns with significant effects: {results_agg[results_agg['significant']]['CampaignID'].tolist()}\")"
   ]
  }
 ],
 "metadata": {
  "kernelspec": {
   "display_name": "Python 3",
   "language": "python",
   "name": "python3"
  },
  "language_info": {
   "codemirror_mode": {
    "name": "ipython",
    "version": 3
   },
   "file_extension": ".py",
   "mimetype": "text/x-python",
   "name": "python",
   "nbconvert_exporter": "python",
   "pygments_lexer": "ipython3",
   "version": "3.13.7"
  }
 },
 "nbformat": 4,
 "nbformat_minor": 5
}
