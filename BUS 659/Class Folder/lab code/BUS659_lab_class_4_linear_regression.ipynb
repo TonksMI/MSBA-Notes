{
 "cells": [
  {
   "cell_type": "markdown",
   "id": "393df0b7",
   "metadata": {},
   "source": [
    "# Lecture 4 Linear Regression"
   ]
  },
  {
   "cell_type": "markdown",
   "id": "075acf0b",
   "metadata": {},
   "source": [
    "## 🧪 Lab: Using `requirements.txt` to Build a Clean Environment\n",
    "\n",
    "In this lab, you will learn how to:\n",
    "1. Create a `requirements.txt` file.  \n",
    "2. Build a **fresh virtual environment** just for our regression project.  \n",
    "3. Install only the packages listed in `requirements.txt`.  \n",
    "4. Verify the environment and run a quick test.  \n",
    "\n",
    "This keeps your setup clean and reproducible.\n",
    "\n",
    "---\n",
    "\n",
    "### 1. Create a `requirements.txt` file\n",
    "\n",
    "Copy the following into a text file named **`requirements.txt`** and place it at the root of your BUS_659 folder:\n",
    "\n",
    "```txt\n",
    "numpy==1.26.4\n",
    "pandas==2.0.3\n",
    "scikit-learn==1.4.2\n",
    "statsmodels==0.14.2\n",
    "matplotlib==3.9.2\n",
    "seaborn==0.13.2\n",
    "jupyter==1.0.0"
   ]
  },
  {
   "cell_type": "markdown",
   "id": "1e01bd43",
   "metadata": {},
   "source": [
    "### 2. Create a New Virtual Environment\n",
    "\n",
    "We’ll name this environment **`linreg_env`** so it doesn’t conflict with your existing **`bus_659_env`**.\n",
    "\n",
    "---\n",
    "\n",
    "#### 🪟 On Windows (PowerShell)\n",
    "\n",
    "```powershell\n",
    "# Create a new virtual environment\n",
    "python -m venv linreg_env\n",
    "\n",
    "# Activate it\n",
    ".\\linreg_env\\Scripts\\activate\n",
    "\n",
    "# Upgrade pip\n",
    "python -m pip install --upgrade pip\n",
    "\n",
    "# Install only the packages in requirements.txt\n",
    "pip install -r requirements.txt\n",
    "```\n",
    "\n",
    "#### macOS / Linux (Terminal)\n",
    "\n",
    "\n",
    "```bash\n",
    "# Create a new virtual environment\n",
    "python3 -m venv linreg_env\n",
    "\n",
    "# Activate it\n",
    "source linreg_env/bin/activate\n",
    "\n",
    "# Upgrade pip\n",
    "python -m pip install --upgrade pip\n",
    "\n",
    "# Install only the packages in requirements.txt\n",
    "pip install -r requirements.txt\n",
    "```"
   ]
  },
  {
   "cell_type": "code",
   "execution_count": 3,
   "id": "96988a79",
   "metadata": {},
   "outputs": [
    {
     "name": "stdout",
     "output_type": "stream",
     "text": [
      "Requirement already satisfied: pip in /Library/Frameworks/Python.framework/Versions/3.13/lib/python3.13/site-packages (25.2)\n",
      "Requirement already satisfied: numpy in /Library/Frameworks/Python.framework/Versions/3.13/lib/python3.13/site-packages (from -r requirements.txt (line 1)) (2.3.2)\n",
      "Requirement already satisfied: pandas in /Library/Frameworks/Python.framework/Versions/3.13/lib/python3.13/site-packages (from -r requirements.txt (line 2)) (2.3.2)\n",
      "Requirement already satisfied: scikit-learn in /Library/Frameworks/Python.framework/Versions/3.13/lib/python3.13/site-packages (from -r requirements.txt (line 3)) (1.7.1)\n",
      "Requirement already satisfied: statsmodels in /Library/Frameworks/Python.framework/Versions/3.13/lib/python3.13/site-packages (from -r requirements.txt (line 4)) (0.14.5)\n",
      "Requirement already satisfied: matplotlib in /Library/Frameworks/Python.framework/Versions/3.13/lib/python3.13/site-packages (from -r requirements.txt (line 5)) (3.10.5)\n",
      "Requirement already satisfied: seaborn in /Library/Frameworks/Python.framework/Versions/3.13/lib/python3.13/site-packages (from -r requirements.txt (line 6)) (0.13.2)\n",
      "Requirement already satisfied: jupyter in /Library/Frameworks/Python.framework/Versions/3.13/lib/python3.13/site-packages (from -r requirements.txt (line 7)) (1.1.1)\n",
      "Requirement already satisfied: python-dateutil>=2.8.2 in /Users/matthewtonks/Library/Python/3.13/lib/python/site-packages (from pandas->-r requirements.txt (line 2)) (2.9.0.post0)\n",
      "Requirement already satisfied: pytz>=2020.1 in /Library/Frameworks/Python.framework/Versions/3.13/lib/python3.13/site-packages (from pandas->-r requirements.txt (line 2)) (2025.2)\n",
      "Requirement already satisfied: tzdata>=2022.7 in /Library/Frameworks/Python.framework/Versions/3.13/lib/python3.13/site-packages (from pandas->-r requirements.txt (line 2)) (2025.2)\n",
      "Requirement already satisfied: scipy>=1.8.0 in /Library/Frameworks/Python.framework/Versions/3.13/lib/python3.13/site-packages (from scikit-learn->-r requirements.txt (line 3)) (1.16.1)\n",
      "Requirement already satisfied: joblib>=1.2.0 in /Library/Frameworks/Python.framework/Versions/3.13/lib/python3.13/site-packages (from scikit-learn->-r requirements.txt (line 3)) (1.5.2)\n",
      "Requirement already satisfied: threadpoolctl>=3.1.0 in /Library/Frameworks/Python.framework/Versions/3.13/lib/python3.13/site-packages (from scikit-learn->-r requirements.txt (line 3)) (3.6.0)\n",
      "Requirement already satisfied: patsy>=0.5.6 in /Library/Frameworks/Python.framework/Versions/3.13/lib/python3.13/site-packages (from statsmodels->-r requirements.txt (line 4)) (1.0.1)\n",
      "Requirement already satisfied: packaging>=21.3 in /Users/matthewtonks/Library/Python/3.13/lib/python/site-packages (from statsmodels->-r requirements.txt (line 4)) (25.0)\n",
      "Requirement already satisfied: contourpy>=1.0.1 in /Library/Frameworks/Python.framework/Versions/3.13/lib/python3.13/site-packages (from matplotlib->-r requirements.txt (line 5)) (1.3.3)\n",
      "Requirement already satisfied: cycler>=0.10 in /Library/Frameworks/Python.framework/Versions/3.13/lib/python3.13/site-packages (from matplotlib->-r requirements.txt (line 5)) (0.12.1)\n",
      "Requirement already satisfied: fonttools>=4.22.0 in /Library/Frameworks/Python.framework/Versions/3.13/lib/python3.13/site-packages (from matplotlib->-r requirements.txt (line 5)) (4.59.2)\n",
      "Requirement already satisfied: kiwisolver>=1.3.1 in /Library/Frameworks/Python.framework/Versions/3.13/lib/python3.13/site-packages (from matplotlib->-r requirements.txt (line 5)) (1.4.9)\n",
      "Requirement already satisfied: pillow>=8 in /Library/Frameworks/Python.framework/Versions/3.13/lib/python3.13/site-packages (from matplotlib->-r requirements.txt (line 5)) (11.3.0)\n",
      "Requirement already satisfied: pyparsing>=2.3.1 in /Library/Frameworks/Python.framework/Versions/3.13/lib/python3.13/site-packages (from matplotlib->-r requirements.txt (line 5)) (3.2.3)\n",
      "Requirement already satisfied: notebook in /Library/Frameworks/Python.framework/Versions/3.13/lib/python3.13/site-packages (from jupyter->-r requirements.txt (line 7)) (7.4.5)\n",
      "Requirement already satisfied: jupyter-console in /Library/Frameworks/Python.framework/Versions/3.13/lib/python3.13/site-packages (from jupyter->-r requirements.txt (line 7)) (6.6.3)\n",
      "Requirement already satisfied: nbconvert in /Library/Frameworks/Python.framework/Versions/3.13/lib/python3.13/site-packages (from jupyter->-r requirements.txt (line 7)) (7.16.6)\n",
      "Requirement already satisfied: ipykernel in /Users/matthewtonks/Library/Python/3.13/lib/python/site-packages (from jupyter->-r requirements.txt (line 7)) (6.30.1)\n",
      "Requirement already satisfied: ipywidgets in /Library/Frameworks/Python.framework/Versions/3.13/lib/python3.13/site-packages (from jupyter->-r requirements.txt (line 7)) (8.1.7)\n",
      "Requirement already satisfied: jupyterlab in /Library/Frameworks/Python.framework/Versions/3.13/lib/python3.13/site-packages (from jupyter->-r requirements.txt (line 7)) (4.4.6)\n",
      "Requirement already satisfied: six>=1.5 in /Users/matthewtonks/Library/Python/3.13/lib/python/site-packages (from python-dateutil>=2.8.2->pandas->-r requirements.txt (line 2)) (1.17.0)\n",
      "Requirement already satisfied: appnope>=0.1.2 in /Users/matthewtonks/Library/Python/3.13/lib/python/site-packages (from ipykernel->jupyter->-r requirements.txt (line 7)) (0.1.4)\n",
      "Requirement already satisfied: comm>=0.1.1 in /Users/matthewtonks/Library/Python/3.13/lib/python/site-packages (from ipykernel->jupyter->-r requirements.txt (line 7)) (0.2.3)\n",
      "Requirement already satisfied: debugpy>=1.6.5 in /Users/matthewtonks/Library/Python/3.13/lib/python/site-packages (from ipykernel->jupyter->-r requirements.txt (line 7)) (1.8.16)\n",
      "Requirement already satisfied: ipython>=7.23.1 in /Users/matthewtonks/Library/Python/3.13/lib/python/site-packages (from ipykernel->jupyter->-r requirements.txt (line 7)) (9.4.0)\n",
      "Requirement already satisfied: jupyter-client>=8.0.0 in /Users/matthewtonks/Library/Python/3.13/lib/python/site-packages (from ipykernel->jupyter->-r requirements.txt (line 7)) (8.6.3)\n",
      "Requirement already satisfied: jupyter-core!=5.0.*,>=4.12 in /Users/matthewtonks/Library/Python/3.13/lib/python/site-packages (from ipykernel->jupyter->-r requirements.txt (line 7)) (5.8.1)\n",
      "Requirement already satisfied: matplotlib-inline>=0.1 in /Users/matthewtonks/Library/Python/3.13/lib/python/site-packages (from ipykernel->jupyter->-r requirements.txt (line 7)) (0.1.7)\n",
      "Requirement already satisfied: nest-asyncio>=1.4 in /Users/matthewtonks/Library/Python/3.13/lib/python/site-packages (from ipykernel->jupyter->-r requirements.txt (line 7)) (1.6.0)\n",
      "Requirement already satisfied: psutil>=5.7 in /Users/matthewtonks/Library/Python/3.13/lib/python/site-packages (from ipykernel->jupyter->-r requirements.txt (line 7)) (7.0.0)\n",
      "Requirement already satisfied: pyzmq>=25 in /Users/matthewtonks/Library/Python/3.13/lib/python/site-packages (from ipykernel->jupyter->-r requirements.txt (line 7)) (27.0.2)\n",
      "Requirement already satisfied: tornado>=6.2 in /Users/matthewtonks/Library/Python/3.13/lib/python/site-packages (from ipykernel->jupyter->-r requirements.txt (line 7)) (6.5.2)\n",
      "Requirement already satisfied: traitlets>=5.4.0 in /Users/matthewtonks/Library/Python/3.13/lib/python/site-packages (from ipykernel->jupyter->-r requirements.txt (line 7)) (5.14.3)\n",
      "Requirement already satisfied: decorator in /Users/matthewtonks/Library/Python/3.13/lib/python/site-packages (from ipython>=7.23.1->ipykernel->jupyter->-r requirements.txt (line 7)) (5.2.1)\n",
      "Requirement already satisfied: ipython-pygments-lexers in /Users/matthewtonks/Library/Python/3.13/lib/python/site-packages (from ipython>=7.23.1->ipykernel->jupyter->-r requirements.txt (line 7)) (1.1.1)\n",
      "Requirement already satisfied: jedi>=0.16 in /Users/matthewtonks/Library/Python/3.13/lib/python/site-packages (from ipython>=7.23.1->ipykernel->jupyter->-r requirements.txt (line 7)) (0.19.2)\n",
      "Requirement already satisfied: pexpect>4.3 in /Users/matthewtonks/Library/Python/3.13/lib/python/site-packages (from ipython>=7.23.1->ipykernel->jupyter->-r requirements.txt (line 7)) (4.9.0)\n",
      "Requirement already satisfied: prompt_toolkit<3.1.0,>=3.0.41 in /Users/matthewtonks/Library/Python/3.13/lib/python/site-packages (from ipython>=7.23.1->ipykernel->jupyter->-r requirements.txt (line 7)) (3.0.52)\n",
      "Requirement already satisfied: pygments>=2.4.0 in /Users/matthewtonks/Library/Python/3.13/lib/python/site-packages (from ipython>=7.23.1->ipykernel->jupyter->-r requirements.txt (line 7)) (2.19.2)\n",
      "Requirement already satisfied: stack_data in /Users/matthewtonks/Library/Python/3.13/lib/python/site-packages (from ipython>=7.23.1->ipykernel->jupyter->-r requirements.txt (line 7)) (0.6.3)\n",
      "Requirement already satisfied: wcwidth in /Users/matthewtonks/Library/Python/3.13/lib/python/site-packages (from prompt_toolkit<3.1.0,>=3.0.41->ipython>=7.23.1->ipykernel->jupyter->-r requirements.txt (line 7)) (0.2.13)\n",
      "Requirement already satisfied: parso<0.9.0,>=0.8.4 in /Users/matthewtonks/Library/Python/3.13/lib/python/site-packages (from jedi>=0.16->ipython>=7.23.1->ipykernel->jupyter->-r requirements.txt (line 7)) (0.8.5)\n",
      "Requirement already satisfied: platformdirs>=2.5 in /Users/matthewtonks/Library/Python/3.13/lib/python/site-packages (from jupyter-core!=5.0.*,>=4.12->ipykernel->jupyter->-r requirements.txt (line 7)) (4.4.0)\n",
      "Requirement already satisfied: ptyprocess>=0.5 in /Users/matthewtonks/Library/Python/3.13/lib/python/site-packages (from pexpect>4.3->ipython>=7.23.1->ipykernel->jupyter->-r requirements.txt (line 7)) (0.7.0)\n",
      "Requirement already satisfied: widgetsnbextension~=4.0.14 in /Library/Frameworks/Python.framework/Versions/3.13/lib/python3.13/site-packages (from ipywidgets->jupyter->-r requirements.txt (line 7)) (4.0.14)\n",
      "Requirement already satisfied: jupyterlab_widgets~=3.0.15 in /Library/Frameworks/Python.framework/Versions/3.13/lib/python3.13/site-packages (from ipywidgets->jupyter->-r requirements.txt (line 7)) (3.0.15)\n",
      "Requirement already satisfied: async-lru>=1.0.0 in /Library/Frameworks/Python.framework/Versions/3.13/lib/python3.13/site-packages (from jupyterlab->jupyter->-r requirements.txt (line 7)) (2.0.5)\n",
      "Requirement already satisfied: httpx<1,>=0.25.0 in /Library/Frameworks/Python.framework/Versions/3.13/lib/python3.13/site-packages (from jupyterlab->jupyter->-r requirements.txt (line 7)) (0.28.1)\n",
      "Requirement already satisfied: jinja2>=3.0.3 in /Library/Frameworks/Python.framework/Versions/3.13/lib/python3.13/site-packages (from jupyterlab->jupyter->-r requirements.txt (line 7)) (3.1.6)\n",
      "Requirement already satisfied: jupyter-lsp>=2.0.0 in /Library/Frameworks/Python.framework/Versions/3.13/lib/python3.13/site-packages (from jupyterlab->jupyter->-r requirements.txt (line 7)) (2.3.0)\n",
      "Requirement already satisfied: jupyter-server<3,>=2.4.0 in /Library/Frameworks/Python.framework/Versions/3.13/lib/python3.13/site-packages (from jupyterlab->jupyter->-r requirements.txt (line 7)) (2.17.0)\n",
      "Requirement already satisfied: jupyterlab-server<3,>=2.27.1 in /Library/Frameworks/Python.framework/Versions/3.13/lib/python3.13/site-packages (from jupyterlab->jupyter->-r requirements.txt (line 7)) (2.27.3)\n",
      "Requirement already satisfied: notebook-shim>=0.2 in /Library/Frameworks/Python.framework/Versions/3.13/lib/python3.13/site-packages (from jupyterlab->jupyter->-r requirements.txt (line 7)) (0.2.4)\n",
      "Requirement already satisfied: setuptools>=41.1.0 in /Library/Frameworks/Python.framework/Versions/3.13/lib/python3.13/site-packages (from jupyterlab->jupyter->-r requirements.txt (line 7)) (80.9.0)\n",
      "Requirement already satisfied: anyio in /Library/Frameworks/Python.framework/Versions/3.13/lib/python3.13/site-packages (from httpx<1,>=0.25.0->jupyterlab->jupyter->-r requirements.txt (line 7)) (4.10.0)\n",
      "Requirement already satisfied: certifi in /Library/Frameworks/Python.framework/Versions/3.13/lib/python3.13/site-packages (from httpx<1,>=0.25.0->jupyterlab->jupyter->-r requirements.txt (line 7)) (2025.8.3)\n",
      "Requirement already satisfied: httpcore==1.* in /Library/Frameworks/Python.framework/Versions/3.13/lib/python3.13/site-packages (from httpx<1,>=0.25.0->jupyterlab->jupyter->-r requirements.txt (line 7)) (1.0.9)\n",
      "Requirement already satisfied: idna in /Library/Frameworks/Python.framework/Versions/3.13/lib/python3.13/site-packages (from httpx<1,>=0.25.0->jupyterlab->jupyter->-r requirements.txt (line 7)) (3.10)\n",
      "Requirement already satisfied: h11>=0.16 in /Library/Frameworks/Python.framework/Versions/3.13/lib/python3.13/site-packages (from httpcore==1.*->httpx<1,>=0.25.0->jupyterlab->jupyter->-r requirements.txt (line 7)) (0.16.0)\n",
      "Requirement already satisfied: argon2-cffi>=21.1 in /Library/Frameworks/Python.framework/Versions/3.13/lib/python3.13/site-packages (from jupyter-server<3,>=2.4.0->jupyterlab->jupyter->-r requirements.txt (line 7)) (25.1.0)\n",
      "Requirement already satisfied: jupyter-events>=0.11.0 in /Library/Frameworks/Python.framework/Versions/3.13/lib/python3.13/site-packages (from jupyter-server<3,>=2.4.0->jupyterlab->jupyter->-r requirements.txt (line 7)) (0.12.0)\n",
      "Requirement already satisfied: jupyter-server-terminals>=0.4.4 in /Library/Frameworks/Python.framework/Versions/3.13/lib/python3.13/site-packages (from jupyter-server<3,>=2.4.0->jupyterlab->jupyter->-r requirements.txt (line 7)) (0.5.3)\n",
      "Requirement already satisfied: nbformat>=5.3.0 in /Library/Frameworks/Python.framework/Versions/3.13/lib/python3.13/site-packages (from jupyter-server<3,>=2.4.0->jupyterlab->jupyter->-r requirements.txt (line 7)) (5.10.4)\n",
      "Requirement already satisfied: prometheus-client>=0.9 in /Library/Frameworks/Python.framework/Versions/3.13/lib/python3.13/site-packages (from jupyter-server<3,>=2.4.0->jupyterlab->jupyter->-r requirements.txt (line 7)) (0.22.1)\n",
      "Requirement already satisfied: send2trash>=1.8.2 in /Library/Frameworks/Python.framework/Versions/3.13/lib/python3.13/site-packages (from jupyter-server<3,>=2.4.0->jupyterlab->jupyter->-r requirements.txt (line 7)) (1.8.3)\n",
      "Requirement already satisfied: terminado>=0.8.3 in /Library/Frameworks/Python.framework/Versions/3.13/lib/python3.13/site-packages (from jupyter-server<3,>=2.4.0->jupyterlab->jupyter->-r requirements.txt (line 7)) (0.18.1)\n",
      "Requirement already satisfied: websocket-client>=1.7 in /Library/Frameworks/Python.framework/Versions/3.13/lib/python3.13/site-packages (from jupyter-server<3,>=2.4.0->jupyterlab->jupyter->-r requirements.txt (line 7)) (1.8.0)\n",
      "Requirement already satisfied: babel>=2.10 in /Library/Frameworks/Python.framework/Versions/3.13/lib/python3.13/site-packages (from jupyterlab-server<3,>=2.27.1->jupyterlab->jupyter->-r requirements.txt (line 7)) (2.17.0)\n",
      "Requirement already satisfied: json5>=0.9.0 in /Library/Frameworks/Python.framework/Versions/3.13/lib/python3.13/site-packages (from jupyterlab-server<3,>=2.27.1->jupyterlab->jupyter->-r requirements.txt (line 7)) (0.12.1)\n",
      "Requirement already satisfied: jsonschema>=4.18.0 in /Library/Frameworks/Python.framework/Versions/3.13/lib/python3.13/site-packages (from jupyterlab-server<3,>=2.27.1->jupyterlab->jupyter->-r requirements.txt (line 7)) (4.25.1)\n",
      "Requirement already satisfied: requests>=2.31 in /Library/Frameworks/Python.framework/Versions/3.13/lib/python3.13/site-packages (from jupyterlab-server<3,>=2.27.1->jupyterlab->jupyter->-r requirements.txt (line 7)) (2.32.5)\n",
      "Requirement already satisfied: sniffio>=1.1 in /Library/Frameworks/Python.framework/Versions/3.13/lib/python3.13/site-packages (from anyio->httpx<1,>=0.25.0->jupyterlab->jupyter->-r requirements.txt (line 7)) (1.3.1)\n",
      "Requirement already satisfied: argon2-cffi-bindings in /Library/Frameworks/Python.framework/Versions/3.13/lib/python3.13/site-packages (from argon2-cffi>=21.1->jupyter-server<3,>=2.4.0->jupyterlab->jupyter->-r requirements.txt (line 7)) (25.1.0)\n",
      "Requirement already satisfied: MarkupSafe>=2.0 in /Library/Frameworks/Python.framework/Versions/3.13/lib/python3.13/site-packages (from jinja2>=3.0.3->jupyterlab->jupyter->-r requirements.txt (line 7)) (3.0.2)\n",
      "Requirement already satisfied: attrs>=22.2.0 in /Library/Frameworks/Python.framework/Versions/3.13/lib/python3.13/site-packages (from jsonschema>=4.18.0->jupyterlab-server<3,>=2.27.1->jupyterlab->jupyter->-r requirements.txt (line 7)) (25.3.0)\n",
      "Requirement already satisfied: jsonschema-specifications>=2023.03.6 in /Library/Frameworks/Python.framework/Versions/3.13/lib/python3.13/site-packages (from jsonschema>=4.18.0->jupyterlab-server<3,>=2.27.1->jupyterlab->jupyter->-r requirements.txt (line 7)) (2025.4.1)\n",
      "Requirement already satisfied: referencing>=0.28.4 in /Library/Frameworks/Python.framework/Versions/3.13/lib/python3.13/site-packages (from jsonschema>=4.18.0->jupyterlab-server<3,>=2.27.1->jupyterlab->jupyter->-r requirements.txt (line 7)) (0.36.2)\n",
      "Requirement already satisfied: rpds-py>=0.7.1 in /Library/Frameworks/Python.framework/Versions/3.13/lib/python3.13/site-packages (from jsonschema>=4.18.0->jupyterlab-server<3,>=2.27.1->jupyterlab->jupyter->-r requirements.txt (line 7)) (0.27.1)\n",
      "Requirement already satisfied: python-json-logger>=2.0.4 in /Library/Frameworks/Python.framework/Versions/3.13/lib/python3.13/site-packages (from jupyter-events>=0.11.0->jupyter-server<3,>=2.4.0->jupyterlab->jupyter->-r requirements.txt (line 7)) (3.3.0)\n",
      "Requirement already satisfied: pyyaml>=5.3 in /Library/Frameworks/Python.framework/Versions/3.13/lib/python3.13/site-packages (from jupyter-events>=0.11.0->jupyter-server<3,>=2.4.0->jupyterlab->jupyter->-r requirements.txt (line 7)) (6.0.2)\n",
      "Requirement already satisfied: rfc3339-validator in /Library/Frameworks/Python.framework/Versions/3.13/lib/python3.13/site-packages (from jupyter-events>=0.11.0->jupyter-server<3,>=2.4.0->jupyterlab->jupyter->-r requirements.txt (line 7)) (0.1.4)\n",
      "Requirement already satisfied: rfc3986-validator>=0.1.1 in /Library/Frameworks/Python.framework/Versions/3.13/lib/python3.13/site-packages (from jupyter-events>=0.11.0->jupyter-server<3,>=2.4.0->jupyterlab->jupyter->-r requirements.txt (line 7)) (0.1.1)\n",
      "Requirement already satisfied: fqdn in /Library/Frameworks/Python.framework/Versions/3.13/lib/python3.13/site-packages (from jsonschema[format-nongpl]>=4.18.0->jupyter-events>=0.11.0->jupyter-server<3,>=2.4.0->jupyterlab->jupyter->-r requirements.txt (line 7)) (1.5.1)\n",
      "Requirement already satisfied: isoduration in /Library/Frameworks/Python.framework/Versions/3.13/lib/python3.13/site-packages (from jsonschema[format-nongpl]>=4.18.0->jupyter-events>=0.11.0->jupyter-server<3,>=2.4.0->jupyterlab->jupyter->-r requirements.txt (line 7)) (20.11.0)\n",
      "Requirement already satisfied: jsonpointer>1.13 in /Library/Frameworks/Python.framework/Versions/3.13/lib/python3.13/site-packages (from jsonschema[format-nongpl]>=4.18.0->jupyter-events>=0.11.0->jupyter-server<3,>=2.4.0->jupyterlab->jupyter->-r requirements.txt (line 7)) (3.0.0)\n",
      "Requirement already satisfied: rfc3987-syntax>=1.1.0 in /Library/Frameworks/Python.framework/Versions/3.13/lib/python3.13/site-packages (from jsonschema[format-nongpl]>=4.18.0->jupyter-events>=0.11.0->jupyter-server<3,>=2.4.0->jupyterlab->jupyter->-r requirements.txt (line 7)) (1.1.0)\n",
      "Requirement already satisfied: uri-template in /Library/Frameworks/Python.framework/Versions/3.13/lib/python3.13/site-packages (from jsonschema[format-nongpl]>=4.18.0->jupyter-events>=0.11.0->jupyter-server<3,>=2.4.0->jupyterlab->jupyter->-r requirements.txt (line 7)) (1.3.0)\n",
      "Requirement already satisfied: webcolors>=24.6.0 in /Library/Frameworks/Python.framework/Versions/3.13/lib/python3.13/site-packages (from jsonschema[format-nongpl]>=4.18.0->jupyter-events>=0.11.0->jupyter-server<3,>=2.4.0->jupyterlab->jupyter->-r requirements.txt (line 7)) (24.11.1)\n",
      "Requirement already satisfied: beautifulsoup4 in /Library/Frameworks/Python.framework/Versions/3.13/lib/python3.13/site-packages (from nbconvert->jupyter->-r requirements.txt (line 7)) (4.13.5)\n",
      "Requirement already satisfied: bleach!=5.0.0 in /Library/Frameworks/Python.framework/Versions/3.13/lib/python3.13/site-packages (from bleach[css]!=5.0.0->nbconvert->jupyter->-r requirements.txt (line 7)) (6.2.0)\n",
      "Requirement already satisfied: defusedxml in /Library/Frameworks/Python.framework/Versions/3.13/lib/python3.13/site-packages (from nbconvert->jupyter->-r requirements.txt (line 7)) (0.7.1)\n",
      "Requirement already satisfied: jupyterlab-pygments in /Library/Frameworks/Python.framework/Versions/3.13/lib/python3.13/site-packages (from nbconvert->jupyter->-r requirements.txt (line 7)) (0.3.0)\n",
      "Requirement already satisfied: mistune<4,>=2.0.3 in /Library/Frameworks/Python.framework/Versions/3.13/lib/python3.13/site-packages (from nbconvert->jupyter->-r requirements.txt (line 7)) (3.1.3)\n",
      "Requirement already satisfied: nbclient>=0.5.0 in /Library/Frameworks/Python.framework/Versions/3.13/lib/python3.13/site-packages (from nbconvert->jupyter->-r requirements.txt (line 7)) (0.10.2)\n",
      "Requirement already satisfied: pandocfilters>=1.4.1 in /Library/Frameworks/Python.framework/Versions/3.13/lib/python3.13/site-packages (from nbconvert->jupyter->-r requirements.txt (line 7)) (1.5.1)\n",
      "Requirement already satisfied: webencodings in /Library/Frameworks/Python.framework/Versions/3.13/lib/python3.13/site-packages (from bleach!=5.0.0->bleach[css]!=5.0.0->nbconvert->jupyter->-r requirements.txt (line 7)) (0.5.1)\n",
      "Requirement already satisfied: tinycss2<1.5,>=1.1.0 in /Library/Frameworks/Python.framework/Versions/3.13/lib/python3.13/site-packages (from bleach[css]!=5.0.0->nbconvert->jupyter->-r requirements.txt (line 7)) (1.4.0)\n",
      "Requirement already satisfied: fastjsonschema>=2.15 in /Library/Frameworks/Python.framework/Versions/3.13/lib/python3.13/site-packages (from nbformat>=5.3.0->jupyter-server<3,>=2.4.0->jupyterlab->jupyter->-r requirements.txt (line 7)) (2.21.2)\n",
      "Requirement already satisfied: charset_normalizer<4,>=2 in /Library/Frameworks/Python.framework/Versions/3.13/lib/python3.13/site-packages (from requests>=2.31->jupyterlab-server<3,>=2.27.1->jupyterlab->jupyter->-r requirements.txt (line 7)) (3.4.3)\n",
      "Requirement already satisfied: urllib3<3,>=1.21.1 in /Library/Frameworks/Python.framework/Versions/3.13/lib/python3.13/site-packages (from requests>=2.31->jupyterlab-server<3,>=2.27.1->jupyterlab->jupyter->-r requirements.txt (line 7)) (2.5.0)\n",
      "Requirement already satisfied: lark>=1.2.2 in /Library/Frameworks/Python.framework/Versions/3.13/lib/python3.13/site-packages (from rfc3987-syntax>=1.1.0->jsonschema[format-nongpl]>=4.18.0->jupyter-events>=0.11.0->jupyter-server<3,>=2.4.0->jupyterlab->jupyter->-r requirements.txt (line 7)) (1.2.2)\n",
      "Requirement already satisfied: cffi>=1.0.1 in /Library/Frameworks/Python.framework/Versions/3.13/lib/python3.13/site-packages (from argon2-cffi-bindings->argon2-cffi>=21.1->jupyter-server<3,>=2.4.0->jupyterlab->jupyter->-r requirements.txt (line 7)) (1.17.1)\n",
      "Requirement already satisfied: pycparser in /Library/Frameworks/Python.framework/Versions/3.13/lib/python3.13/site-packages (from cffi>=1.0.1->argon2-cffi-bindings->argon2-cffi>=21.1->jupyter-server<3,>=2.4.0->jupyterlab->jupyter->-r requirements.txt (line 7)) (2.22)\n",
      "Requirement already satisfied: soupsieve>1.2 in /Library/Frameworks/Python.framework/Versions/3.13/lib/python3.13/site-packages (from beautifulsoup4->nbconvert->jupyter->-r requirements.txt (line 7)) (2.8)\n",
      "Requirement already satisfied: typing-extensions>=4.0.0 in /Library/Frameworks/Python.framework/Versions/3.13/lib/python3.13/site-packages (from beautifulsoup4->nbconvert->jupyter->-r requirements.txt (line 7)) (4.15.0)\n",
      "Requirement already satisfied: arrow>=0.15.0 in /Library/Frameworks/Python.framework/Versions/3.13/lib/python3.13/site-packages (from isoduration->jsonschema[format-nongpl]>=4.18.0->jupyter-events>=0.11.0->jupyter-server<3,>=2.4.0->jupyterlab->jupyter->-r requirements.txt (line 7)) (1.3.0)\n",
      "Requirement already satisfied: types-python-dateutil>=2.8.10 in /Library/Frameworks/Python.framework/Versions/3.13/lib/python3.13/site-packages (from arrow>=0.15.0->isoduration->jsonschema[format-nongpl]>=4.18.0->jupyter-events>=0.11.0->jupyter-server<3,>=2.4.0->jupyterlab->jupyter->-r requirements.txt (line 7)) (2.9.0.20250822)\n",
      "Requirement already satisfied: executing>=1.2.0 in /Users/matthewtonks/Library/Python/3.13/lib/python/site-packages (from stack_data->ipython>=7.23.1->ipykernel->jupyter->-r requirements.txt (line 7)) (2.2.0)\n",
      "Requirement already satisfied: asttokens>=2.1.0 in /Users/matthewtonks/Library/Python/3.13/lib/python/site-packages (from stack_data->ipython>=7.23.1->ipykernel->jupyter->-r requirements.txt (line 7)) (3.0.0)\n",
      "Requirement already satisfied: pure-eval in /Users/matthewtonks/Library/Python/3.13/lib/python/site-packages (from stack_data->ipython>=7.23.1->ipykernel->jupyter->-r requirements.txt (line 7)) (0.2.3)\n"
     ]
    }
   ],
   "source": [
    "## note now you need to switch the environment in your jupyter notebook to linreg_env\n",
    "# !python3 -m venv linreg_env\n",
    "\n",
    "# # Activate it\n",
    "# !source linreg_env/bin/activate\n",
    "\n",
    "# Upgrade pip\n",
    "!python3 -m pip install --upgrade pip\n",
    "\n",
    "# Install only the packages in requirements.txt\n",
    "!pip3 install -r requirements.txt\n"
   ]
  },
  {
   "cell_type": "markdown",
   "id": "96544932",
   "metadata": {},
   "source": [
    "## Why Use a `requirements.txt` File?\n",
    "\n",
    "In Python projects, different packages (and their versions) can sometimes **conflict** with each other.  \n",
    "To avoid this, we use a file called **`requirements.txt`** to:\n",
    "\n",
    "- 📦 **List the exact packages and versions** the project needs.  \n",
    "- 🔁 **Make your environment reproducible** — everyone in class installs the same versions, so results match.  \n",
    "- 🧹 **Keep things clean** — instead of installing lots of random packages, we only install what’s needed.  \n",
    "- 🤝 **Share easily** — if someone else wants to run your project, they just do:\n",
    "\n",
    "```bash\n",
    "pip install -r requirements.txt"
   ]
  },
  {
   "cell_type": "code",
   "execution_count": 4,
   "id": "9eee170a",
   "metadata": {},
   "outputs": [
    {
     "name": "stderr",
     "output_type": "stream",
     "text": [
      "/Users/matthewtonks/.matplotlib is not a writable directory\n",
      "Matplotlib created a temporary cache directory at /var/folders/cg/drmdpssj7b1g61ncm5ng3gww0000gn/T/matplotlib-4nzwhd88 because there was an issue with the default path (/Users/matthewtonks/.matplotlib); it is highly recommended to set the MPLCONFIGDIR environment variable to a writable directory, in particular to speed up the import of Matplotlib and to better support multiprocessing.\n",
      "Matplotlib is building the font cache; this may take a moment.\n"
     ]
    }
   ],
   "source": [
    "# make sure you switch to linreg_env in the juputer notebook kernel before running this! \n",
    "\n",
    "import pandas as pd\n",
    "import numpy as np\n",
    "from sklearn.model_selection import train_test_split\n",
    "from sklearn.linear_model import LinearRegression\n",
    "from sklearn.metrics import mean_squared_error, r2_score\n",
    "import statsmodels.api as sm\n",
    "import statsmodels.formula.api as smf\n",
    "import matplotlib.pyplot as plt\n",
    "import seaborn as sns"
   ]
  },
  {
   "cell_type": "markdown",
   "id": "edc94694",
   "metadata": {},
   "source": [
    "## Regression models in statsmodels"
   ]
  },
  {
   "cell_type": "code",
   "execution_count": 5,
   "id": "2fec1965",
   "metadata": {},
   "outputs": [
    {
     "data": {
      "application/vnd.microsoft.datawrangler.viewer.v0+json": {
       "columns": [
        {
         "name": "index",
         "rawType": "int64",
         "type": "integer"
        },
        {
         "name": "y",
         "rawType": "float64",
         "type": "float"
        },
        {
         "name": "x1",
         "rawType": "float64",
         "type": "float"
        },
        {
         "name": "x2",
         "rawType": "float64",
         "type": "float"
        }
       ],
       "ref": "ef640e02-3825-461e-8ebd-70ad5712df23",
       "rows": [
        [
         "0",
         "12.82548744581712",
         "5.993428306022466",
         "5.753887773848757"
        ],
        [
         "1",
         "9.199479832199767",
         "4.72347139765763",
         "8.738064031703923"
        ],
        [
         "2",
         "13.270928413543476",
         "6.295377076201385",
         "8.971856450419692"
        ],
        [
         "3",
         "17.40313943353434",
         "8.046059712816051",
         "7.593168192335144"
        ],
        [
         "4",
         "4.549976332691488",
         "4.531693250553328",
         "9.516142865001973"
        ]
       ],
       "shape": {
        "columns": 3,
        "rows": 5
       }
      },
      "text/html": [
       "<div>\n",
       "<style scoped>\n",
       "    .dataframe tbody tr th:only-of-type {\n",
       "        vertical-align: middle;\n",
       "    }\n",
       "\n",
       "    .dataframe tbody tr th {\n",
       "        vertical-align: top;\n",
       "    }\n",
       "\n",
       "    .dataframe thead th {\n",
       "        text-align: right;\n",
       "    }\n",
       "</style>\n",
       "<table border=\"1\" class=\"dataframe\">\n",
       "  <thead>\n",
       "    <tr style=\"text-align: right;\">\n",
       "      <th></th>\n",
       "      <th>y</th>\n",
       "      <th>x1</th>\n",
       "      <th>x2</th>\n",
       "    </tr>\n",
       "  </thead>\n",
       "  <tbody>\n",
       "    <tr>\n",
       "      <th>0</th>\n",
       "      <td>12.825487</td>\n",
       "      <td>5.993428</td>\n",
       "      <td>5.753888</td>\n",
       "    </tr>\n",
       "    <tr>\n",
       "      <th>1</th>\n",
       "      <td>9.199480</td>\n",
       "      <td>4.723471</td>\n",
       "      <td>8.738064</td>\n",
       "    </tr>\n",
       "    <tr>\n",
       "      <th>2</th>\n",
       "      <td>13.270928</td>\n",
       "      <td>6.295377</td>\n",
       "      <td>8.971856</td>\n",
       "    </tr>\n",
       "    <tr>\n",
       "      <th>3</th>\n",
       "      <td>17.403139</td>\n",
       "      <td>8.046060</td>\n",
       "      <td>7.593168</td>\n",
       "    </tr>\n",
       "    <tr>\n",
       "      <th>4</th>\n",
       "      <td>4.549976</td>\n",
       "      <td>4.531693</td>\n",
       "      <td>9.516143</td>\n",
       "    </tr>\n",
       "  </tbody>\n",
       "</table>\n",
       "</div>"
      ],
      "text/plain": [
       "           y        x1        x2\n",
       "0  12.825487  5.993428  5.753888\n",
       "1   9.199480  4.723471  8.738064\n",
       "2  13.270928  6.295377  8.971856\n",
       "3  17.403139  8.046060  7.593168\n",
       "4   4.549976  4.531693  9.516143"
      ]
     },
     "execution_count": 5,
     "metadata": {},
     "output_type": "execute_result"
    }
   ],
   "source": [
    "# let's generate some example data \n",
    "\n",
    "# Set random seed for reproducibility\n",
    "np.random.seed(42)\n",
    "\n",
    "# Generate sample size\n",
    "n = 100\n",
    "\n",
    "# Two predictors\n",
    "x1 = np.random.normal(5, 2, n)       # around 5, sd=2\n",
    "x2 = np.random.normal(10, 3, n)      # around 10, sd=3\n",
    "\n",
    "# True relationship: y = 3 + 2*x1 - 0.5*x2 + error\n",
    "error = np.random.normal(0, 2, n)    # noise\n",
    "y = 3 + 2*x1 - 0.5*x2 + error\n",
    "\n",
    "# Put in DataFrame\n",
    "df = pd.DataFrame({\"y\": y, \"x1\": x1, \"x2\": x2})\n",
    "\n",
    "df.head()"
   ]
  },
  {
   "cell_type": "markdown",
   "id": "41123d71",
   "metadata": {},
   "source": [
    "### Running an OLS Regression in Python\n",
    "\n",
    "In this example, we are estimating a **linear regression model** using the \n",
    "`statsmodels` library.\n",
    "\n",
    "The formula we pass to `ols` follows the convention:\n",
    "\n",
    "- `y ~ x1 + x2` means our dependent variable `y` is explained by predictors `x1` and `x2`.\n",
    "- `data=df` tells Python to look for those variables in our DataFrame `df`.\n",
    "\n",
    "The `.fit()` method estimates the model, and `mod.summary()` prints a full regression \n",
    "table including coefficients, standard errors, t-stats, p-values, and goodness-of-fit \n",
    "metrics like R-squared."
   ]
  },
  {
   "cell_type": "code",
   "execution_count": 6,
   "id": "f2be9e5e",
   "metadata": {},
   "outputs": [],
   "source": [
    "\n",
    "# Example: y ~ x1 + x2\n",
    "mod = smf.ols(\"y ~ x1 + x2\", data=df).fit()\n"
   ]
  },
  {
   "cell_type": "code",
   "execution_count": 7,
   "id": "5dbe8323",
   "metadata": {},
   "outputs": [
    {
     "name": "stdout",
     "output_type": "stream",
     "text": [
      "                            OLS Regression Results                            \n",
      "==============================================================================\n",
      "Dep. Variable:                      y   R-squared:                       0.816\n",
      "Model:                            OLS   Adj. R-squared:                  0.812\n",
      "Method:                 Least Squares   F-statistic:                     214.8\n",
      "Date:                Wed, 17 Sep 2025   Prob (F-statistic):           2.33e-36\n",
      "Time:                        19:27:36   Log-Likelihood:                -216.94\n",
      "No. Observations:                 100   AIC:                             439.9\n",
      "Df Residuals:                      97   BIC:                             447.7\n",
      "Df Model:                           2                                         \n",
      "Covariance Type:            nonrobust                                         \n",
      "==============================================================================\n",
      "                 coef    std err          t      P>|t|      [0.025      0.975]\n",
      "------------------------------------------------------------------------------\n",
      "Intercept      2.1287      1.043      2.041      0.044       0.059       4.198\n",
      "x1             2.2261      0.120     18.533      0.000       1.988       2.464\n",
      "x2            -0.5082      0.076     -6.664      0.000      -0.660      -0.357\n",
      "==============================================================================\n",
      "Omnibus:                        3.125   Durbin-Watson:                   2.220\n",
      "Prob(Omnibus):                  0.210   Jarque-Bera (JB):                3.080\n",
      "Skew:                           0.108   Prob(JB):                        0.214\n",
      "Kurtosis:                       3.832   Cond. No.                         56.0\n",
      "==============================================================================\n",
      "\n",
      "Notes:\n",
      "[1] Standard Errors assume that the covariance matrix of the errors is correctly specified.\n"
     ]
    }
   ],
   "source": [
    "print(mod.summary())"
   ]
  },
  {
   "cell_type": "code",
   "execution_count": 8,
   "id": "72322ec2",
   "metadata": {},
   "outputs": [
    {
     "data": {
      "text/html": [
       "<style type=\"text/css\">\n",
       "</style>\n",
       "<table id=\"T_bbecc\">\n",
       "  <thead>\n",
       "    <tr>\n",
       "      <th id=\"T_bbecc_level0_col0\" class=\"col_heading level0 col0\" >Predictor</th>\n",
       "      <th id=\"T_bbecc_level0_col1\" class=\"col_heading level0 col1\" >Estimate</th>\n",
       "      <th id=\"T_bbecc_level0_col2\" class=\"col_heading level0 col2\" >Std. Error</th>\n",
       "      <th id=\"T_bbecc_level0_col3\" class=\"col_heading level0 col3\" >t</th>\n",
       "      <th id=\"T_bbecc_level0_col4\" class=\"col_heading level0 col4\" >p-value</th>\n",
       "      <th id=\"T_bbecc_level0_col5\" class=\"col_heading level0 col5\" >95% CI</th>\n",
       "    </tr>\n",
       "  </thead>\n",
       "  <tbody>\n",
       "    <tr>\n",
       "      <td id=\"T_bbecc_row0_col0\" class=\"data row0 col0\" >Intercept</td>\n",
       "      <td id=\"T_bbecc_row0_col1\" class=\"data row0 col1\" >2.129*</td>\n",
       "      <td id=\"T_bbecc_row0_col2\" class=\"data row0 col2\" >1.043</td>\n",
       "      <td id=\"T_bbecc_row0_col3\" class=\"data row0 col3\" >2.04</td>\n",
       "      <td id=\"T_bbecc_row0_col4\" class=\"data row0 col4\" >0.0439</td>\n",
       "      <td id=\"T_bbecc_row0_col5\" class=\"data row0 col5\" >[0.06, 4.20]</td>\n",
       "    </tr>\n",
       "    <tr>\n",
       "      <td id=\"T_bbecc_row1_col0\" class=\"data row1 col0\" >x1</td>\n",
       "      <td id=\"T_bbecc_row1_col1\" class=\"data row1 col1\" >2.226***</td>\n",
       "      <td id=\"T_bbecc_row1_col2\" class=\"data row1 col2\" >0.120</td>\n",
       "      <td id=\"T_bbecc_row1_col3\" class=\"data row1 col3\" >18.53</td>\n",
       "      <td id=\"T_bbecc_row1_col4\" class=\"data row1 col4\" >1.22e-33</td>\n",
       "      <td id=\"T_bbecc_row1_col5\" class=\"data row1 col5\" >[1.99, 2.46]</td>\n",
       "    </tr>\n",
       "    <tr>\n",
       "      <td id=\"T_bbecc_row2_col0\" class=\"data row2 col0\" >x2</td>\n",
       "      <td id=\"T_bbecc_row2_col1\" class=\"data row2 col1\" >-0.508***</td>\n",
       "      <td id=\"T_bbecc_row2_col2\" class=\"data row2 col2\" >0.076</td>\n",
       "      <td id=\"T_bbecc_row2_col3\" class=\"data row2 col3\" >-6.66</td>\n",
       "      <td id=\"T_bbecc_row2_col4\" class=\"data row2 col4\" >1.62e-09</td>\n",
       "      <td id=\"T_bbecc_row2_col5\" class=\"data row2 col5\" >[-0.66, -0.36]</td>\n",
       "    </tr>\n",
       "  </tbody>\n",
       "</table>\n"
      ],
      "text/plain": [
       "<pandas.io.formats.style.Styler at 0x13eb538c0>"
      ]
     },
     "execution_count": 8,
     "metadata": {},
     "output_type": "execute_result"
    }
   ],
   "source": [
    "tab = pd.DataFrame({\n",
    "    \"Predictor\": mod.params.index,\n",
    "    \"Estimate\":  mod.params.values,\n",
    "    \"Std. Error\":mod.bse.values,\n",
    "    \"t\":         mod.tvalues.values,\n",
    "    \"p-value\":   mod.pvalues.values\n",
    "})\n",
    "ci = mod.conf_int()\n",
    "tab[\"95% CI\"] = [f\"[{lo:.2f}, {hi:.2f}]\" for lo,hi in ci.values]\n",
    "\n",
    "# add stars\n",
    "def stars(p):\n",
    "    return '***' if p<0.001 else '**' if p<0.01 else '*' if p<0.05 else ''\n",
    "tab[\"Estimate\"] = tab.apply(lambda r: f\"{r['Estimate']:.3f}{stars(r['p-value'])}\", axis=1)\n",
    "\n",
    "styled = (tab[[\"Predictor\",\"Estimate\",\"Std. Error\",\"t\",\"p-value\",\"95% CI\"]]\n",
    "          .style.format({\"Std. Error\":\"{:.3f}\",\"t\":\"{:.2f}\",\"p-value\":\"{:.3g}\"})\n",
    "          .hide(axis=\"index\"))\n",
    "styled\n",
    "# Save to HTML if you want\n",
    "# styled.to_html(\"ols_table_styled.html\")"
   ]
  },
  {
   "cell_type": "code",
   "execution_count": 9,
   "id": "d9f4218f",
   "metadata": {},
   "outputs": [
    {
     "data": {
      "image/png": "[encoded data removed]",
      "text/plain": [
       "<Figure size 600x400 with 1 Axes>"
      ]
     },
     "metadata": {},
     "output_type": "display_data"
    }
   ],
   "source": [
    "coef = (\n",
    "    pd.DataFrame({\"estimate\": mod.params, \"ci_low\": mod.conf_int()[0], \"ci_high\": mod.conf_int()[1]})\n",
    "    .reset_index().rename(columns={\"index\":\"term\"})\n",
    ")\n",
    "coef = coef[coef[\"term\"]!=\"Intercept\"]            # optional: hide intercept\n",
    "coef = coef.sort_values(\"estimate\")\n",
    "\n",
    "plt.figure(figsize=(6,4))\n",
    "plt.errorbar(\n",
    "    x=coef[\"estimate\"], y=coef[\"term\"],\n",
    "    xerr=[coef[\"estimate\"]-coef[\"ci_low\"], coef[\"ci_high\"]-coef[\"estimate\"]],\n",
    "    fmt=\"o\", capsize=3\n",
    ")\n",
    "plt.axvline(0, linestyle=\"--\", linewidth=1)\n",
    "plt.xlabel(\"Estimate\")\n",
    "plt.ylabel(\"Predictor\")\n",
    "plt.title(\"OLS Coefficients with 95% CIs\")\n",
    "plt.tight_layout()\n",
    "plt.savefig(\"coef_plot.png\", dpi=200)\n",
    "plt.show()"
   ]
  },
  {
   "cell_type": "markdown",
   "id": "c1ac44b1",
   "metadata": {},
   "source": [
    "### Interpreting Linear Coefficients (Simple Example)\n",
    "\n",
    "**Setup**\n",
    "- **y** = *exam score* (points out of 100)  \n",
    "- **x1** = *hours studied per week* (hours)  \n",
    "- **x2** = *classes skipped* (count)\n",
    "\n",
    "**How to say it (template)**\n",
    "> Increasing **x1** (*hours studied*) by **one hour** **increases** **y** (*exam score*) by **β₁ points**, **holding x2 fixed**.  \n",
    "> Increasing **x2** (*skipped classes*) by **one class** **decreases** **y** by **β₂ points**, **holding x1 fixed**.\n",
    "\n",
    "**What to include when you explain a coefficient**\n",
    "- the **X variable** and its **units**\n",
    "- the **direction** (increase/decrease)\n",
    "- the **Y variable** and its **units**\n",
    "- the **magnitude** (the coefficient)\n",
    "- the phrase **“holding everything else fixed.”**\n",
    "\n",
    "> Don’t say only “when X goes up, Y goes up.” Say **how much**, **in which units**, and **what’s held constant**."
   ]
  },
  {
   "cell_type": "code",
   "execution_count": 10,
   "id": "7af5b235",
   "metadata": {},
   "outputs": [
    {
     "name": "stdout",
     "output_type": "stream",
     "text": [
      "                            OLS Regression Results                            \n",
      "==============================================================================\n",
      "Dep. Variable:                  score   R-squared:                       0.702\n",
      "Model:                            OLS   Adj. R-squared:                  0.699\n",
      "Method:                 Least Squares   F-statistic:                     232.3\n",
      "Date:                Wed, 17 Sep 2025   Prob (F-statistic):           1.49e-52\n",
      "Time:                        19:27:37   Log-Likelihood:                -639.44\n",
      "No. Observations:                 200   AIC:                             1285.\n",
      "Df Residuals:                     197   BIC:                             1295.\n",
      "Df Model:                           2                                         \n",
      "Covariance Type:            nonrobust                                         \n",
      "==============================================================================\n",
      "                 coef    std err          t      P>|t|      [0.025      0.975]\n",
      "------------------------------------------------------------------------------\n",
      "Intercept     55.4193      1.251     44.315      0.000      52.953      57.886\n",
      "hours          2.1931      0.138     15.885      0.000       1.921       2.465\n",
      "skipped       -5.8168      0.369    -15.777      0.000      -6.544      -5.090\n",
      "==============================================================================\n",
      "Omnibus:                        1.166   Durbin-Watson:                   2.007\n",
      "Prob(Omnibus):                  0.558   Jarque-Bera (JB):                0.920\n",
      "Skew:                          -0.158   Prob(JB):                        0.631\n",
      "Kurtosis:                       3.101   Cond. No.                         26.6\n",
      "==============================================================================\n",
      "\n",
      "Notes:\n",
      "[1] Standard Errors assume that the covariance matrix of the errors is correctly specified.\n",
      "\n",
      "Interpretation:\n",
      "• Each additional hour studied per week is associated with a 2.19-point increase in exam score, holding skipped classes fixed.\n",
      "• Each additional class skipped is associated with a -5.82-point change in exam score, holding hours fixed (negative means lower scores).\n"
     ]
    }
   ],
   "source": [
    "\n",
    "# ---- make simple, realistic data ----\n",
    "np.random.seed(0)\n",
    "n = 200\n",
    "hours   = np.clip(np.random.normal(8, 3, n), 0, None)     # study hours/week\n",
    "skipped = np.clip(np.random.poisson(1.2, n), 0, None)     # classes skipped\n",
    "# True data-generating process: score = 55 + 2.2*hours - 5.0*skipped + noise\n",
    "score   = 55 + 2.2*hours - 5.0*skipped + np.random.normal(0, 6, n)\n",
    "\n",
    "df = pd.DataFrame({\"score\":score, \"hours\":hours, \"skipped\":skipped})\n",
    "\n",
    "# ---- fit OLS with a formula ----\n",
    "mod = smf.ols(\"score ~ hours + skipped\", data=df).fit()\n",
    "print(mod.summary())  # full table (betas, SE, t, p, R^2)\n",
    "\n",
    "# ---- pull coefficients and auto-generate a sentence ----\n",
    "b_hours   = mod.params[\"hours\"]\n",
    "b_skipped = mod.params[\"skipped\"]\n",
    "\n",
    "print(\n",
    "    f\"\\nInterpretation:\\n\"\n",
    "    f\"• Each additional hour studied per week is associated with a \"\n",
    "    f\"{b_hours:.2f}-point increase in exam score, holding skipped classes fixed.\\n\"\n",
    "    f\"• Each additional class skipped is associated with a \"\n",
    "    f\"{b_skipped:.2f}-point change in exam score, holding hours fixed \"\n",
    "    f\"(negative means lower scores).\"\n",
    ")"
   ]
  },
  {
   "cell_type": "code",
   "execution_count": 11,
   "id": "06e71def",
   "metadata": {},
   "outputs": [
    {
     "data": {
      "text/html": [
       "<style type=\"text/css\">\n",
       "</style>\n",
       "<table id=\"T_2f5c2\">\n",
       "  <thead>\n",
       "    <tr>\n",
       "      <th id=\"T_2f5c2_level0_col0\" class=\"col_heading level0 col0\" >Predictor</th>\n",
       "      <th id=\"T_2f5c2_level0_col1\" class=\"col_heading level0 col1\" >Estimate</th>\n",
       "      <th id=\"T_2f5c2_level0_col2\" class=\"col_heading level0 col2\" >Std. Error</th>\n",
       "      <th id=\"T_2f5c2_level0_col3\" class=\"col_heading level0 col3\" >t</th>\n",
       "      <th id=\"T_2f5c2_level0_col4\" class=\"col_heading level0 col4\" >p-value</th>\n",
       "      <th id=\"T_2f5c2_level0_col5\" class=\"col_heading level0 col5\" >95% CI</th>\n",
       "    </tr>\n",
       "  </thead>\n",
       "  <tbody>\n",
       "    <tr>\n",
       "      <td id=\"T_2f5c2_row0_col0\" class=\"data row0 col0\" >Intercept</td>\n",
       "      <td id=\"T_2f5c2_row0_col1\" class=\"data row0 col1\" >55.419***</td>\n",
       "      <td id=\"T_2f5c2_row0_col2\" class=\"data row0 col2\" >1.251</td>\n",
       "      <td id=\"T_2f5c2_row0_col3\" class=\"data row0 col3\" >44.31</td>\n",
       "      <td id=\"T_2f5c2_row0_col4\" class=\"data row0 col4\" >2.09e-104</td>\n",
       "      <td id=\"T_2f5c2_row0_col5\" class=\"data row0 col5\" >[52.95, 57.89]</td>\n",
       "    </tr>\n",
       "    <tr>\n",
       "      <td id=\"T_2f5c2_row1_col0\" class=\"data row1 col0\" >hours</td>\n",
       "      <td id=\"T_2f5c2_row1_col1\" class=\"data row1 col1\" >2.193***</td>\n",
       "      <td id=\"T_2f5c2_row1_col2\" class=\"data row1 col2\" >0.138</td>\n",
       "      <td id=\"T_2f5c2_row1_col3\" class=\"data row1 col3\" >15.88</td>\n",
       "      <td id=\"T_2f5c2_row1_col4\" class=\"data row1 col4\" >4.03e-37</td>\n",
       "      <td id=\"T_2f5c2_row1_col5\" class=\"data row1 col5\" >[1.92, 2.47]</td>\n",
       "    </tr>\n",
       "    <tr>\n",
       "      <td id=\"T_2f5c2_row2_col0\" class=\"data row2 col0\" >skipped</td>\n",
       "      <td id=\"T_2f5c2_row2_col1\" class=\"data row2 col1\" >-5.817***</td>\n",
       "      <td id=\"T_2f5c2_row2_col2\" class=\"data row2 col2\" >0.369</td>\n",
       "      <td id=\"T_2f5c2_row2_col3\" class=\"data row2 col3\" >-15.78</td>\n",
       "      <td id=\"T_2f5c2_row2_col4\" class=\"data row2 col4\" >8.55e-37</td>\n",
       "      <td id=\"T_2f5c2_row2_col5\" class=\"data row2 col5\" >[-6.54, -5.09]</td>\n",
       "    </tr>\n",
       "  </tbody>\n",
       "</table>\n"
      ],
      "text/plain": [
       "<pandas.io.formats.style.Styler at 0x13e6539d0>"
      ]
     },
     "execution_count": 11,
     "metadata": {},
     "output_type": "execute_result"
    }
   ],
   "source": [
    "tab = pd.DataFrame({\n",
    "    \"Predictor\": mod.params.index,\n",
    "    \"Estimate\":  mod.params.values,\n",
    "    \"Std. Error\":mod.bse.values,\n",
    "    \"t\":         mod.tvalues.values,\n",
    "    \"p-value\":   mod.pvalues.values\n",
    "})\n",
    "ci = mod.conf_int()\n",
    "tab[\"95% CI\"] = [f\"[{lo:.2f}, {hi:.2f}]\" for lo,hi in ci.values]\n",
    "\n",
    "# add stars\n",
    "def stars(p):\n",
    "    return '***' if p<0.001 else '**' if p<0.01 else '*' if p<0.05 else ''\n",
    "tab[\"Estimate\"] = tab.apply(lambda r: f\"{r['Estimate']:.3f}{stars(r['p-value'])}\", axis=1)\n",
    "\n",
    "styled = (tab[[\"Predictor\",\"Estimate\",\"Std. Error\",\"t\",\"p-value\",\"95% CI\"]]\n",
    "          .style.format({\"Std. Error\":\"{:.3f}\",\"t\":\"{:.2f}\",\"p-value\":\"{:.3g}\"})\n",
    "          .hide(axis=\"index\"))\n",
    "styled"
   ]
  },
  {
   "cell_type": "markdown",
   "id": "48235937",
   "metadata": {},
   "source": [
    "----\n",
    "## Lab Housing prices\n",
    "\n"
   ]
  },
  {
   "cell_type": "code",
   "execution_count": 12,
   "id": "189b079b",
   "metadata": {},
   "outputs": [
    {
     "data": {
      "text/plain": [
       "(          price   sqft_100  baths       dist  school  coastal\n",
       " 0  4.750134e+05  11.616603    1.8  27.560557     6.5        0\n",
       " 1  1.372575e+06  30.533832    2.5   6.743488     3.4        0\n",
       " 2  1.506215e+06  26.955679    1.1  13.718129     6.0        1\n",
       " 3  8.005829e+05  10.251363    1.7  15.068527     8.6        1\n",
       " 4  1.384994e+06  27.865830    1.0  24.336928     9.1        1,\n",
       " np.float64(1005649.9789147207))"
      ]
     },
     "execution_count": 12,
     "metadata": {},
     "output_type": "execute_result"
    }
   ],
   "source": [
    "# let's generate some housing price data \n",
    "n = 150\n",
    "\n",
    "# Base drivers (rough CA-like ranges)\n",
    "sqft = np.clip(np.random.normal(1800, 800, n), 600, 4500)      # living area (sqft)\n",
    "baths = np.clip(np.random.normal(2.3, 0.8, n), 1, 5).round(1)  # bathrooms\n",
    "dist  = np.random.uniform(1, 35, n)                            # miles to core/job center\n",
    "school = np.clip(np.random.normal(7.2, 2.5, n), 1, 10).round(1)# school rating (1-10)\n",
    "coastal = np.random.binomial(1, 0.55, n)                       # ~35% coastal\n",
    "\n",
    "# Use hundreds of sqft for cleaner coefficients\n",
    "sqft_100 = sqft / 100.0\n",
    "\n",
    "price = (120000\n",
    "         + 40000*sqft_100\n",
    "         + 55000*baths\n",
    "         + -6000*dist\n",
    "         + 15000*school\n",
    "         + 150000*coastal\n",
    "         + np.random.normal(0, 120000, n))\n",
    "\n",
    "df = pd.DataFrame({\n",
    "    \"price\": price.astype(float),\n",
    "    \"sqft_100\": sqft_100.astype(float),\n",
    "    \"baths\": baths.astype(float),\n",
    "    \"dist\": dist.astype(float),\n",
    "    \"school\": school.astype(float),\n",
    "    \"coastal\": coastal.astype(int)\n",
    "})\n",
    "\n",
    "df.head(), df[\"price\"].median()"
   ]
  },
  {
   "cell_type": "code",
   "execution_count": 15,
   "id": "ac1f8a03",
   "metadata": {},
   "outputs": [
    {
     "name": "stdout",
     "output_type": "stream",
     "text": [
      "                            OLS Regression Results                            \n",
      "==============================================================================\n",
      "Dep. Variable:                  price   R-squared:                       0.711\n",
      "Model:                            OLS   Adj. R-squared:                  0.707\n",
      "Method:                 Least Squares   F-statistic:                     181.0\n",
      "Date:                Wed, 17 Sep 2025   Prob (F-statistic):           2.24e-40\n",
      "Time:                        19:28:12   Log-Likelihood:                -2012.9\n",
      "No. Observations:                 150   AIC:                             4032.\n",
      "Df Residuals:                     147   BIC:                             4041.\n",
      "Df Model:                           2                                         \n",
      "Covariance Type:            nonrobust                                         \n",
      "==============================================================================\n",
      "                 coef    std err          t      P>|t|      [0.025      0.975]\n",
      "------------------------------------------------------------------------------\n",
      "Intercept   2.713e+05   5.53e+04      4.909      0.000    1.62e+05    3.81e+05\n",
      "sqft_100    3.768e+04   2017.154     18.678      0.000    3.37e+04    4.17e+04\n",
      "baths         3.7e+04   1.88e+04      1.967      0.051    -180.908    7.42e+04\n",
      "==============================================================================\n",
      "Omnibus:                        5.926   Durbin-Watson:                   2.144\n",
      "Prob(Omnibus):                  0.052   Jarque-Bera (JB):                3.060\n",
      "Skew:                          -0.056   Prob(JB):                        0.217\n",
      "Kurtosis:                       2.309   Cond. No.                         79.5\n",
      "==============================================================================\n",
      "\n",
      "Notes:\n",
      "[1] Standard Errors assume that the covariance matrix of the errors is correctly specified.\n"
     ]
    }
   ],
   "source": [
    "### Q1 Estimate a model predicing house prices as a function of square foot and baths\n",
    "mod1 = smf.ols(\"price ~ sqft_100 + baths\", data=df).fit()\n",
    "print(mod1.summary())"
   ]
  },
  {
   "cell_type": "code",
   "execution_count": null,
   "id": "96590d9a",
   "metadata": {},
   "outputs": [],
   "source": [
    "### Q2 Communicate in words the coefficient on baths\n",
    "#Each additional bathroom is associated with an estimated increase of approximately $55,000 in house price, holding square footage constant. This suggests that homes with more bathrooms tend to sell for higher prices, independent of their size."
   ]
  },
  {
   "cell_type": "code",
   "execution_count": 16,
   "id": "a95effc9",
   "metadata": {},
   "outputs": [
    {
     "name": "stdout",
     "output_type": "stream",
     "text": [
      "                            OLS Regression Results                            \n",
      "==============================================================================\n",
      "Dep. Variable:                  price   R-squared:                       0.852\n",
      "Model:                            OLS   Adj. R-squared:                  0.847\n",
      "Method:                 Least Squares   F-statistic:                     166.3\n",
      "Date:                Wed, 17 Sep 2025   Prob (F-statistic):           5.58e-58\n",
      "Time:                        19:30:37   Log-Likelihood:                -1962.6\n",
      "No. Observations:                 150   AIC:                             3937.\n",
      "Df Residuals:                     144   BIC:                             3955.\n",
      "Df Model:                           5                                         \n",
      "Covariance Type:            nonrobust                                         \n",
      "==============================================================================\n",
      "                 coef    std err          t      P>|t|      [0.025      0.975]\n",
      "------------------------------------------------------------------------------\n",
      "Intercept   1.095e+05   5.99e+04      1.828      0.070   -8880.188    2.28e+05\n",
      "sqft_100    3.983e+04   1469.111     27.114      0.000    3.69e+04    4.27e+04\n",
      "baths       3.801e+04   1.38e+04      2.756      0.007    1.08e+04    6.53e+04\n",
      "dist       -5558.4446    995.955     -5.581      0.000   -7527.025   -3589.865\n",
      "school      1.671e+04   4362.254      3.831      0.000    8087.414    2.53e+04\n",
      "coastal     1.911e+05   1.96e+04      9.731      0.000    1.52e+05     2.3e+05\n",
      "==============================================================================\n",
      "Omnibus:                        0.779   Durbin-Watson:                   2.087\n",
      "Prob(Omnibus):                  0.677   Jarque-Bera (JB):                0.898\n",
      "Skew:                           0.151   Prob(JB):                        0.638\n",
      "Kurtosis:                       2.771   Cond. No.                         174.\n",
      "==============================================================================\n",
      "\n",
      "Notes:\n",
      "[1] Standard Errors assume that the covariance matrix of the errors is correctly specified.\n"
     ]
    }
   ],
   "source": [
    "### Q3 Estimate a model predicing house prices as a function of all predictor variables\n",
    "mod2 = smf.ols(\"price ~ sqft_100 + baths + dist + school + coastal\", data=df).fit()\n",
    "print(mod2.summary())"
   ]
  },
  {
   "cell_type": "code",
   "execution_count": null,
   "id": "eb347980",
   "metadata": {},
   "outputs": [],
   "source": [
    "### Q4 Communicate in words the coefficient on sqft_100\n",
    "#The coefficient on sqft_100 represents the estimated change in house price for each additional 100 square feet of living space, holding all other variables constant. A positive coefficient indicates that larger homes tend to sell for higher prices, while a negative coefficient suggests the opposite."
   ]
  },
  {
   "cell_type": "markdown",
   "id": "2bb08404",
   "metadata": {},
   "source": [
    "## Hypthesis Testing\n"
   ]
  },
  {
   "cell_type": "code",
   "execution_count": 17,
   "id": "c9d61f19",
   "metadata": {},
   "outputs": [
    {
     "name": "stdout",
     "output_type": "stream",
     "text": [
      "                            OLS Regression Results                            \n",
      "==============================================================================\n",
      "Dep. Variable:                  price   R-squared:                       0.852\n",
      "Model:                            OLS   Adj. R-squared:                  0.847\n",
      "Method:                 Least Squares   F-statistic:                     166.3\n",
      "Date:                Wed, 17 Sep 2025   Prob (F-statistic):           5.58e-58\n",
      "Time:                        20:10:47   Log-Likelihood:                -1962.6\n",
      "No. Observations:                 150   AIC:                             3937.\n",
      "Df Residuals:                     144   BIC:                             3955.\n",
      "Df Model:                           5                                         \n",
      "Covariance Type:            nonrobust                                         \n",
      "==============================================================================\n",
      "                 coef    std err          t      P>|t|      [0.025      0.975]\n",
      "------------------------------------------------------------------------------\n",
      "Intercept   1.095e+05   5.99e+04      1.828      0.070   -8880.188    2.28e+05\n",
      "sqft_100    3.983e+04   1469.111     27.114      0.000    3.69e+04    4.27e+04\n",
      "baths       3.801e+04   1.38e+04      2.756      0.007    1.08e+04    6.53e+04\n",
      "dist       -5558.4446    995.955     -5.581      0.000   -7527.025   -3589.865\n",
      "school      1.671e+04   4362.254      3.831      0.000    8087.414    2.53e+04\n",
      "coastal     1.911e+05   1.96e+04      9.731      0.000    1.52e+05     2.3e+05\n",
      "==============================================================================\n",
      "Omnibus:                        0.779   Durbin-Watson:                   2.087\n",
      "Prob(Omnibus):                  0.677   Jarque-Bera (JB):                0.898\n",
      "Skew:                           0.151   Prob(JB):                        0.638\n",
      "Kurtosis:                       2.771   Cond. No.                         174.\n",
      "==============================================================================\n",
      "\n",
      "Notes:\n",
      "[1] Standard Errors assume that the covariance matrix of the errors is correctly specified.\n"
     ]
    }
   ],
   "source": [
    "# --- Fit regression: Price on sqft and baths ---\n",
    "mod = smf.ols(\"price ~ sqft_100 + baths + dist + school + coastal\", data=df).fit()\n",
    "print(mod.summary())"
   ]
  },
  {
   "cell_type": "markdown",
   "id": "cb312f59",
   "metadata": {},
   "source": [
    "## Using the Estimated Model to Predict House Prices\n",
    "\n",
    "Once we estimate a regression model, we can use it to predict housing prices for new data.\n",
    "\n",
    "---\n",
    "\n",
    "#### Steps:\n",
    "- Fit the model with your training data.  \n",
    "- Create a new `DataFrame` with the same predictor columns as in the model.  \n",
    "- Use `.predict()` to get the predicted price.  \n"
   ]
  },
  {
   "cell_type": "markdown",
   "id": "07e5f567",
   "metadata": {},
   "source": [
    "Once we estimate a regression model, we can use it to predict housing prices for new data.\n",
    "\n",
    "---\n",
    "\n",
    "#### Steps:\n",
    "- Fit the model with your training data.  \n",
    "- Create a new `DataFrame` with the same predictor columns as in the model.  \n",
    "- Use `.predict()` to get the predicted price.  \n",
    "\n"
   ]
  },
  {
   "cell_type": "code",
   "execution_count": 18,
   "id": "9798b098",
   "metadata": {},
   "outputs": [
    {
     "name": "stdout",
     "output_type": "stream",
     "text": [
      "Predicted price: $1,281,452\n"
     ]
    }
   ],
   "source": [
    "# Example house: 2,000 sqft (20 in 100s), \n",
    "# 2.5 baths, 8 miles, school=8, coastal\n",
    "new_house = pd.DataFrame({\n",
    "    \"sqft_100\": [2000/100],\n",
    "    \"baths\":    [2.5],\n",
    "    \"dist\":     [8],\n",
    "    \"school\":   [8],\n",
    "    \"coastal\":  [1],\n",
    "})\n",
    "\n",
    "pred_price = mod.predict(new_house)[0]\n",
    "print(f\"Predicted price: ${pred_price:,.0f}\")"
   ]
  },
  {
   "cell_type": "code",
   "execution_count": 19,
   "id": "85903cef",
   "metadata": {},
   "outputs": [
    {
     "data": {
      "application/vnd.microsoft.datawrangler.viewer.v0+json": {
       "columns": [
        {
         "name": "index",
         "rawType": "int64",
         "type": "integer"
        },
        {
         "name": "sqft_100",
         "rawType": "int64",
         "type": "integer"
        },
        {
         "name": "baths",
         "rawType": "float64",
         "type": "float"
        },
        {
         "name": "dist",
         "rawType": "int64",
         "type": "integer"
        },
        {
         "name": "school",
         "rawType": "int64",
         "type": "integer"
        },
        {
         "name": "coastal",
         "rawType": "int64",
         "type": "integer"
        },
        {
         "name": "pred_price",
         "rawType": "float64",
         "type": "float"
        }
       ],
       "ref": "240a70b5-a439-4e21-a6d3-2a8512bc86a8",
       "rows": [
        [
         "0",
         "18",
         "2.0",
         "12",
         "7",
         "0",
         "952731.6718874096"
        ],
        [
         "1",
         "24",
         "3.0",
         "5",
         "9",
         "1",
         "1493174.0767582422"
        ],
        [
         "2",
         "30",
         "3.5",
         "22",
         "6",
         "0",
         "1415448.213529307"
        ]
       ],
       "shape": {
        "columns": 6,
        "rows": 3
       }
      },
      "text/html": [
       "<div>\n",
       "<style scoped>\n",
       "    .dataframe tbody tr th:only-of-type {\n",
       "        vertical-align: middle;\n",
       "    }\n",
       "\n",
       "    .dataframe tbody tr th {\n",
       "        vertical-align: top;\n",
       "    }\n",
       "\n",
       "    .dataframe thead th {\n",
       "        text-align: right;\n",
       "    }\n",
       "</style>\n",
       "<table border=\"1\" class=\"dataframe\">\n",
       "  <thead>\n",
       "    <tr style=\"text-align: right;\">\n",
       "      <th></th>\n",
       "      <th>sqft_100</th>\n",
       "      <th>baths</th>\n",
       "      <th>dist</th>\n",
       "      <th>school</th>\n",
       "      <th>coastal</th>\n",
       "      <th>pred_price</th>\n",
       "    </tr>\n",
       "  </thead>\n",
       "  <tbody>\n",
       "    <tr>\n",
       "      <th>0</th>\n",
       "      <td>18</td>\n",
       "      <td>2.0</td>\n",
       "      <td>12</td>\n",
       "      <td>7</td>\n",
       "      <td>0</td>\n",
       "      <td>9.527317e+05</td>\n",
       "    </tr>\n",
       "    <tr>\n",
       "      <th>1</th>\n",
       "      <td>24</td>\n",
       "      <td>3.0</td>\n",
       "      <td>5</td>\n",
       "      <td>9</td>\n",
       "      <td>1</td>\n",
       "      <td>1.493174e+06</td>\n",
       "    </tr>\n",
       "    <tr>\n",
       "      <th>2</th>\n",
       "      <td>30</td>\n",
       "      <td>3.5</td>\n",
       "      <td>22</td>\n",
       "      <td>6</td>\n",
       "      <td>0</td>\n",
       "      <td>1.415448e+06</td>\n",
       "    </tr>\n",
       "  </tbody>\n",
       "</table>\n",
       "</div>"
      ],
      "text/plain": [
       "   sqft_100  baths  dist  school  coastal    pred_price\n",
       "0        18    2.0    12       7        0  9.527317e+05\n",
       "1        24    3.0     5       9        1  1.493174e+06\n",
       "2        30    3.5    22       6        0  1.415448e+06"
      ]
     },
     "execution_count": 19,
     "metadata": {},
     "output_type": "execute_result"
    }
   ],
   "source": [
    "new_listings = pd.DataFrame({\n",
    "    \"sqft_100\": [18, 24, 30],       # 1,800; 2,400; 3,000 sqft\n",
    "    \"baths\":    [2.0, 3.0, 3.5],\n",
    "    \"dist\":     [12, 5, 22],\n",
    "    \"school\":   [7, 9, 6],\n",
    "    \"coastal\":  [0, 1, 0],\n",
    "})\n",
    "\n",
    "new_listings[\"pred_price\"] = mod.predict(new_listings)\n",
    "new_listings"
   ]
  },
  {
   "cell_type": "markdown",
   "id": "b2d4999e",
   "metadata": {},
   "source": [
    "### Building Training and Testing Sets in Python\n",
    "\n",
    "When we build predictive models, we don’t want to test them on the same data we used to train them.  \n",
    "To make sure our models generalize well, we split the dataset into two parts:  \n",
    "\n",
    "- **Training set**: the portion of the data used to estimate the model parameters.  \n",
    "- **Testing set**: a separate portion of the data used only to evaluate how well the model performs on unseen data.  \n",
    "\n",
    "A common choice is to use about 70–80% of the data for training and the remaining 20–30% for testing.  \n",
    "This ensures we can both train the model effectively and still have enough data left to check its accuracy.  "
   ]
  },
  {
   "cell_type": "code",
   "execution_count": 20,
   "id": "cd0efd33",
   "metadata": {},
   "outputs": [
    {
     "name": "stdout",
     "output_type": "stream",
     "text": [
      "Training set shape: (112, 6)\n",
      "Testing set shape: (38, 6)\n"
     ]
    }
   ],
   "source": [
    "# Split data: 75% training, 25% testing\n",
    "train_df, test_df = train_test_split(df, test_size=0.25, random_state=1818)\n",
    "\n",
    "print(\"Training set shape:\", train_df.shape)\n",
    "print(\"Testing set shape:\", test_df.shape)"
   ]
  },
  {
   "cell_type": "markdown",
   "id": "d7f446f2",
   "metadata": {},
   "source": [
    "### In-Sample vs. Out-of-Sample Predictions\n",
    "\n",
    "- **In-sample predictions**: Predictions for the same data used to train the model.  \n",
    "  - These will usually fit well (sometimes too well).  \n",
    "\n",
    "- **Out-of-sample predictions**: Predictions for the test set (data not used for training).  \n",
    "  - These show how well the model generalizes to unseen data.  \n",
    "\n",
    "⚠️ **Important:** We always estimate the model on the **training set only**.  \n",
    "Never train on the test set — it’s reserved for evaluation.  "
   ]
  },
  {
   "cell_type": "code",
   "execution_count": 21,
   "id": "7887890a",
   "metadata": {},
   "outputs": [
    {
     "name": "stdout",
     "output_type": "stream",
     "text": [
      "First 5 in-sample predictions: [650306.0, 814081.0, 557209.0, 699631.0, 992567.0]\n",
      "First 5 out-of-sample predictions: [1213262.0, 1347873.0, 651556.0, 982613.0, 1118869.0]\n"
     ]
    }
   ],
   "source": [
    "mod = smf.ols(\"price ~ sqft_100 + baths + dist + school + coastal\", \n",
    "data=train_df).fit()\n",
    "\n",
    "# --- In-sample predictions (training data) ---\n",
    "preds_train = mod.predict(train_df)\n",
    "\n",
    "# --- Out-of-sample predictions (test data) ---\n",
    "preds_test = mod.predict(test_df)\n",
    "\n",
    "# Preview\n",
    "print(\"First 5 in-sample predictions:\", preds_train.head().round(0).tolist())\n",
    "print(\"First 5 out-of-sample predictions:\", preds_test.head().round(0).tolist())"
   ]
  },
  {
   "cell_type": "markdown",
   "id": "f09da0bf",
   "metadata": {},
   "source": [
    "### Root Mean Squared Error (RMSE)\n",
    "\n",
    "RMSE measures the **average size of prediction errors**.  \n",
    "It tells us, on average, how far our predictions are from the actual values.  \n",
    "\n",
    "$$\n",
    "\\mathrm{RMSE} \\;=\\; \\sqrt{\\frac{1}{n}\\sum_{i=1}^{n}\\left(y_i - \\hat{y}_i\\right)^2}\n",
    "$$\n",
    "\n",
    "- **Lower RMSE → more accurate model**  \n",
    "- **Train RMSE**: error when predicting on the **training set**  \n",
    "- **Test RMSE**: error when predicting on the **test set**  \n",
    "- If **test error > train error** → model may be **overfit** (too closely fitted to training data)  \n",
    "- If **test error < train error** → model may be **underfit** (too simple, missing patterns)  \n",
    "- Ideally: **Test error ≈ Train error** → model generalizes well  "
   ]
  },
  {
   "cell_type": "code",
   "execution_count": 22,
   "id": "6ac6573d",
   "metadata": {},
   "outputs": [
    {
     "name": "stdout",
     "output_type": "stream",
     "text": [
      "Train RMSE: 112573.33\n",
      "Test RMSE:  129374.13\n"
     ]
    }
   ],
   "source": [
    "# Define RMSE function\n",
    "def rmse(y_true, y_pred):\n",
    "    return np.sqrt(np.mean((y_true - y_pred)**2))\n",
    "\n",
    "# Training error\n",
    "train_rmse = rmse(train_df[\"price\"], preds_train)\n",
    "\n",
    "# Test error\n",
    "test_rmse = rmse(test_df[\"price\"], preds_test)\n",
    "\n",
    "print(f\"Train RMSE: {train_rmse:.2f}\")\n",
    "print(f\"Test RMSE:  {test_rmse:.2f}\")"
   ]
  },
  {
   "cell_type": "markdown",
   "id": "d1048eff",
   "metadata": {},
   "source": [
    "## 📊 Why Use Log Transformations?\n",
    "\n",
    "- Raw housing prices are often **very skewed** (a few very expensive homes pull the distribution to the right).  \n",
    "- Many regression methods assume errors are **normally distributed**. Skew can hurt predictions.  \n",
    "- Taking the **natural log** (`np.log`) compresses large values and spreads out small values.  \n",
    "- This makes the distribution more symmetric and easier for linear regression to model.  \n",
    "\n",
    "---\n",
    "\n",
    "### 🔢 What is the Natural Log?\n",
    "\n",
    "- The **natural logarithm** uses base $e \\; (\\approx 2.718)$.  \n",
    "- It answers: *“What power must I raise $e$ to in order to get this number?”*  \n",
    "  - Example: $\\ln(1) = 0$ because $e^0 = 1$.  \n",
    "  - Example: $\\ln(10) \\approx 2.3$ because $e^{2.3} \\approx 10$.  \n",
    "- In regression, we often use $\\ln(\\text{price})$ instead of `price`.  \n",
    "- **Interpretation**: coefficients become *percentage effects* (approximate).  \n",
    "  - Example: a coefficient of $0.05$ means a 1-unit increase in $X$ increases house price by **about 5%**.  \n",
    "\n"
   ]
  },
  {
   "cell_type": "code",
   "execution_count": 23,
   "id": "5eaa07e4",
   "metadata": {},
   "outputs": [
    {
     "data": {
      "image/png": "[encoded data removed]",
      "text/plain": [
       "<Figure size 1200x500 with 2 Axes>"
      ]
     },
     "metadata": {},
     "output_type": "display_data"
    }
   ],
   "source": [
    "# Add log-transformed housing price to your existing data\n",
    "df[\"log_price\"] = np.log(df[\"price\"])\n",
    "\n",
    "# Plot histograms: raw vs log-transformed prices\n",
    "fig, axes = plt.subplots(1, 2, figsize=(12, 5))\n",
    "\n",
    "# Raw price histogram\n",
    "axes[0].hist(df[\"price\"], bins=30, color=\"steelblue\", edgecolor=\"black\")\n",
    "axes[0].set_title(\"Histogram of Raw Housing Prices\")\n",
    "axes[0].set_xlabel(\"Price ($)\")\n",
    "axes[0].set_ylabel(\"Count\")\n",
    "\n",
    "# Logged price histogram\n",
    "axes[1].hist(df[\"log_price\"], bins=30, color=\"darkorange\", edgecolor=\"black\")\n",
    "axes[1].set_title(\"Histogram of Log-Transformed Prices\")\n",
    "axes[1].set_xlabel(\"Log(Price)\")\n",
    "axes[1].set_ylabel(\"Count\")\n",
    "\n",
    "plt.tight_layout()\n",
    "plt.show()"
   ]
  },
  {
   "cell_type": "code",
   "execution_count": 24,
   "id": "4e39255e",
   "metadata": {},
   "outputs": [
    {
     "name": "stdout",
     "output_type": "stream",
     "text": [
      "                            OLS Regression Results                            \n",
      "==============================================================================\n",
      "Dep. Variable:              log_price   R-squared:                       0.681\n",
      "Model:                            OLS   Adj. R-squared:                  0.677\n",
      "Method:                 Least Squares   F-statistic:                     156.9\n",
      "Date:                Wed, 17 Sep 2025   Prob (F-statistic):           3.40e-37\n",
      "Time:                        20:11:04   Log-Likelihood:                 40.473\n",
      "No. Observations:                 150   AIC:                            -74.95\n",
      "Df Residuals:                     147   BIC:                            -65.91\n",
      "Df Model:                           2                                         \n",
      "Covariance Type:            nonrobust                                         \n",
      "==============================================================================\n",
      "                 coef    std err          t      P>|t|      [0.025      0.975]\n",
      "------------------------------------------------------------------------------\n",
      "Intercept      9.2411      0.256     36.036      0.000       8.734       9.748\n",
      "log_sqft       0.6018      0.035     17.406      0.000       0.534       0.670\n",
      "baths          0.0426      0.021      1.997      0.048       0.000       0.085\n",
      "==============================================================================\n",
      "Omnibus:                        6.239   Durbin-Watson:                   2.098\n",
      "Prob(Omnibus):                  0.044   Jarque-Bera (JB):                6.080\n",
      "Skew:                          -0.491   Prob(JB):                       0.0478\n",
      "Kurtosis:                       3.088   Cond. No.                         133.\n",
      "==============================================================================\n",
      "\n",
      "Notes:\n",
      "[1] Standard Errors assume that the covariance matrix of the errors is correctly specified.\n"
     ]
    }
   ],
   "source": [
    "# Add log-transformed variables\n",
    "df[\"log_price\"] = np.log(df[\"price\"])\n",
    "df[\"log_sqft\"] = np.log(df[\"sqft_100\"] * 100)  # back to sqft for realism\n",
    "\n",
    "# Fit log-log model: log(price) ~ log(sqft) + baths\n",
    "mod_loglog = smf.ols(\"log_price ~ log_sqft + baths\", data=df).fit()\n",
    "print(mod_loglog.summary())"
   ]
  },
  {
   "cell_type": "markdown",
   "id": "4a20d52d",
   "metadata": {},
   "source": [
    "### 📖 How to Interpret Log–Log Regression Coefficients  \n",
    "\n",
    "When both the dependent variable and independent variable(s) are logged, the regression model is called a **log–log model**.  \n",
    "\n",
    "$$\n",
    "\\ln(Y) = \\beta_0 + \\beta_1 \\ln(X) + \\cdots + \\epsilon\n",
    "$$  \n",
    "\n",
    "- **Dependent variable ($Y$)**: logged (e.g., $\\ln(\\text{price})$)  \n",
    "- **Independent variable ($X$)**: also logged (e.g., $\\ln(\\text{sqft})$)  \n",
    "\n",
    "---\n",
    "\n",
    "#### 🔹 Interpretation: Elasticities  \n",
    "- A coefficient $\\beta_1$ in a log–log model is an **elasticity**.  \n",
    "- It tells us the **percentage change in $Y$** for a **1% change in $X$**.  \n",
    "\n",
    "---\n",
    "\n",
    "#### 🏡 Example: Housing Price Regression  \n",
    "Suppose we estimate:  \n",
    "\n",
    "$$\n",
    "\\ln(\\text{price}) = \\beta_0 + 0.6 \\cdot \\ln(\\text{sqft}) + 0.08 \\cdot \\text{baths} + \\epsilon\n",
    "$$  \n",
    "\n",
    "- **Square footage (log_sqft coefficient = 0.6)**  \n",
    "  - A **1% increase in square footage** is associated with about a **0.6% increase in house price**, holding bathrooms constant.  \n",
    "\n",
    "- **Bathrooms (baths coefficient = 0.08)**  \n",
    "  - Adding **one bathroom** increases house price by about **8%**, all else equal.  \n",
    "\n",
    "---\n",
    "\n",
    "#### 🔹 Why Use Log–Log Models?  \n",
    "- Makes coefficients easier to interpret as **percent changes**.  \n",
    "- Handles **skewed data** (e.g., housing prices, incomes).  \n",
    "- Useful for studying **elasticities** in economics and business.  \n",
    "\n",
    "---\n",
    "\n",
    "👉 **Rule of Thumb**:  \n",
    "- **Linear model**: coefficient = unit change in $Y$ for a one-unit change in $X$.  \n",
    "- **Log–linear model**: coefficient ≈ % change in $Y$ for a one-unit change in $X$.  \n",
    "- **Log–log model**: coefficient ≈ % change in $Y$ for a **1% change in $X$** (elasticity).  "
   ]
  },
  {
   "cell_type": "markdown",
   "id": "7c138393",
   "metadata": {},
   "source": [
    "## 🏡 Lab: Log–Log Regression and Interpretation (Extended)\n",
    "\n",
    "---\n",
    "\n",
    "### Q1. Log–log with distance\n",
    "Estimate a regression of `log(price)` on `log(dist)`.  \n",
    "- What does the coefficient on `log(dist)` mean?  \n",
    "- Do you expect it to be positive or negative? Why?  \n"
   ]
  },
  {
   "cell_type": "code",
   "execution_count": 26,
   "id": "272b5166",
   "metadata": {},
   "outputs": [
    {
     "name": "stdout",
     "output_type": "stream",
     "text": [
      "                            OLS Regression Results                            \n",
      "==============================================================================\n",
      "Dep. Variable:              log_price   R-squared:                       0.019\n",
      "Model:                            OLS   Adj. R-squared:                  0.012\n",
      "Method:                 Least Squares   F-statistic:                     2.857\n",
      "Date:                Wed, 17 Sep 2025   Prob (F-statistic):             0.0931\n",
      "Time:                        20:12:47   Log-Likelihood:                -43.779\n",
      "No. Observations:                 150   AIC:                             91.56\n",
      "Df Residuals:                     148   BIC:                             97.58\n",
      "Df Model:                           1                                         \n",
      "Covariance Type:            nonrobust                                         \n",
      "==============================================================================\n",
      "                 coef    std err          t      P>|t|      [0.025      0.975]\n",
      "------------------------------------------------------------------------------\n",
      "Intercept     13.9420      0.102    136.558      0.000      13.740      14.144\n",
      "log_dist      -0.0613      0.036     -1.690      0.093      -0.133       0.010\n",
      "==============================================================================\n",
      "Omnibus:                        7.879   Durbin-Watson:                   2.193\n",
      "Prob(Omnibus):                  0.019   Jarque-Bera (JB):                8.265\n",
      "Skew:                          -0.557   Prob(JB):                       0.0160\n",
      "Kurtosis:                       2.712   Cond. No.                         12.1\n",
      "==============================================================================\n",
      "\n",
      "Notes:\n",
      "[1] Standard Errors assume that the covariance matrix of the errors is correctly specified.\n"
     ]
    }
   ],
   "source": [
    "df['log_dist'] = np.log(df['dist'])\n",
    "\n",
    "mod_loglog = smf.ols(\"log_price ~ log_dist\", data=df).fit()\n",
    "print(mod_loglog.summary())"
   ]
  },
  {
   "cell_type": "markdown",
   "id": "9c4e8bbb",
   "metadata": {},
   "source": [
    "\n",
    "### Q2. Log–log with school quality\n",
    "Run a regression of `log(price)` on `log(school)`.  \n",
    "- How should we interpret the coefficient?  \n",
    "- What does it mean if the coefficient = 0.12?  \n"
   ]
  },
  {
   "cell_type": "code",
   "execution_count": 27,
   "id": "99742b58",
   "metadata": {},
   "outputs": [
    {
     "name": "stdout",
     "output_type": "stream",
     "text": [
      "                            OLS Regression Results                            \n",
      "==============================================================================\n",
      "Dep. Variable:              log_price   R-squared:                       0.000\n",
      "Model:                            OLS   Adj. R-squared:                 -0.007\n",
      "Method:                 Least Squares   F-statistic:                  0.003757\n",
      "Date:                Wed, 17 Sep 2025   Prob (F-statistic):              0.951\n",
      "Time:                        20:13:14   Log-Likelihood:                -45.211\n",
      "No. Observations:                 150   AIC:                             94.42\n",
      "Df Residuals:                     148   BIC:                             100.4\n",
      "Df Model:                           1                                         \n",
      "Covariance Type:            nonrobust                                         \n",
      "==============================================================================\n",
      "                 coef    std err          t      P>|t|      [0.025      0.975]\n",
      "------------------------------------------------------------------------------\n",
      "Intercept     13.7830      0.127    108.154      0.000      13.531      14.035\n",
      "log_school    -0.0040      0.065     -0.061      0.951      -0.133       0.125\n",
      "==============================================================================\n",
      "Omnibus:                        8.679   Durbin-Watson:                   2.225\n",
      "Prob(Omnibus):                  0.013   Jarque-Bera (JB):                9.229\n",
      "Skew:                          -0.602   Prob(JB):                      0.00991\n",
      "Kurtosis:                       2.837   Cond. No.                         11.6\n",
      "==============================================================================\n",
      "\n",
      "Notes:\n",
      "[1] Standard Errors assume that the covariance matrix of the errors is correctly specified.\n"
     ]
    }
   ],
   "source": [
    "df['log_school'] = np.log(df['school'])\n",
    "\n",
    "mod_loglog = smf.ols(\"log_price ~ log_school\", data=df).fit()\n",
    "print(mod_loglog.summary())"
   ]
  },
  {
   "cell_type": "markdown",
   "id": "1ce5e13b",
   "metadata": {},
   "source": [
    "### Q3. Multiple predictors\n",
    "Estimate a model with `log(price)` on `log(dist)` and `log(school)`.  \n",
    "- Interpret both coefficients.  \n"
   ]
  },
  {
   "cell_type": "code",
   "execution_count": 29,
   "id": "7e729e8c",
   "metadata": {},
   "outputs": [
    {
     "name": "stdout",
     "output_type": "stream",
     "text": [
      "                            OLS Regression Results                            \n",
      "==============================================================================\n",
      "Dep. Variable:              log_price   R-squared:                       0.019\n",
      "Model:                            OLS   Adj. R-squared:                  0.006\n",
      "Method:                 Least Squares   F-statistic:                     1.420\n",
      "Date:                Wed, 17 Sep 2025   Prob (F-statistic):              0.245\n",
      "Time:                        20:13:48   Log-Likelihood:                -43.778\n",
      "No. Observations:                 150   AIC:                             93.56\n",
      "Df Residuals:                     147   BIC:                             102.6\n",
      "Df Model:                           2                                         \n",
      "Covariance Type:            nonrobust                                         \n",
      "==============================================================================\n",
      "                 coef    std err          t      P>|t|      [0.025      0.975]\n",
      "------------------------------------------------------------------------------\n",
      "Intercept     13.9466      0.160     87.376      0.000      13.631      14.262\n",
      "log_dist      -0.0613      0.036     -1.684      0.094      -0.133       0.011\n",
      "log_school    -0.0024      0.065     -0.038      0.970      -0.130       0.125\n",
      "==============================================================================\n",
      "Omnibus:                        7.863   Durbin-Watson:                   2.194\n",
      "Prob(Omnibus):                  0.020   Jarque-Bera (JB):                8.244\n",
      "Skew:                          -0.556   Prob(JB):                       0.0162\n",
      "Kurtosis:                       2.710   Cond. No.                         22.3\n",
      "==============================================================================\n",
      "\n",
      "Notes:\n",
      "[1] Standard Errors assume that the covariance matrix of the errors is correctly specified.\n"
     ]
    }
   ],
   "source": [
    "mod_loglog = smf.ols(\"log_price ~ log_dist +log_school\", data=df).fit()\n",
    "print(mod_loglog.summary())"
   ]
  },
  {
   "cell_type": "markdown",
   "id": "d0c1851e",
   "metadata": {},
   "source": [
    "### Q4. Prediction\n",
    "Use your model from Q3 to predict the **price of a house** with:  \n",
    "- 2,000 sqft, 2 baths, 8 miles from the city center, school quality = 6, coastal = 1.  \n",
    "Remember to convert the prediction from `log(price)` back to **dollars**.  "
   ]
  },
  {
   "cell_type": "code",
   "execution_count": 32,
   "id": "857199ba",
   "metadata": {},
   "outputs": [
    {
     "name": "stdout",
     "output_type": "stream",
     "text": [
      "Predicted price: $999,347\n"
     ]
    }
   ],
   "source": [
    "# Prepare input for log-log model\n",
    "house_features = pd.DataFrame({\n",
    "    \"log_dist\": [np.log(8)],\n",
    "    \"log_school\": [np.log(6)]\n",
    "})\n",
    "\n",
    "# Predict log(price) and convert to dollars\n",
    "log_pred_price = mod_loglog.predict(house_features)[0]\n",
    "pred_price = np.exp(log_pred_price)\n",
    "print(f\"Predicted price: ${pred_price:,.0f}\")"
   ]
  }
 ],
 "metadata": {
  "kernelspec": {
   "display_name": "Python 3",
   "language": "python",
   "name": "python3"
  },
  "language_info": {
   "codemirror_mode": {
    "name": "ipython",
    "version": 3
   },
   "file_extension": ".py",
   "mimetype": "text/x-python",
   "name": "python",
   "nbconvert_exporter": "python",
   "pygments_lexer": "ipython3",
   "version": "3.13.7"
  }
 },
 "nbformat": 4,
 "nbformat_minor": 5
}
