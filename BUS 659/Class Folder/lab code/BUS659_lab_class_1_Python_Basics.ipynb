{
 "cells": [
  {
   "cell_type": "markdown",
   "id": "a6599204",
   "metadata": {},
   "source": [
    "\n",
    "# BUS 659 — Python Basics Notebook\n",
    "\n",
    "Welcome! This notebook covers Python essentials you'll use all semester:\n",
    "- Variables & types\n",
    "- Collections (lists/tuples/dicts/sets)\n",
    "- Control flow\n",
    "- Functions & modules\n",
    "- NumPy & Pandas\n",
    "- Plotting with Matplotlib\n",
    "- Loading data from CSV\n",
    "\n",
    "> Run a cell with **Shift+Enter**. Feel free to modify and experiment.\n"
   ]
  },
  {
   "cell_type": "markdown",
   "id": "6641aae4",
   "metadata": {},
   "source": [
    "## 0) Quick environment check"
   ]
  },
  {
   "cell_type": "code",
   "execution_count": 3,
   "id": "50155e53",
   "metadata": {},
   "outputs": [
    {
     "name": "stdout",
     "output_type": "stream",
     "text": [
      "3.13.7 (v3.13.7:bcee1c32211, Aug 14 2025, 19:10:51) [Clang 16.0.0 (clang-1600.0.26.6)]\n",
      "macOS-15.6.1-arm64-arm-64bit-Mach-O\n"
     ]
    }
   ],
   "source": [
    "\n",
    "import sys, platform\n",
    "print(sys.version)\n",
    "print(platform.platform())\n"
   ]
  },
  {
   "cell_type": "markdown",
   "id": "e7fe8d6b",
   "metadata": {},
   "source": [
    "## 1) Variables & types"
   ]
  },
  {
   "cell_type": "code",
   "execution_count": 4,
   "id": "7dd531e1",
   "metadata": {},
   "outputs": [
    {
     "name": "stdout",
     "output_type": "stream",
     "text": [
      "<class 'int'> <class 'float'> <class 'str'> <class 'bool'>\n",
      "three <class 'str'>\n"
     ]
    }
   ],
   "source": [
    "\n",
    "# Basic types\n",
    "x = 3            # int\n",
    "y = 3.14         # float\n",
    "name = \"Machine Learning\"     # str\n",
    "is_open = True   # bool\n",
    "\n",
    "print(type(x), type(y), type(name), type(is_open))\n",
    "\n",
    "# Dynamic typing: variables can be rebound\n",
    "x = 'three'\n",
    "print(x, type(x))\n"
   ]
  },
  {
   "cell_type": "markdown",
   "id": "96b2be77",
   "metadata": {},
   "source": [
    "**F Strings:** F-strings, short for formatted string literals, are a Python feature introduced in Python 3.6 that make it easier and cleaner to include variables and expressions directly inside strings."
   ]
  },
  {
   "cell_type": "code",
   "execution_count": 5,
   "id": "245882cc",
   "metadata": {},
   "outputs": [
    {
     "name": "stdout",
     "output_type": "stream",
     "text": [
      "My name is Justin Bieber and I am 31 years old.\n"
     ]
    }
   ],
   "source": [
    "name = \"Justin Bieber\"\n",
    "age = 31\n",
    "\n",
    "print(f\"My name is {name} and I am {age} years old.\")"
   ]
  },
  {
   "cell_type": "markdown",
   "id": "7ff1611f",
   "metadata": {},
   "source": [
    "**Exercise:** Create variables `a`, `b`, and `c` for an int, a float, and a string; then print a formatted sentence using f-strings."
   ]
  },
  {
   "cell_type": "code",
   "execution_count": 6,
   "id": "bdf7db3f",
   "metadata": {},
   "outputs": [
    {
     "name": "stdout",
     "output_type": "stream",
     "text": [
      "a=1 b=2 c=3\n"
     ]
    }
   ],
   "source": [
    "\n",
    "# TODO: your code here\n",
    "a = 1\n",
    "b = 2\n",
    "c = 3\n",
    "print(f\"a={a} b={b} c={c}\")\n"
   ]
  },
  {
   "cell_type": "markdown",
   "id": "71825439",
   "metadata": {},
   "source": [
    "## 2) Collections: list, tuple, dict, set"
   ]
  },
  {
   "cell_type": "markdown",
   "id": "25546405",
   "metadata": {},
   "source": [
    "### Lists in Python\n",
    "A **list** is an **ordered collection** of items. Lists are one of the most commonly used data structures in Python because they are **flexible** and **easy to work with**.\n",
    "\n",
    "- Use **square brackets** `[]` to create a list.\n",
    "- Lists can store **any type of data** — strings, numbers, booleans, or even other lists.\n",
    "- Lists are **mutable** → you can add, remove, or modify items.\n",
    "- Items **keep their order** and can be accessed by **index** (starting at `0`).\n",
    "- Lists **allow duplicates**, meaning the same value can appear multiple times."
   ]
  },
  {
   "cell_type": "code",
   "execution_count": 7,
   "id": "e659ac80",
   "metadata": {},
   "outputs": [
    {
     "name": "stdout",
     "output_type": "stream",
     "text": [
      "['apple', 'banana', 'cherry', 'date']\n",
      "banana\n"
     ]
    }
   ],
   "source": [
    "# ------------------------------\n",
    "# Lists: ordered, mutable\n",
    "# ------------------------------\n",
    "fruits = ['apple', 'banana', 'cherry']  \n",
    "# ✅ Ordered — items keep their position\n",
    "# ✅ Mutable — you can add, remove, or modify items\n",
    "# ✅ Allows duplicates\n",
    "fruits.append('date')       # add to end\n",
    "print(fruits)               # ['apple', 'banana', 'cherry', 'date']\n",
    "print(fruits[1])            # access by index → 'banana'\n"
   ]
  },
  {
   "cell_type": "markdown",
   "id": "663d5cb2",
   "metadata": {},
   "source": [
    "### Tuples in Python\n",
    "A **tuple** is similar to a list but **cannot be changed** once created.\n",
    "\n",
    "- Use **parentheses** `()` to create a tuple.\n",
    "- Tuples store items in a **specific order**.\n",
    "- Tuples are **immutable** → you **cannot** add, remove, or modify items after creation.\n",
    "- Tuples are often used for **fixed collections** of values (e.g., coordinates, RGB colors).\n",
    "- Like lists, tuples **allow duplicates** and support **indexing**."
   ]
  },
  {
   "cell_type": "code",
   "execution_count": 8,
   "id": "4366854c",
   "metadata": {},
   "outputs": [
    {
     "name": "stdout",
     "output_type": "stream",
     "text": [
      "34.1\n"
     ]
    }
   ],
   "source": [
    "# ------------------------------\n",
    "# Tuples: ordered, immutable\n",
    "# ------------------------------\n",
    "coords = (34.1, -118.2)\n",
    "# ✅ Ordered — items keep their position\n",
    "# ❌ Immutable — cannot add, remove, or change items after creation\n",
    "# ✅ Useful for fixed collections (like geographic coordinates)\n",
    "print(coords[0])            # 34.1\n",
    "# coords[0] = 50.0  # ❌ ERROR — tuples can't be changed\n"
   ]
  },
  {
   "cell_type": "markdown",
   "id": "672d9e07",
   "metadata": {},
   "source": [
    "### Dictionaries in Python\n",
    "A **dictionary** stores data in **key-value pairs**, making it easy to **look up values** based on a key.\n",
    "\n",
    "- Use **curly braces** `{}` to create a dictionary.\n",
    "- Each item has a **key** (unique) and a **value** (can be any data type).\n",
    "- Access values using their **key**, not an index.\n",
    "- Dictionaries are **mutable** → you can add, change, or remove key-value pairs.\n",
    "- Great for representing structured data like prices, settings, or user profiles."
   ]
  },
  {
   "cell_type": "code",
   "execution_count": 9,
   "id": "f3adfa43",
   "metadata": {},
   "outputs": [
    {
     "name": "stdout",
     "output_type": "stream",
     "text": [
      "{'apple': 1.25, 'banana': 0.75, 'cherry': 2.0}\n",
      "1.25\n"
     ]
    }
   ],
   "source": [
    "# ------------------------------\n",
    "# Dictionaries (dict): key-value pairs\n",
    "# ------------------------------\n",
    "prices = {'apple': 1.25, 'banana': 0.75}\n",
    "# ✅ Store data as key → value mappings\n",
    "# ✅ Keys must be unique; values can be anything\n",
    "# ✅ Fast lookups by key (hash table under the hood)\n",
    "prices['cherry'] = 2.00     # add new key-value\n",
    "print(prices)               # {'apple': 1.25, 'banana': 0.75, 'cherry': 2.00}\n",
    "print(prices['apple'])      # 1.25\n",
    "\n"
   ]
  },
  {
   "cell_type": "markdown",
   "id": "60cfc429",
   "metadata": {},
   "source": [
    "### Sets in Python\n",
    "A **set** is an **unordered collection** of **unique items**.\n",
    "\n",
    "- Use **curly braces** `{}` to create a set.\n",
    "- Sets **automatically remove duplicates**.\n",
    "- Sets are **unordered** → items have no fixed position and **cannot** be accessed by index.\n",
    "- Sets are **mutable** → you can add or remove items.\n",
    "- Sets are useful for:\n",
    "  - Removing duplicates from data.\n",
    "  - Quickly checking if an item exists.\n",
    "  - Performing set operations like **union**, **intersection**, and **difference**."
   ]
  },
  {
   "cell_type": "code",
   "execution_count": 10,
   "id": "748b793e",
   "metadata": {},
   "outputs": [
    {
     "name": "stdout",
     "output_type": "stream",
     "text": [
      "{'apple', 'banana'}\n",
      "{'apple', 'banana', 'cherry'}\n",
      "True\n"
     ]
    }
   ],
   "source": [
    "# ------------------------------\n",
    "# Sets: unordered, unique elements\n",
    "# ------------------------------\n",
    "unique = {'apple', 'banana', 'apple'}\n",
    "# ✅ Automatically removes duplicates\n",
    "# ✅ Great for checking membership\n",
    "# ✅ Unordered — cannot access by index\n",
    "print(unique)               # {'apple', 'banana'}\n",
    "\n",
    "unique.add('cherry')\n",
    "print(unique)               # {'apple', 'banana', 'cherry'}\n",
    "print('apple' in unique)    # True"
   ]
  },
  {
   "cell_type": "markdown",
   "id": "623bc261",
   "metadata": {},
   "source": [
    "## Looping Through Dictionaries and Formatting Output\n",
    "\n",
    "In this example, we'll print the contents of the `prices` dictionary in a **sorted, readable format**:\n",
    "\n",
    "- `prices.keys()` → gets all the **keys** from the dictionary.\n",
    "- `sorted(prices.keys())` → sorts the keys alphabetically.\n",
    "- `for k in ...` → loops through each key in the sorted list.\n",
    "- `prices[k]` → looks up the value associated with the current key.\n",
    "- `f\"{k}: ${prices[k]:.2f}\"` → uses an **f-string** to format the output:\n",
    "  - `{k}` → inserts the key (fruit name).\n",
    "  - `{prices[k]:.2f}` → formats the price with **2 decimal places**."
   ]
  },
  {
   "cell_type": "code",
   "execution_count": 11,
   "id": "8eb15aa3",
   "metadata": {},
   "outputs": [
    {
     "name": "stdout",
     "output_type": "stream",
     "text": [
      "apple: $1.25\n",
      "banana: $0.75\n",
      "cherry: $2.00\n"
     ]
    }
   ],
   "source": [
    "# Dictionary of fruit prices\n",
    "prices = {'apple': 1.25, 'banana': 0.75, 'cherry': 2.00}\n",
    "\n",
    "# Loop through the keys in sorted order\n",
    "for k in sorted(prices.keys()):\n",
    "    # Get the value (price) for this fruit\n",
    "    price = prices[k]\n",
    "    \n",
    "    # Print the fruit and price in a nicely formatted way\n",
    "    # The :.2f formats the number to 2 decimal places\n",
    "    print(f\"{k}: ${price:.2f}\")\n"
   ]
  },
  {
   "cell_type": "code",
   "execution_count": 12,
   "id": "45549099",
   "metadata": {},
   "outputs": [
    {
     "name": "stdout",
     "output_type": "stream",
     "text": [
      "1.25\n",
      "0.75\n",
      "2.0\n"
     ]
    }
   ],
   "source": [
    "# Loop through values\n",
    "for price in prices.values():\n",
    "    print(price)"
   ]
  },
  {
   "cell_type": "code",
   "execution_count": 13,
   "id": "35578918",
   "metadata": {},
   "outputs": [
    {
     "name": "stdout",
     "output_type": "stream",
     "text": [
      "apple: $1.25\n",
      "banana: $0.75\n",
      "cherry: $2.00\n"
     ]
    }
   ],
   "source": [
    "# Loop through Keys and Values\n",
    "for fruit, price in prices.items():\n",
    "    print(f\"{fruit}: ${price:.2f}\")\n"
   ]
  },
  {
   "cell_type": "markdown",
   "id": "ef903e88",
   "metadata": {},
   "source": [
    "## 3) Slicing & list comprehensions"
   ]
  },
  {
   "cell_type": "markdown",
   "id": "a644d6d9",
   "metadata": {},
   "source": [
    "### **Slicing Lists**\n",
    "Slicing allows you to extract **subsections** of a list using the syntax:  \n",
    "`list[start:end]`\n",
    "- `start` → index to begin (inclusive)\n",
    "- `end` → index to stop (exclusive)\n",
    "- Omitting `start` → starts at the beginning\n",
    "- Omitting `end` → goes to the end\n",
    "\n",
    "Example:\n",
    "```python\n",
    "nums[:5]   # first 5 numbers → [0, 1, 2, 3, 4]\n",
    "nums[5:]   # from index 5 onward → [5, 6, 7, 8, 9]"
   ]
  },
  {
   "cell_type": "code",
   "execution_count": 14,
   "id": "48ef5412",
   "metadata": {},
   "outputs": [
    {
     "name": "stdout",
     "output_type": "stream",
     "text": [
      "[0, 1, 2, 3, 4] [5, 6, 7, 8, 9]\n"
     ]
    }
   ],
   "source": [
    "# Create a list of numbers from 0 to 9\n",
    "nums = list(range(10))        # → [0, 1, 2, 3, 4, 5, 6, 7, 8, 9]\n",
    "\n",
    "# Slice the list into two parts:\n",
    "# nums[:5] → from the beginning up to (but not including) index 5 → [0, 1, 2, 3, 4]\n",
    "# nums[5:] → from index 5 to the end → [5, 6, 7, 8, 9]\n",
    "print(nums[:5], nums[5:])\n"
   ]
  },
  {
   "cell_type": "markdown",
   "id": "716b0d7e",
   "metadata": {},
   "source": [
    "### List Comprehensions in Python\n",
    "\n",
    "A **list comprehension** is a concise way to **create new lists** by transforming or filtering an existing list.  \n",
    "Instead of writing a full `for` loop, you can build the list **in a single line**.\n",
    "\n",
    "**Basic Syntax:**\n",
    "```python\n",
    "[expression for item in list]"
   ]
  },
  {
   "cell_type": "code",
   "execution_count": 15,
   "id": "5c1af4c2",
   "metadata": {},
   "outputs": [
    {
     "data": {
      "text/plain": [
       "[0, 1, 4, 9, 16, 25, 36, 49, 64, 81]"
      ]
     },
     "execution_count": 15,
     "metadata": {},
     "output_type": "execute_result"
    }
   ],
   "source": [
    "\n",
    "# Create a new list of squares using a list comprehension:\n",
    "# For each n in nums, compute n*n\n",
    "squares = [n*n for n in nums]  \n",
    "squares\n"
   ]
  },
  {
   "cell_type": "code",
   "execution_count": 16,
   "id": "68a8bab2",
   "metadata": {},
   "outputs": [
    {
     "data": {
      "text/plain": [
       "[0, 4, 16, 36, 64]"
      ]
     },
     "execution_count": 16,
     "metadata": {},
     "output_type": "execute_result"
    }
   ],
   "source": [
    "# Create a list of squares of even numbers only:\n",
    "# First filters nums for even numbers, then squares them\n",
    "squares_of_evens = [n*n for n in nums if n % 2 == 0]\n",
    "squares_of_evens"
   ]
  },
  {
   "cell_type": "markdown",
   "id": "ee1ea7e2",
   "metadata": {},
   "source": [
    "## 4) Control flow: if / for / while"
   ]
  },
  {
   "cell_type": "markdown",
   "id": "803fe3c3",
   "metadata": {},
   "source": [
    "### Control Flow in Python: if, for, and while\n",
    "\n",
    "Control flow allows you to make decisions and **repeat actions** in your programs.\n",
    "\n",
    "---\n",
    "\n",
    "### **1. If Statements**\n",
    "An `if` statement lets your code make **decisions** based on conditions.\n",
    "\n",
    "**Basic Syntax:**\n",
    "```python\n",
    "if condition:\n",
    "    # run this block if condition is True\n",
    "else:\n",
    "    # run this block if condition is False"
   ]
  },
  {
   "cell_type": "code",
   "execution_count": 17,
   "id": "e3a04b76",
   "metadata": {},
   "outputs": [
    {
     "name": "stdout",
     "output_type": "stream",
     "text": [
      "7 is odd\n"
     ]
    }
   ],
   "source": [
    "n = 7\n",
    "if n % 2 == 0:\n",
    "    parity = \"even\"\n",
    "else:\n",
    "    parity = \"odd\"\n",
    "print(f\"{n} is {parity}\")"
   ]
  },
  {
   "cell_type": "markdown",
   "id": "bed6cdb2",
   "metadata": {},
   "source": [
    "A for loop lets you iterate over items in a list, tuple, dictionary, or other sequence."
   ]
  },
  {
   "cell_type": "code",
   "execution_count": 18,
   "id": "35684e2c",
   "metadata": {},
   "outputs": [
    {
     "name": "stdout",
     "output_type": "stream",
     "text": [
      "apple\n",
      "banana\n",
      "cherry\n"
     ]
    }
   ],
   "source": [
    "fruits = ['apple', 'banana', 'cherry']\n",
    "\n",
    "for fruit in fruits:\n",
    "    print(fruit)"
   ]
  },
  {
   "cell_type": "markdown",
   "id": "3eab2859",
   "metadata": {},
   "source": [
    "Sometimes you need both the index and the value in a loop. enumerate() gives you both:"
   ]
  },
  {
   "cell_type": "code",
   "execution_count": 19,
   "id": "3b0c1919",
   "metadata": {},
   "outputs": [
    {
     "name": "stdout",
     "output_type": "stream",
     "text": [
      "1 apple\n",
      "2 banana\n",
      "3 cherry\n"
     ]
    }
   ],
   "source": [
    "for i, fruit in enumerate(fruits, start=1):\n",
    "    print(i, fruit)"
   ]
  },
  {
   "cell_type": "markdown",
   "id": "a989390f",
   "metadata": {},
   "source": [
    "A `while` loop repeats as long as a condition is `True`."
   ]
  },
  {
   "cell_type": "code",
   "execution_count": 20,
   "id": "d2674d5f",
   "metadata": {},
   "outputs": [
    {
     "name": "stdout",
     "output_type": "stream",
     "text": [
      "Count is 3\n",
      "Count is 2\n",
      "Count is 1\n",
      "Loop finished!\n"
     ]
    }
   ],
   "source": [
    "count = 3\n",
    "while count > 0:\n",
    "    print(f\"Count is {count}\")\n",
    "    count -= 1\n",
    "print(\"Loop finished!\")"
   ]
  },
  {
   "cell_type": "markdown",
   "id": "8cedb941",
   "metadata": {},
   "source": [
    "## 5) Functions & type hints"
   ]
  },
  {
   "cell_type": "markdown",
   "id": "7bc09bf1",
   "metadata": {},
   "source": [
    "### Defining Functions in Python\n",
    "\n",
    "Functions let you **organize reusable code** into named blocks that you can call whenever needed.\n",
    "\n",
    "---\n",
    "\n",
    "### **1. Defining a Function**\n",
    "Use the `def` keyword to define a function:\n",
    "\n",
    "```python\n",
    "def function_name(parameters):\n",
    "    # code block\n",
    "    return result"
   ]
  },
  {
   "cell_type": "code",
   "execution_count": 21,
   "id": "f41e41aa",
   "metadata": {},
   "outputs": [
    {
     "name": "stdout",
     "output_type": "stream",
     "text": [
      "3.0\n"
     ]
    }
   ],
   "source": [
    "\n",
    "from typing import Iterable, List\n",
    "\n",
    "def mean(values: Iterable[float]) -> float:\n",
    "    total = 0.0\n",
    "    n = 0\n",
    "    for v in values:\n",
    "        total += v\n",
    "        n += 1\n",
    "    return total / n\n",
    "\n",
    "print(mean([1,2,3,4,5]))\n"
   ]
  },
  {
   "cell_type": "markdown",
   "id": "edd3eb46",
   "metadata": {},
   "source": [
    "## 6) Importing modules"
   ]
  },
  {
   "cell_type": "markdown",
   "id": "9dbabc47",
   "metadata": {},
   "source": [
    "### Importing and Using Python Modules\n",
    "\n",
    "Python comes with many **built-in modules** that provide extra functionality without needing to install anything.  \n",
    "You can **import** these modules and use their functions directly.\n",
    "\n",
    "---\n",
    "\n",
    "### **1. Importing Modules**\n",
    "There are different ways to import modules:\n",
    "\n",
    "```python\n",
    "import math                # Import the entire module\n",
    "import statistics as stats # Import with an alias (shorter name)\n",
    "from pathlib import Path   # Import a specific class or function"
   ]
  },
  {
   "cell_type": "code",
   "execution_count": 15,
   "id": "e6d45821",
   "metadata": {},
   "outputs": [
    {
     "name": "stdout",
     "output_type": "stream",
     "text": [
      "4.0\n",
      "20\n"
     ]
    },
    {
     "data": {
      "text/plain": [
       "PosixPath('/Users/matthewtonks/Repositories/BUS 659/Jupyter NoteBooks/datasets')"
      ]
     },
     "execution_count": 15,
     "metadata": {},
     "output_type": "execute_result"
    }
   ],
   "source": [
    "import math, statistics as stats, pathlib\n",
    "\n",
    "print(math.sqrt(16))\n",
    "print(stats.mean([10, 20, 30]))\n",
    "data_path = pathlib.Path('datasets')\n",
    "data_path.mkdir(exist_ok=True)\n",
    "data_path.resolve()\n"
   ]
  },
  {
   "cell_type": "markdown",
   "id": "6ec9c27b",
   "metadata": {},
   "source": [
    "## 7) NumPy basics"
   ]
  },
  {
   "cell_type": "markdown",
   "id": "f8953036",
   "metadata": {},
   "source": [
    "### NumPy: Working with Arrays in Python\n",
    "\n",
    "**NumPy** (Numerical Python) is one of the most important Python libraries for **data science** and **machine learning**.  \n",
    "It provides:\n",
    "- Efficient storage and manipulation of **large numeric datasets**.\n",
    "- Fast **vectorized operations** (performing calculations on entire arrays without loops).\n",
    "- A wide range of mathematical, statistical, and linear algebra functions.\n",
    "\n",
    "---\n",
    "\n",
    "### **1. Installing NumPy**\n",
    "Make sure NumPy is installed in your environment. In a Jupyter notebook, run:\n",
    "\n",
    "```python\n",
    "!pip install numpy"
   ]
  },
  {
   "cell_type": "code",
   "execution_count": 17,
   "id": "32946b7c",
   "metadata": {},
   "outputs": [
    {
     "name": "stdout",
     "output_type": "stream",
     "text": [
      "a + b = [5. 7. 9.]\n",
      "a * 10 = [10. 20. 30.]\n",
      "mean(b) = 5.0\n"
     ]
    }
   ],
   "source": [
    "import numpy as np\n",
    "\n",
    "a = np.array([1,2,3], dtype=np.float64)\n",
    "b = np.array([4,5,6], dtype=np.float64)\n",
    "print(\"a + b =\", a + b)  # vectorized\n",
    "print(\"a * 10 =\", a * 10)\n",
    "print(\"mean(b) =\", b.mean())\n"
   ]
  },
  {
   "cell_type": "markdown",
   "id": "4de7fe9d",
   "metadata": {},
   "source": [
    "## 8) Pandas: Series & DataFrame"
   ]
  },
  {
   "cell_type": "markdown",
   "id": "a43fcfa1",
   "metadata": {},
   "source": [
    "### Pandas: Working with DataFrames in Python\n",
    "\n",
    "**Pandas** is one of the most important Python libraries for **data analysis**.  \n",
    "It lets you load, clean, explore, and analyze data efficiently using **DataFrames** — powerful table-like structures.\n",
    "\n",
    "---\n",
    "\n",
    "### **1. Installing Pandas**\n",
    "Make sure Pandas is installed in your environment. In Jupyter, run:\n",
    "\n",
    "```python\n",
    "!pip install pandas"
   ]
  },
  {
   "cell_type": "code",
   "execution_count": 18,
   "id": "a0eff516",
   "metadata": {},
   "outputs": [
    {
     "ename": "ModuleNotFoundError",
     "evalue": "No module named 'pandas'",
     "output_type": "error",
     "traceback": [
      "\u001b[31m---------------------------------------------------------------------------\u001b[39m",
      "\u001b[31mModuleNotFoundError\u001b[39m                       Traceback (most recent call last)",
      "\u001b[36mCell\u001b[39m\u001b[36m \u001b[39m\u001b[32mIn[18]\u001b[39m\u001b[32m, line 1\u001b[39m\n\u001b[32m----> \u001b[39m\u001b[32m1\u001b[39m \u001b[38;5;28;01mimport\u001b[39;00m\u001b[38;5;250m \u001b[39m\u001b[34;01mpandas\u001b[39;00m\u001b[38;5;250m \u001b[39m\u001b[38;5;28;01mas\u001b[39;00m\u001b[38;5;250m \u001b[39m\u001b[34;01mpd\u001b[39;00m\n\u001b[32m      2\u001b[39m \u001b[38;5;28;01mfrom\u001b[39;00m\u001b[38;5;250m \u001b[39m\u001b[34;01mio\u001b[39;00m\u001b[38;5;250m \u001b[39m\u001b[38;5;28;01mimport\u001b[39;00m StringIO\n\u001b[32m      4\u001b[39m \u001b[38;5;66;03m# SaaS business dataset: monthly subscriptions & revenue\u001b[39;00m\n",
      "\u001b[31mModuleNotFoundError\u001b[39m: No module named 'pandas'"
     ]
    }
   ],
   "source": [
    "import pandas as pd\n",
    "from io import StringIO\n",
    "\n",
    "# SaaS business dataset: monthly subscriptions & revenue\n",
    "csv_text = StringIO(\"\"\"\n",
    "month,new_customers,cancelled_customers,total_customers,monthly_recurring_revenue\n",
    "2025-01,120,10,120,6000\n",
    "2025-02,150,15,255,7800\n",
    "2025-03,180,20,415,10200\n",
    "2025-04,200,25,590,12400\n",
    "2025-05,220,30,780,15000\n",
    "2025-06,250,40,990,18200\n",
    "\"\"\")\n",
    "\n",
    "# Load CSV into a Pandas DataFrame\n",
    "df = pd.read_csv(csv_text, parse_dates=['month'])\n",
    "\n",
    "# Display the first few rows\n",
    "df.head()"
   ]
  },
  {
   "cell_type": "markdown",
   "id": "eedfa149",
   "metadata": {},
   "source": [
    "### Exploring a New Dataset with Pandas\n",
    "\n",
    "When you load a dataset into Pandas, the first step is to **understand its structure**:  \n",
    "- What columns does it have?\n",
    "- What types of data are in each column?\n",
    "- Are there missing values?\n",
    "- What are the summary statistics?\n",
    "\n",
    "Here are a few **essential Pandas commands** for dataset exploration.\n",
    "\n",
    "---\n",
    "\n",
    "### **1. Check Dataset Structure**\n",
    "```python\n",
    "df.info()"
   ]
  },
  {
   "cell_type": "code",
   "execution_count": null,
   "id": "0069c2df",
   "metadata": {},
   "outputs": [],
   "source": [
    "\n",
    "# Basic exploration\n",
    "df.info()\n",
    "\n"
   ]
  },
  {
   "cell_type": "code",
   "execution_count": null,
   "id": "130ec26c",
   "metadata": {},
   "outputs": [],
   "source": [
    "# 2. Get summary statistics for numeric columns\n",
    "display(df.describe)"
   ]
  },
  {
   "cell_type": "code",
   "execution_count": null,
   "id": "f1a742ed",
   "metadata": {},
   "outputs": [],
   "source": [
    "# 3. Preview the first 5 rows\n",
    "print(df.head())"
   ]
  },
  {
   "cell_type": "code",
   "execution_count": null,
   "id": "7f098ea7",
   "metadata": {},
   "outputs": [],
   "source": [
    "# 4. Show the top 3 events by attendance\n",
    "df.sort_values('monthly_recurring_revenue', ascending=False).head(3)\n",
    "\n"
   ]
  },
  {
   "cell_type": "code",
   "execution_count": null,
   "id": "17cf08a1",
   "metadata": {},
   "outputs": [],
   "source": [
    "# 5. Check for missing values in each column\n",
    "print(df.isna().sum())"
   ]
  },
  {
   "cell_type": "markdown",
   "id": "3d127cbe",
   "metadata": {},
   "source": [
    "**Exercise:** Compute total donations per `service` and sort descending."
   ]
  },
  {
   "cell_type": "markdown",
   "id": "16b4779c",
   "metadata": {},
   "source": [
    "## 9) Plotting with Matplotlib (quick intro)"
   ]
  },
  {
   "cell_type": "markdown",
   "id": "295ee290",
   "metadata": {},
   "source": [
    "### Basic Plotting in Matplotlib (via Pandas)\n",
    "\n",
    "[Matplotlib](https://matplotlib.org/) is the most widely used Python library for **data visualization**.  \n",
    "Pandas integrates directly with Matplotlib, making it easy to create quick visualizations using the `.plot()` method.\n",
    "\n",
    "---\n",
    "\n",
    "#### **1. Importing Matplotlib**\n",
    "```python\n",
    "import matplotlib.pyplot as plt"
   ]
  },
  {
   "cell_type": "code",
   "execution_count": null,
   "id": "29116d89",
   "metadata": {},
   "outputs": [],
   "source": [
    "import matplotlib.pyplot as plt\n",
    "\n",
    "ax = df.plot(\n",
    "    x='month',\n",
    "    y='monthly_recurring_revenue',\n",
    "    kind='line',\n",
    "    marker='o',\n",
    "    title='Monthly Recurring Revenue Over Time'\n",
    ")\n",
    "ax.set_ylabel('Revenue ($)')\n",
    "plt.show()"
   ]
  },
  {
   "cell_type": "markdown",
   "id": "dc6eea15",
   "metadata": {},
   "source": [
    "## 10) Errors & exceptions"
   ]
  },
  {
   "cell_type": "markdown",
   "id": "3c7dacef",
   "metadata": {},
   "source": [
    "### Errors and Exceptions in Python\n",
    "\n",
    "When you run Python code, sometimes things go wrong — files might not exist, inputs might be invalid, or you might divide by zero.  \n",
    "Python handles these situations using **exceptions**.\n",
    "\n",
    "---\n",
    "\n",
    "#### **1. What Are Exceptions?**\n",
    "- An **exception** is an error that **stops** your program unless you handle it.\n",
    "- Examples of common exceptions:\n",
    "    - `ZeroDivisionError` → dividing by zero\n",
    "    - `ValueError` → invalid data type for an operation\n",
    "    - `FileNotFoundError` → missing file\n",
    "    - `KeyError` → missing dictionary key\n",
    "\n",
    "---\n",
    "\n",
    "#### **2. Using try / except**\n",
    "You can **catch** exceptions using `try` / `except` blocks:\n",
    "\n",
    "```python\n",
    "try:\n",
    "    # Code that might fail\n",
    "    result = a / b\n",
    "except ZeroDivisionError:\n",
    "    # Code to run if division fails\n",
    "    result = float('inf')"
   ]
  },
  {
   "cell_type": "code",
   "execution_count": null,
   "id": "f1a491c5",
   "metadata": {},
   "outputs": [],
   "source": [
    "def safe_divide(a, b):\n",
    "    try:\n",
    "        return a / b\n",
    "    except ZeroDivisionError:\n",
    "        return float('inf')  # Use infinity when dividing by zero\n",
    "\n",
    "print(safe_divide(10, 2))  # → 5.0\n",
    "print(safe_divide(10, 0))  # → inf"
   ]
  },
  {
   "cell_type": "markdown",
   "id": "0ce35933",
   "metadata": {},
   "source": [
    "\n",
    "## 11) Wrap-up & next steps\n",
    "\n",
    "- Keep this notebook as your **reference**.\n",
    "- When starting any lab or problem set:\n",
    "  1. Open the *BUS_659* folder in VS Code.\n",
    "  2. **Activate** your environment (`bus_659_env`).\n",
    "  3. `pip install -r requirements.txt` if needed.\n",
    "- Explore: `help(object)`, `dir(object)`, and official docs.\n"
   ]
  }
 ],
 "metadata": {
  "kernelspec": {
   "display_name": "Python 3",
   "language": "python",
   "name": "python3"
  },
  "language_info": {
   "codemirror_mode": {
    "name": "ipython",
    "version": 3
   },
   "file_extension": ".py",
   "mimetype": "text/x-python",
   "name": "python",
   "nbconvert_exporter": "python",
   "pygments_lexer": "ipython3",
   "version": "3.13.7"
  }
 },
 "nbformat": 4,
 "nbformat_minor": 5
}
